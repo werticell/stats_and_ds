{
 "cells": [
  {
   "cell_type": "markdown",
   "metadata": {},
   "source": [
    "# Jupyter Notebook\n",
    "\n",
    "# О чём этот ноутбук\n",
    "\n",
    "**В ноутбуке есть интерактивный контент, в связи с чем мы рекомендуем просматривать его в `jupyter notebook/lab`.**\n",
    "\n",
    "<img src=\"images/jupyter_art.png\" alt=\"Jupyter Notebook\"\n",
    "\ttitle=\"Jupyter Notebook\" width=\"600\"/>\n",
    "    \n",
    "[\"Why Jupyter is data scientists’ computational notebook of choice\"](https://www.nature.com/articles/d41586-018-07196-1) — статья с таким заголовком вышла в октябрьском номере `Nature` в 2018 году (почитайте, там интересно). Она посвящена `Jupyter Notebook` — опенсорсному веб-приложению для интерактивной разработки, которое за последние несколько лет покорило сердца миллионов и стало де-факто стандартом в аналитике, науке о данных, машинном обучении и много где ещё. Количество `.ipynb`-файлов на `GitHub` выросло с $2 \\cdot 10^5$ в 2015 году до $2.5 \\cdot 10^6$ в 2018. Ниже мы разберём основные причины такой взрывной популярности:\n",
    "\n",
    "### Лабораторный журнал 21 века\n",
    "\n",
    "Работа аналитика или учёного отличается от индустриальной разработки отсутствием чёткого техзадания. В этих сферах правильная постановка задачи это уже половина решения.  На начальную фазу — тщательный анализ исходных данных (`exploratory data analysis (EDA)`) и последующую постановку гипотез — уходит много времени. Как следствие, до самого конца неясно, как организовать процесс разработки: что в итоге важно, а о чём можно будет забыть. В таких условиях тратить силы на скурпулёзное написание кода бессмысленно — на первый план выходит умение быстро прототипировать, ставить эксперименты. Кроме того, свои результаты приходится постоянно презентовать как коллегам, там и заказчику или начальству. `Jupyter Notebook` убивает этих двух зайцев одним выстрелом:\n",
    "   \n",
    "<img src=\"images/jupyter_lab.png\" alt=\"Jupyter Lab\"\n",
    "title=\"Jupyter Lab — будущее Jupyter Notebook и 'убийца RStudio' (still in beta)\" width=\"900\"/>\n",
    "\n",
    "По своей сути `Jupyter` это интерактивный лабораторный журнал: он позволяет писать код прямо в отчёте (`markdown` с формулами из `latex`), дополнять его иллюстрациями (в том числе интерактивными), пересчитывать всё на лету и обмениваться результатами в читаемом формате. Это дало новую жизнь парадигме **reproducible research** — в формате `.ipynb` или `R-Markdown` пишут [статьи](https://github.com/jupyter/jupyter/wiki/A-gallery-of-interesting-Jupyter-Notebooks#reproducible-academic-publications) и [даже книги](https://github.com/jupyter/jupyter/wiki/A-gallery-of-interesting-Jupyter-Notebooks#entire-books-or-other-large-collections-of-notebooks-on-a-topic), где заинтересованный читатель может сразу же воспроизводить описанные результаты. Автор не уверен, что впечатляет его больше — потенциальный полёт человечества к Юпитеру или то, насколько более демократичной `Jupyter Notebook` сделал высокую науку (которая, к слову, страдает от того, что [70% учёных не смогли воспроизвести чужие результаты, а ещё 50% — свои](https://www.nature.com/news/1-500-scientists-lift-the-lid-on-reproducibility-1.19970) согласно опросу в `Nature`).\n",
    "\n",
    "### Нелинейная последовательность исполнения\n",
    "\n",
    "`Jupyter` позволяет запускать клетки с кодом в произвольном порядке и, в отличие от `IPython`, в нём это делать удобно. Да, это повышает требования к разработчику (который должен помнить, какая конкретно последовательность ячеек решает задачу) и провоцирует писать очень плохой код, но в реалиях, когда полный перезапуск пайплайна требует нескольких часов на суперкомпьютере, это не прихоть, а необходимость.\n",
    "\n",
    "### Вавилонская башня от программирования\n",
    "\n",
    "Вопреки расхожему мнению, `Jupyter` поддерживает не только `Julia`, `Python` и `R` (`Ju`-`Py`-`teR`, именно потому), но [более 40 языков](https://jupyter.org), включая `C++` (да-да, компилируемый язык, [check it out](https://quantstack.net/index.html)). Более того, для того, чтобы писать код на нескольких языках одновременно (обычно это `Bash`, `Python` и `R`) не нужно создавать разные ноутбуки (об этом мы поговорим ниже). Это инструмент, который не ограничивает возможности разработчика.\n",
    "\n",
    "### Переносимость и платформонезависимость\n",
    "\n",
    "`Jupyter` позволяет развернуть дружелюбный интерфейс на любой удалённой машине, от учебного сервера до гигантской распределённой `map-reduce` сети в духе Яндексовского `YT`. Учитывая, что работать с данными на своём ноутбуке почти никогда не приходится (либо по закону нельзя, либо в оперативку не влезает), возможность оставить в прошлом сумрачную серверную консоль многие восприняли с облегчением. В сочетании с инструментами в духе `conda`, `jupyter` позволяет развернуть привычное и настроенное под себя окружение, не задумываясь о том, с каким железом и в какой системе приходится работать. Более того, `Jupyter Hub` позволяет создать точку входа, через которую над проектом могут совместно работать несколько человек. Это позволяет специалисту настроить окружение один раз, после чего им смогут пользоваться сотни человек. Неудивительно, что многие онлайн-курсы переходят на формат `jupyter`-ноутбуков. Возможно, нас это тоже ждёт.\n",
    "\n",
    "### Вывод\n",
    "\n",
    "`Jupyter`-ноутбуки это мощный инструмент, который облегчит вашу жизнь. Тем не менее, работа с ним требует дисциплины. Мы разберём как `best practices`, так и распространённые антипаттерны, которых следует избегать. Мы верим, что это сделает мир лучше.\n",
    "\n",
    "Мы разберём такие темы как:\n",
    "\n",
    "1. `jupyter_contrib_nbextensions` — плагины, которые превращают `jupyter` в удобный кодовый редактор;\n",
    "2. основы работы с командной строкой (здесь `jupyter` похож на `vim`);\n",
    "3. `jupyter magics` — метаязык, который позволяет навешивать триггеры на клетки и интерактивно менять переменные окружения. Если простыми словами, то эта штука позволяет засекать время исполнения клеток, менять формат отображения графиков, запускать внешние скрипты и многое другое, что обычно делают через терминал. Очень удобно;\n",
    "4. запуск `jupyter`-сервера на удалённой машине;\n",
    "5. полезные мелочи, которые сделают ваши ноутбуки опрятнее;"
   ]
  },
  {
   "cell_type": "markdown",
   "metadata": {},
   "source": [
    "# Основы\n",
    "\n",
    "Установка всего необходимого в `conda-env` обсуждалась в прошлом ноутбуке.  \n",
    "Для того, чтобы поднять `jupyter`-сервер, активируйте `conda-env` и наберите в терминале:\n",
    "\n",
    "```bash\n",
    "jupyter notebook\n",
    "```\n",
    "Когда вы откроете `jupyter`-ноутбук, в меню `Help` можно будет найти интерактивные вводные руководства.  \n",
    "Советуем ознакомиться с ними, если интерфейс вам вновинку.  \n",
    "\n",
    "Всего ячейки бывают трёх типов:\n",
    "- `code` — собственно, код\n",
    "- `markdown` — текст с формулами на `latex` (в одинарных или двойных $)\n",
    "- `raw` — неформатированный текст\n",
    "\n",
    "Изменить тип можно либо в меню (`Cell` —> `Cell Type`), либо с помощью клавиатурных сокращений (см. ниже).  \n",
    "В целом, базовый интерфейс довольно интуитивный, в нём полезно разобраться самостоятельно."
   ]
  },
  {
   "cell_type": "markdown",
   "metadata": {
    "ExecuteTime": {
     "end_time": "2019-10-07T23:25:05.507933Z",
     "start_time": "2019-10-07T23:25:05.505839Z"
    }
   },
   "source": [
    "# Плагины\n",
    "\n",
    "Встроенный редактор довольно удобный, но с плагинами он становится по-настоящему хорош.  \n",
    "Установка библиотеки `jupyter_contrib_nbextensions`, которая отвечает за поддержку плагинов, освещалась в прошлом ноутбуке.  \n",
    "Давайте разберёмся, какие плагины из стандартного списка наиболее полезны:\n",
    "\n",
    "- `Ruler` — отображает красным границу в 80 символов в строке. **Этот плагин нужно поставить обязательно,** чтобы не расстраивать проверяющих тем, что при конвертации в pdf у вас опять что-то не влезло в одну строку.\n",
    "- `Codefolding`, `Codefolding in editor` — незаменимый плагин, который позволяет сворачивать код для лучшей читаемости.\n",
    "- `ExecuteTime` — автоматически запоминает, когда ячейка начала выполняться и сколько времени это заняло\n",
    "- `Notify` — посылает `push`-уведомление в браузере, когда ячейка закончила выполняться (если она отрабатывала достаточно долго)\n",
    "- `Move selected cells` — позволяет одновременно перемещать выделенные ячейки вверх или вниз\n",
    "- `Limit Output` — ограничивает размер вывода ячейки. С этим плагином всё не упадёт, если из-за ошибки в коде вы решите распечатать многогигабайтную таблицу прямо в окошке браузера (бывает чаще, чем хотелось бы).\n",
    "\n",
    "Этим список плагинов не исчерпывается, остальные можете выбрать на свой вкус."
   ]
  },
  {
   "cell_type": "markdown",
   "metadata": {},
   "source": [
    "# Работа с командной строкой `Jupyter`\n",
    "\n",
    "## Command mode\n",
    "\n",
    "В `jupyter` есть `command mode` — режим, где можно вводить команды для быстрого редактирования текста. Как и в `vim`, из которого эта концепция была позаимствована, его можно активировать кнопкой `Esc`, после чего возможны варианты. `Esc + h` откроет справку:\n",
    "\n",
    "<img src=\"images/command_mode.png\" alt=\"command mode shortcuts\"\n",
    "\ttitle=\"command mode shortcuts\" width=\"600\"/>"
   ]
  },
  {
   "cell_type": "markdown",
   "metadata": {},
   "source": [
    "В ней перечислено много команд, из которых чаще всего используются такие:\n",
    "\n",
    "- `Esc + F` — найти и заменить\n",
    "\n",
    "\n",
    "- `Esc + I` — прервать исполнение\n",
    "- `Esc + 0` — перезапустить ядро\n",
    "\n",
    "\n",
    "- `Esc + Shift + ↑↓` — выделить ячейку выше/ниже текущей\n",
    "\n",
    "\n",
    "- `Esc + Ctrl + Enter` — запустить выделенные ячейки (в естественном порядке)\n",
    "\n",
    "\n",
    "- `Esc + D + D` — удалить все выделенные ячейки (включая текущую)\n",
    "- `Esc + Z` — отменить удаление ячеек\n",
    "- `Esc + C` — скопировать выделенные ячейки\n",
    "- `Esc + X` — вырезать выделенные ячейки\n",
    "- `Esc + V` — вставить ранее скопированные ячейки\n",
    "- `Esc + A` — вставить ячейку выше\n",
    "- `Esc + B` — вставить ячейку ниже\n",
    "- `Esc + Shift + M` — объединить выделенные ячейки (или текущую ячейку с нижней)\n",
    "\n",
    "\n",
    "- `Esc + M` — заменить код на markdown\n",
    "- `Esc + Y` — наоборот, markdown —> код"
   ]
  },
  {
   "cell_type": "markdown",
   "metadata": {},
   "source": [
    "## Edit mode\n",
    "\n",
    "Эти сокращения доступны в редакторе. Здесь всё стандартно. Если вы не привыкли пользоваться такими сокращениями, то настоятельно рекомендуем потратить время и научиться: это сэкономит вам много времени в будущем.\n",
    "\n",
    "<img src=\"images/edit_mode.png\" alt=\"edit mode shortcuts\"\n",
    "\ttitle=\"edit mode shortcuts\" width=\"600\"/>"
   ]
  },
  {
   "cell_type": "markdown",
   "metadata": {
    "ExecuteTime": {
     "end_time": "2019-10-07T23:23:06.687886Z",
     "start_time": "2019-10-07T23:23:06.685265Z"
    }
   },
   "source": [
    "Самые полезные команды (кроме очевидных) таковы:\n",
    "\n",
    "- `Shift + Tab` — показать описание функции (курсор должен стоять сразу после открывающей скобки)\n",
    "\n",
    "\n",
    "- `Ctrl + /` — закомментировать строку\n",
    "- `Ctrl + D` — удалить строку\n",
    "\n",
    "\n",
    "- `Ctrl + ↑` — перейти к началу ячейки\n",
    "- `Ctrl + ↓` — перейти к концу ячейки\n",
    "- `Ctrl + Shift + -` — разбить ячейку по текущей строке\n",
    "\n",
    "\n",
    "- `Shift + ↑↓` — выделить ячейку выше/ниже текущей\n",
    "- `Ctrl + Enter` — запустить выделенные ячейки\n",
    "- `Shift + Enter` — запустить ячейку и перейти на одну ниже (удобно, когда последовательно запускаете сразу много)"
   ]
  },
  {
   "cell_type": "markdown",
   "metadata": {},
   "source": [
    "# Магия `Jupyter`\n",
    "\n",
    "<img src=\"images/jupyter_magics.jpg\" alt=\"It's a kind of magic\"\n",
    "\ttitle=\"It's a kind of magic\" width=\"400\"/>\n",
    "\n",
    "`jupyter magics` — метаязык (как макросы в Си), команды которого обычно начинаются с `%` или `%%` (зависит от контекста). Работают они или нет — зависит от реализации. Стандартные `jupyter-magics` поставляются с ядром `IPython` (потому вы можете выучить их один раз, а потом пользоваться и там, и там). Для других языков или ядер набор команд может быть другим.  \n",
    "\n",
    "Давайте посмотрим, какие команды есть.  \n",
    "*P.S. Если вам захочется узнать больше, можете посмотреть [замечательный доклад с PyCon Canada](https://www.youtube.com/watch?v=zxkdO07L29Q).*"
   ]
  },
  {
   "cell_type": "code",
   "execution_count": 58,
   "metadata": {
    "ExecuteTime": {
     "end_time": "2019-10-09T17:55:19.295575Z",
     "start_time": "2019-10-09T17:55:19.284258Z"
    }
   },
   "outputs": [
    {
     "data": {
      "application/json": {
       "cell": {
        "!": "OSMagics",
        "HTML": "Other",
        "SVG": "Other",
        "bash": "Other",
        "capture": "ExecutionMagics",
        "debug": "ExecutionMagics",
        "file": "Other",
        "html": "DisplayMagics",
        "javascript": "DisplayMagics",
        "js": "DisplayMagics",
        "latex": "DisplayMagics",
        "markdown": "DisplayMagics",
        "perl": "Other",
        "prun": "ExecutionMagics",
        "pypy": "Other",
        "python": "Other",
        "python2": "Other",
        "python3": "Other",
        "ruby": "Other",
        "script": "ScriptMagics",
        "sh": "Other",
        "svg": "DisplayMagics",
        "sx": "OSMagics",
        "system": "OSMagics",
        "time": "ExecutionMagics",
        "timeit": "ExecutionMagics",
        "writefile": "OSMagics"
       },
       "line": {
        "aimport": "AutoreloadMagics",
        "alias": "OSMagics",
        "alias_magic": "BasicMagics",
        "autoawait": "AsyncMagics",
        "autocall": "AutoMagics",
        "automagic": "AutoMagics",
        "autoreload": "AutoreloadMagics",
        "autosave": "KernelMagics",
        "bookmark": "OSMagics",
        "cat": "Other",
        "cd": "OSMagics",
        "clear": "KernelMagics",
        "colors": "BasicMagics",
        "conda": "PackagingMagics",
        "config": "ConfigMagics",
        "connect_info": "KernelMagics",
        "cp": "Other",
        "debug": "ExecutionMagics",
        "dhist": "OSMagics",
        "dirs": "OSMagics",
        "doctest_mode": "BasicMagics",
        "ed": "Other",
        "edit": "KernelMagics",
        "env": "OSMagics",
        "gui": "BasicMagics",
        "hist": "Other",
        "history": "HistoryMagics",
        "killbgscripts": "ScriptMagics",
        "ldir": "Other",
        "less": "KernelMagics",
        "lf": "Other",
        "lk": "Other",
        "ll": "Other",
        "load": "CodeMagics",
        "load_ext": "ExtensionMagics",
        "loadpy": "CodeMagics",
        "logoff": "LoggingMagics",
        "logon": "LoggingMagics",
        "logstart": "LoggingMagics",
        "logstate": "LoggingMagics",
        "logstop": "LoggingMagics",
        "ls": "Other",
        "lsmagic": "BasicMagics",
        "lx": "Other",
        "macro": "ExecutionMagics",
        "magic": "BasicMagics",
        "man": "KernelMagics",
        "matplotlib": "PylabMagics",
        "mkdir": "Other",
        "more": "KernelMagics",
        "mv": "Other",
        "notebook": "BasicMagics",
        "page": "BasicMagics",
        "pastebin": "CodeMagics",
        "pdb": "ExecutionMagics",
        "pdef": "NamespaceMagics",
        "pdoc": "NamespaceMagics",
        "pfile": "NamespaceMagics",
        "pinfo": "NamespaceMagics",
        "pinfo2": "NamespaceMagics",
        "pip": "PackagingMagics",
        "popd": "OSMagics",
        "pprint": "BasicMagics",
        "precision": "BasicMagics",
        "prun": "ExecutionMagics",
        "psearch": "NamespaceMagics",
        "psource": "NamespaceMagics",
        "pushd": "OSMagics",
        "pwd": "OSMagics",
        "pycat": "OSMagics",
        "pylab": "PylabMagics",
        "qtconsole": "KernelMagics",
        "quickref": "BasicMagics",
        "recall": "HistoryMagics",
        "rehashx": "OSMagics",
        "reload_ext": "ExtensionMagics",
        "rep": "Other",
        "rerun": "HistoryMagics",
        "reset": "NamespaceMagics",
        "reset_selective": "NamespaceMagics",
        "rm": "Other",
        "rmdir": "Other",
        "run": "ExecutionMagics",
        "save": "CodeMagics",
        "sc": "OSMagics",
        "set_env": "OSMagics",
        "store": "StoreMagics",
        "sx": "OSMagics",
        "system": "OSMagics",
        "tb": "ExecutionMagics",
        "time": "ExecutionMagics",
        "timeit": "ExecutionMagics",
        "unalias": "OSMagics",
        "unload_ext": "ExtensionMagics",
        "who": "NamespaceMagics",
        "who_ls": "NamespaceMagics",
        "whos": "NamespaceMagics",
        "xdel": "NamespaceMagics",
        "xmode": "BasicMagics"
       }
      },
      "text/plain": [
       "Available line magics:\n",
       "%aimport  %alias  %alias_magic  %autoawait  %autocall  %automagic  %autoreload  %autosave  %bookmark  %cat  %cd  %clear  %colors  %conda  %config  %connect_info  %cp  %debug  %dhist  %dirs  %doctest_mode  %ed  %edit  %env  %gui  %hist  %history  %killbgscripts  %ldir  %less  %lf  %lk  %ll  %load  %load_ext  %loadpy  %logoff  %logon  %logstart  %logstate  %logstop  %ls  %lsmagic  %lx  %macro  %magic  %man  %matplotlib  %mkdir  %more  %mv  %notebook  %page  %pastebin  %pdb  %pdef  %pdoc  %pfile  %pinfo  %pinfo2  %pip  %popd  %pprint  %precision  %prun  %psearch  %psource  %pushd  %pwd  %pycat  %pylab  %qtconsole  %quickref  %recall  %rehashx  %reload_ext  %rep  %rerun  %reset  %reset_selective  %rm  %rmdir  %run  %save  %sc  %set_env  %store  %sx  %system  %tb  %time  %timeit  %unalias  %unload_ext  %who  %who_ls  %whos  %xdel  %xmode\n",
       "\n",
       "Available cell magics:\n",
       "%%!  %%HTML  %%SVG  %%bash  %%capture  %%debug  %%file  %%html  %%javascript  %%js  %%latex  %%markdown  %%perl  %%prun  %%pypy  %%python  %%python2  %%python3  %%ruby  %%script  %%sh  %%svg  %%sx  %%system  %%time  %%timeit  %%writefile\n",
       "\n",
       "Automagic is ON, % prefix IS NOT needed for line magics."
      ]
     },
     "execution_count": 58,
     "metadata": {},
     "output_type": "execute_result"
    }
   ],
   "source": [
    "%lsmagic"
   ]
  },
  {
   "cell_type": "markdown",
   "metadata": {},
   "source": [
    "А если вы хотите почитать краткую справку по `IPython` (по сути, краткий конспект этого раздела), используйте команду"
   ]
  },
  {
   "cell_type": "code",
   "execution_count": 59,
   "metadata": {
    "ExecuteTime": {
     "end_time": "2019-10-09T17:55:19.887868Z",
     "start_time": "2019-10-09T17:55:19.876857Z"
    }
   },
   "outputs": [],
   "source": [
    "%quickref"
   ]
  },
  {
   "cell_type": "markdown",
   "metadata": {},
   "source": [
    "Видно, что команды делятся на два типа: `line magics` и `cell magics`. Как следует из названия, разница между ними в том, что `cell magics` влияют на состояние всей ячейки (и работают только если написаны в самом её начале), в то время как `line magics` могут быть написаны в любом месте и либо влияют на строку с кодом (скажем, замеряют время исполнения, как `%timeit`), либо выполняют какую-то системную команду (как `%ls`). Если вы забыли, что делает конкретная команда, то добавьте перед ней знак вопроса — откроется справка."
   ]
  },
  {
   "cell_type": "code",
   "execution_count": 2,
   "metadata": {
    "ExecuteTime": {
     "end_time": "2019-10-09T17:55:20.256519Z",
     "start_time": "2019-10-09T17:55:20.246267Z"
    }
   },
   "outputs": [],
   "source": [
    "?%time "
   ]
  },
  {
   "cell_type": "markdown",
   "metadata": {
    "ExecuteTime": {
     "end_time": "2019-10-07T23:55:12.935642Z",
     "start_time": "2019-10-07T23:54:27.151676Z"
    }
   },
   "source": [
    "К слову, таким же образом можно вызвать справку для произвольной функции. Синтаксис привычен тем, кто работал с `R`:"
   ]
  },
  {
   "cell_type": "code",
   "execution_count": 6,
   "metadata": {
    "ExecuteTime": {
     "end_time": "2019-10-07T23:56:53.714515Z",
     "start_time": "2019-10-07T23:56:53.695531Z"
    }
   },
   "outputs": [],
   "source": [
    "?range"
   ]
  },
  {
   "cell_type": "markdown",
   "metadata": {},
   "source": [
    "Давайте посмотрим на эти команды поближе:"
   ]
  },
  {
   "cell_type": "markdown",
   "metadata": {},
   "source": [
    "### `%load_ext`, `%autoreload`\n",
    "\n",
    "`%load_ext` позволяет загружать сторонние модули (например, `Cython`).  \n",
    "Нам важно, что с её помощью можно активировать самую важную команду — `%autoreload`. \n",
    "Без неё вам пришлось бы перезапускать ядро каждый раз, когда вы меняете библиотеки со своим кодом. `autoreload` делает это за вас, в больших проектах это незаменимо."
   ]
  },
  {
   "cell_type": "code",
   "execution_count": 71,
   "metadata": {
    "ExecuteTime": {
     "end_time": "2019-10-09T17:56:53.733847Z",
     "start_time": "2019-10-09T17:56:53.722628Z"
    }
   },
   "outputs": [
    {
     "name": "stdout",
     "output_type": "stream",
     "text": [
      "The autoreload extension is already loaded. To reload it, use:\n",
      "  %reload_ext autoreload\n"
     ]
    }
   ],
   "source": [
    "%load_ext autoreload\n",
    "# здесь 2 означает, что все библиотеки будут подгружаться заново,\n",
    "# если только явно не указано иное\n",
    "%autoreload 2 \n",
    "\n",
    "import jupyter_lesson"
   ]
  },
  {
   "cell_type": "markdown",
   "metadata": {},
   "source": [
    "### `%matplotlib`\n",
    "\n",
    "Скорее всего, эту команду вам придётся писать в начале каждого домашнего задания.  \n",
    "Она определяет, каким образом будут отображаться ваши графики. Есть два основных варианта: `inline` и `notebook`.  \n",
    "Разберёмся, в чём между ними разница:"
   ]
  },
  {
   "cell_type": "code",
   "execution_count": 76,
   "metadata": {
    "ExecuteTime": {
     "end_time": "2019-10-09T17:57:35.330836Z",
     "start_time": "2019-10-09T17:57:35.083537Z"
    }
   },
   "outputs": [
    {
     "data": {
      "application/javascript": [
       "/* Put everything inside the global mpl namespace */\n",
       "window.mpl = {};\n",
       "\n",
       "\n",
       "mpl.get_websocket_type = function() {\n",
       "    if (typeof(WebSocket) !== 'undefined') {\n",
       "        return WebSocket;\n",
       "    } else if (typeof(MozWebSocket) !== 'undefined') {\n",
       "        return MozWebSocket;\n",
       "    } else {\n",
       "        alert('Your browser does not have WebSocket support. ' +\n",
       "              'Please try Chrome, Safari or Firefox ≥ 6. ' +\n",
       "              'Firefox 4 and 5 are also supported but you ' +\n",
       "              'have to enable WebSockets in about:config.');\n",
       "    };\n",
       "}\n",
       "\n",
       "mpl.figure = function(figure_id, websocket, ondownload, parent_element) {\n",
       "    this.id = figure_id;\n",
       "\n",
       "    this.ws = websocket;\n",
       "\n",
       "    this.supports_binary = (this.ws.binaryType != undefined);\n",
       "\n",
       "    if (!this.supports_binary) {\n",
       "        var warnings = document.getElementById(\"mpl-warnings\");\n",
       "        if (warnings) {\n",
       "            warnings.style.display = 'block';\n",
       "            warnings.textContent = (\n",
       "                \"This browser does not support binary websocket messages. \" +\n",
       "                    \"Performance may be slow.\");\n",
       "        }\n",
       "    }\n",
       "\n",
       "    this.imageObj = new Image();\n",
       "\n",
       "    this.context = undefined;\n",
       "    this.message = undefined;\n",
       "    this.canvas = undefined;\n",
       "    this.rubberband_canvas = undefined;\n",
       "    this.rubberband_context = undefined;\n",
       "    this.format_dropdown = undefined;\n",
       "\n",
       "    this.image_mode = 'full';\n",
       "\n",
       "    this.root = $('<div/>');\n",
       "    this._root_extra_style(this.root)\n",
       "    this.root.attr('style', 'display: inline-block');\n",
       "\n",
       "    $(parent_element).append(this.root);\n",
       "\n",
       "    this._init_header(this);\n",
       "    this._init_canvas(this);\n",
       "    this._init_toolbar(this);\n",
       "\n",
       "    var fig = this;\n",
       "\n",
       "    this.waiting = false;\n",
       "\n",
       "    this.ws.onopen =  function () {\n",
       "            fig.send_message(\"supports_binary\", {value: fig.supports_binary});\n",
       "            fig.send_message(\"send_image_mode\", {});\n",
       "            if (mpl.ratio != 1) {\n",
       "                fig.send_message(\"set_dpi_ratio\", {'dpi_ratio': mpl.ratio});\n",
       "            }\n",
       "            fig.send_message(\"refresh\", {});\n",
       "        }\n",
       "\n",
       "    this.imageObj.onload = function() {\n",
       "            if (fig.image_mode == 'full') {\n",
       "                // Full images could contain transparency (where diff images\n",
       "                // almost always do), so we need to clear the canvas so that\n",
       "                // there is no ghosting.\n",
       "                fig.context.clearRect(0, 0, fig.canvas.width, fig.canvas.height);\n",
       "            }\n",
       "            fig.context.drawImage(fig.imageObj, 0, 0);\n",
       "        };\n",
       "\n",
       "    this.imageObj.onunload = function() {\n",
       "        fig.ws.close();\n",
       "    }\n",
       "\n",
       "    this.ws.onmessage = this._make_on_message_function(this);\n",
       "\n",
       "    this.ondownload = ondownload;\n",
       "}\n",
       "\n",
       "mpl.figure.prototype._init_header = function() {\n",
       "    var titlebar = $(\n",
       "        '<div class=\"ui-dialog-titlebar ui-widget-header ui-corner-all ' +\n",
       "        'ui-helper-clearfix\"/>');\n",
       "    var titletext = $(\n",
       "        '<div class=\"ui-dialog-title\" style=\"width: 100%; ' +\n",
       "        'text-align: center; padding: 3px;\"/>');\n",
       "    titlebar.append(titletext)\n",
       "    this.root.append(titlebar);\n",
       "    this.header = titletext[0];\n",
       "}\n",
       "\n",
       "\n",
       "\n",
       "mpl.figure.prototype._canvas_extra_style = function(canvas_div) {\n",
       "\n",
       "}\n",
       "\n",
       "\n",
       "mpl.figure.prototype._root_extra_style = function(canvas_div) {\n",
       "\n",
       "}\n",
       "\n",
       "mpl.figure.prototype._init_canvas = function() {\n",
       "    var fig = this;\n",
       "\n",
       "    var canvas_div = $('<div/>');\n",
       "\n",
       "    canvas_div.attr('style', 'position: relative; clear: both; outline: 0');\n",
       "\n",
       "    function canvas_keyboard_event(event) {\n",
       "        return fig.key_event(event, event['data']);\n",
       "    }\n",
       "\n",
       "    canvas_div.keydown('key_press', canvas_keyboard_event);\n",
       "    canvas_div.keyup('key_release', canvas_keyboard_event);\n",
       "    this.canvas_div = canvas_div\n",
       "    this._canvas_extra_style(canvas_div)\n",
       "    this.root.append(canvas_div);\n",
       "\n",
       "    var canvas = $('<canvas/>');\n",
       "    canvas.addClass('mpl-canvas');\n",
       "    canvas.attr('style', \"left: 0; top: 0; z-index: 0; outline: 0\")\n",
       "\n",
       "    this.canvas = canvas[0];\n",
       "    this.context = canvas[0].getContext(\"2d\");\n",
       "\n",
       "    var backingStore = this.context.backingStorePixelRatio ||\n",
       "\tthis.context.webkitBackingStorePixelRatio ||\n",
       "\tthis.context.mozBackingStorePixelRatio ||\n",
       "\tthis.context.msBackingStorePixelRatio ||\n",
       "\tthis.context.oBackingStorePixelRatio ||\n",
       "\tthis.context.backingStorePixelRatio || 1;\n",
       "\n",
       "    mpl.ratio = (window.devicePixelRatio || 1) / backingStore;\n",
       "\n",
       "    var rubberband = $('<canvas/>');\n",
       "    rubberband.attr('style', \"position: absolute; left: 0; top: 0; z-index: 1;\")\n",
       "\n",
       "    var pass_mouse_events = true;\n",
       "\n",
       "    canvas_div.resizable({\n",
       "        start: function(event, ui) {\n",
       "            pass_mouse_events = false;\n",
       "        },\n",
       "        resize: function(event, ui) {\n",
       "            fig.request_resize(ui.size.width, ui.size.height);\n",
       "        },\n",
       "        stop: function(event, ui) {\n",
       "            pass_mouse_events = true;\n",
       "            fig.request_resize(ui.size.width, ui.size.height);\n",
       "        },\n",
       "    });\n",
       "\n",
       "    function mouse_event_fn(event) {\n",
       "        if (pass_mouse_events)\n",
       "            return fig.mouse_event(event, event['data']);\n",
       "    }\n",
       "\n",
       "    rubberband.mousedown('button_press', mouse_event_fn);\n",
       "    rubberband.mouseup('button_release', mouse_event_fn);\n",
       "    // Throttle sequential mouse events to 1 every 20ms.\n",
       "    rubberband.mousemove('motion_notify', mouse_event_fn);\n",
       "\n",
       "    rubberband.mouseenter('figure_enter', mouse_event_fn);\n",
       "    rubberband.mouseleave('figure_leave', mouse_event_fn);\n",
       "\n",
       "    canvas_div.on(\"wheel\", function (event) {\n",
       "        event = event.originalEvent;\n",
       "        event['data'] = 'scroll'\n",
       "        if (event.deltaY < 0) {\n",
       "            event.step = 1;\n",
       "        } else {\n",
       "            event.step = -1;\n",
       "        }\n",
       "        mouse_event_fn(event);\n",
       "    });\n",
       "\n",
       "    canvas_div.append(canvas);\n",
       "    canvas_div.append(rubberband);\n",
       "\n",
       "    this.rubberband = rubberband;\n",
       "    this.rubberband_canvas = rubberband[0];\n",
       "    this.rubberband_context = rubberband[0].getContext(\"2d\");\n",
       "    this.rubberband_context.strokeStyle = \"#000000\";\n",
       "\n",
       "    this._resize_canvas = function(width, height) {\n",
       "        // Keep the size of the canvas, canvas container, and rubber band\n",
       "        // canvas in synch.\n",
       "        canvas_div.css('width', width)\n",
       "        canvas_div.css('height', height)\n",
       "\n",
       "        canvas.attr('width', width * mpl.ratio);\n",
       "        canvas.attr('height', height * mpl.ratio);\n",
       "        canvas.attr('style', 'width: ' + width + 'px; height: ' + height + 'px;');\n",
       "\n",
       "        rubberband.attr('width', width);\n",
       "        rubberband.attr('height', height);\n",
       "    }\n",
       "\n",
       "    // Set the figure to an initial 600x600px, this will subsequently be updated\n",
       "    // upon first draw.\n",
       "    this._resize_canvas(600, 600);\n",
       "\n",
       "    // Disable right mouse context menu.\n",
       "    $(this.rubberband_canvas).bind(\"contextmenu\",function(e){\n",
       "        return false;\n",
       "    });\n",
       "\n",
       "    function set_focus () {\n",
       "        canvas.focus();\n",
       "        canvas_div.focus();\n",
       "    }\n",
       "\n",
       "    window.setTimeout(set_focus, 100);\n",
       "}\n",
       "\n",
       "mpl.figure.prototype._init_toolbar = function() {\n",
       "    var fig = this;\n",
       "\n",
       "    var nav_element = $('<div/>');\n",
       "    nav_element.attr('style', 'width: 100%');\n",
       "    this.root.append(nav_element);\n",
       "\n",
       "    // Define a callback function for later on.\n",
       "    function toolbar_event(event) {\n",
       "        return fig.toolbar_button_onclick(event['data']);\n",
       "    }\n",
       "    function toolbar_mouse_event(event) {\n",
       "        return fig.toolbar_button_onmouseover(event['data']);\n",
       "    }\n",
       "\n",
       "    for(var toolbar_ind in mpl.toolbar_items) {\n",
       "        var name = mpl.toolbar_items[toolbar_ind][0];\n",
       "        var tooltip = mpl.toolbar_items[toolbar_ind][1];\n",
       "        var image = mpl.toolbar_items[toolbar_ind][2];\n",
       "        var method_name = mpl.toolbar_items[toolbar_ind][3];\n",
       "\n",
       "        if (!name) {\n",
       "            // put a spacer in here.\n",
       "            continue;\n",
       "        }\n",
       "        var button = $('<button/>');\n",
       "        button.addClass('ui-button ui-widget ui-state-default ui-corner-all ' +\n",
       "                        'ui-button-icon-only');\n",
       "        button.attr('role', 'button');\n",
       "        button.attr('aria-disabled', 'false');\n",
       "        button.click(method_name, toolbar_event);\n",
       "        button.mouseover(tooltip, toolbar_mouse_event);\n",
       "\n",
       "        var icon_img = $('<span/>');\n",
       "        icon_img.addClass('ui-button-icon-primary ui-icon');\n",
       "        icon_img.addClass(image);\n",
       "        icon_img.addClass('ui-corner-all');\n",
       "\n",
       "        var tooltip_span = $('<span/>');\n",
       "        tooltip_span.addClass('ui-button-text');\n",
       "        tooltip_span.html(tooltip);\n",
       "\n",
       "        button.append(icon_img);\n",
       "        button.append(tooltip_span);\n",
       "\n",
       "        nav_element.append(button);\n",
       "    }\n",
       "\n",
       "    var fmt_picker_span = $('<span/>');\n",
       "\n",
       "    var fmt_picker = $('<select/>');\n",
       "    fmt_picker.addClass('mpl-toolbar-option ui-widget ui-widget-content');\n",
       "    fmt_picker_span.append(fmt_picker);\n",
       "    nav_element.append(fmt_picker_span);\n",
       "    this.format_dropdown = fmt_picker[0];\n",
       "\n",
       "    for (var ind in mpl.extensions) {\n",
       "        var fmt = mpl.extensions[ind];\n",
       "        var option = $(\n",
       "            '<option/>', {selected: fmt === mpl.default_extension}).html(fmt);\n",
       "        fmt_picker.append(option);\n",
       "    }\n",
       "\n",
       "    // Add hover states to the ui-buttons\n",
       "    $( \".ui-button\" ).hover(\n",
       "        function() { $(this).addClass(\"ui-state-hover\");},\n",
       "        function() { $(this).removeClass(\"ui-state-hover\");}\n",
       "    );\n",
       "\n",
       "    var status_bar = $('<span class=\"mpl-message\"/>');\n",
       "    nav_element.append(status_bar);\n",
       "    this.message = status_bar[0];\n",
       "}\n",
       "\n",
       "mpl.figure.prototype.request_resize = function(x_pixels, y_pixels) {\n",
       "    // Request matplotlib to resize the figure. Matplotlib will then trigger a resize in the client,\n",
       "    // which will in turn request a refresh of the image.\n",
       "    this.send_message('resize', {'width': x_pixels, 'height': y_pixels});\n",
       "}\n",
       "\n",
       "mpl.figure.prototype.send_message = function(type, properties) {\n",
       "    properties['type'] = type;\n",
       "    properties['figure_id'] = this.id;\n",
       "    this.ws.send(JSON.stringify(properties));\n",
       "}\n",
       "\n",
       "mpl.figure.prototype.send_draw_message = function() {\n",
       "    if (!this.waiting) {\n",
       "        this.waiting = true;\n",
       "        this.ws.send(JSON.stringify({type: \"draw\", figure_id: this.id}));\n",
       "    }\n",
       "}\n",
       "\n",
       "\n",
       "mpl.figure.prototype.handle_save = function(fig, msg) {\n",
       "    var format_dropdown = fig.format_dropdown;\n",
       "    var format = format_dropdown.options[format_dropdown.selectedIndex].value;\n",
       "    fig.ondownload(fig, format);\n",
       "}\n",
       "\n",
       "\n",
       "mpl.figure.prototype.handle_resize = function(fig, msg) {\n",
       "    var size = msg['size'];\n",
       "    if (size[0] != fig.canvas.width || size[1] != fig.canvas.height) {\n",
       "        fig._resize_canvas(size[0], size[1]);\n",
       "        fig.send_message(\"refresh\", {});\n",
       "    };\n",
       "}\n",
       "\n",
       "mpl.figure.prototype.handle_rubberband = function(fig, msg) {\n",
       "    var x0 = msg['x0'] / mpl.ratio;\n",
       "    var y0 = (fig.canvas.height - msg['y0']) / mpl.ratio;\n",
       "    var x1 = msg['x1'] / mpl.ratio;\n",
       "    var y1 = (fig.canvas.height - msg['y1']) / mpl.ratio;\n",
       "    x0 = Math.floor(x0) + 0.5;\n",
       "    y0 = Math.floor(y0) + 0.5;\n",
       "    x1 = Math.floor(x1) + 0.5;\n",
       "    y1 = Math.floor(y1) + 0.5;\n",
       "    var min_x = Math.min(x0, x1);\n",
       "    var min_y = Math.min(y0, y1);\n",
       "    var width = Math.abs(x1 - x0);\n",
       "    var height = Math.abs(y1 - y0);\n",
       "\n",
       "    fig.rubberband_context.clearRect(\n",
       "        0, 0, fig.canvas.width / mpl.ratio, fig.canvas.height / mpl.ratio);\n",
       "\n",
       "    fig.rubberband_context.strokeRect(min_x, min_y, width, height);\n",
       "}\n",
       "\n",
       "mpl.figure.prototype.handle_figure_label = function(fig, msg) {\n",
       "    // Updates the figure title.\n",
       "    fig.header.textContent = msg['label'];\n",
       "}\n",
       "\n",
       "mpl.figure.prototype.handle_cursor = function(fig, msg) {\n",
       "    var cursor = msg['cursor'];\n",
       "    switch(cursor)\n",
       "    {\n",
       "    case 0:\n",
       "        cursor = 'pointer';\n",
       "        break;\n",
       "    case 1:\n",
       "        cursor = 'default';\n",
       "        break;\n",
       "    case 2:\n",
       "        cursor = 'crosshair';\n",
       "        break;\n",
       "    case 3:\n",
       "        cursor = 'move';\n",
       "        break;\n",
       "    }\n",
       "    fig.rubberband_canvas.style.cursor = cursor;\n",
       "}\n",
       "\n",
       "mpl.figure.prototype.handle_message = function(fig, msg) {\n",
       "    fig.message.textContent = msg['message'];\n",
       "}\n",
       "\n",
       "mpl.figure.prototype.handle_draw = function(fig, msg) {\n",
       "    // Request the server to send over a new figure.\n",
       "    fig.send_draw_message();\n",
       "}\n",
       "\n",
       "mpl.figure.prototype.handle_image_mode = function(fig, msg) {\n",
       "    fig.image_mode = msg['mode'];\n",
       "}\n",
       "\n",
       "mpl.figure.prototype.updated_canvas_event = function() {\n",
       "    // Called whenever the canvas gets updated.\n",
       "    this.send_message(\"ack\", {});\n",
       "}\n",
       "\n",
       "// A function to construct a web socket function for onmessage handling.\n",
       "// Called in the figure constructor.\n",
       "mpl.figure.prototype._make_on_message_function = function(fig) {\n",
       "    return function socket_on_message(evt) {\n",
       "        if (evt.data instanceof Blob) {\n",
       "            /* FIXME: We get \"Resource interpreted as Image but\n",
       "             * transferred with MIME type text/plain:\" errors on\n",
       "             * Chrome.  But how to set the MIME type?  It doesn't seem\n",
       "             * to be part of the websocket stream */\n",
       "            evt.data.type = \"image/png\";\n",
       "\n",
       "            /* Free the memory for the previous frames */\n",
       "            if (fig.imageObj.src) {\n",
       "                (window.URL || window.webkitURL).revokeObjectURL(\n",
       "                    fig.imageObj.src);\n",
       "            }\n",
       "\n",
       "            fig.imageObj.src = (window.URL || window.webkitURL).createObjectURL(\n",
       "                evt.data);\n",
       "            fig.updated_canvas_event();\n",
       "            fig.waiting = false;\n",
       "            return;\n",
       "        }\n",
       "        else if (typeof evt.data === 'string' && evt.data.slice(0, 21) == \"data:image/png;base64\") {\n",
       "            fig.imageObj.src = evt.data;\n",
       "            fig.updated_canvas_event();\n",
       "            fig.waiting = false;\n",
       "            return;\n",
       "        }\n",
       "\n",
       "        var msg = JSON.parse(evt.data);\n",
       "        var msg_type = msg['type'];\n",
       "\n",
       "        // Call the  \"handle_{type}\" callback, which takes\n",
       "        // the figure and JSON message as its only arguments.\n",
       "        try {\n",
       "            var callback = fig[\"handle_\" + msg_type];\n",
       "        } catch (e) {\n",
       "            console.log(\"No handler for the '\" + msg_type + \"' message type: \", msg);\n",
       "            return;\n",
       "        }\n",
       "\n",
       "        if (callback) {\n",
       "            try {\n",
       "                // console.log(\"Handling '\" + msg_type + \"' message: \", msg);\n",
       "                callback(fig, msg);\n",
       "            } catch (e) {\n",
       "                console.log(\"Exception inside the 'handler_\" + msg_type + \"' callback:\", e, e.stack, msg);\n",
       "            }\n",
       "        }\n",
       "    };\n",
       "}\n",
       "\n",
       "// from http://stackoverflow.com/questions/1114465/getting-mouse-location-in-canvas\n",
       "mpl.findpos = function(e) {\n",
       "    //this section is from http://www.quirksmode.org/js/events_properties.html\n",
       "    var targ;\n",
       "    if (!e)\n",
       "        e = window.event;\n",
       "    if (e.target)\n",
       "        targ = e.target;\n",
       "    else if (e.srcElement)\n",
       "        targ = e.srcElement;\n",
       "    if (targ.nodeType == 3) // defeat Safari bug\n",
       "        targ = targ.parentNode;\n",
       "\n",
       "    // jQuery normalizes the pageX and pageY\n",
       "    // pageX,Y are the mouse positions relative to the document\n",
       "    // offset() returns the position of the element relative to the document\n",
       "    var x = e.pageX - $(targ).offset().left;\n",
       "    var y = e.pageY - $(targ).offset().top;\n",
       "\n",
       "    return {\"x\": x, \"y\": y};\n",
       "};\n",
       "\n",
       "/*\n",
       " * return a copy of an object with only non-object keys\n",
       " * we need this to avoid circular references\n",
       " * http://stackoverflow.com/a/24161582/3208463\n",
       " */\n",
       "function simpleKeys (original) {\n",
       "  return Object.keys(original).reduce(function (obj, key) {\n",
       "    if (typeof original[key] !== 'object')\n",
       "        obj[key] = original[key]\n",
       "    return obj;\n",
       "  }, {});\n",
       "}\n",
       "\n",
       "mpl.figure.prototype.mouse_event = function(event, name) {\n",
       "    var canvas_pos = mpl.findpos(event)\n",
       "\n",
       "    if (name === 'button_press')\n",
       "    {\n",
       "        this.canvas.focus();\n",
       "        this.canvas_div.focus();\n",
       "    }\n",
       "\n",
       "    var x = canvas_pos.x * mpl.ratio;\n",
       "    var y = canvas_pos.y * mpl.ratio;\n",
       "\n",
       "    this.send_message(name, {x: x, y: y, button: event.button,\n",
       "                             step: event.step,\n",
       "                             guiEvent: simpleKeys(event)});\n",
       "\n",
       "    /* This prevents the web browser from automatically changing to\n",
       "     * the text insertion cursor when the button is pressed.  We want\n",
       "     * to control all of the cursor setting manually through the\n",
       "     * 'cursor' event from matplotlib */\n",
       "    event.preventDefault();\n",
       "    return false;\n",
       "}\n",
       "\n",
       "mpl.figure.prototype._key_event_extra = function(event, name) {\n",
       "    // Handle any extra behaviour associated with a key event\n",
       "}\n",
       "\n",
       "mpl.figure.prototype.key_event = function(event, name) {\n",
       "\n",
       "    // Prevent repeat events\n",
       "    if (name == 'key_press')\n",
       "    {\n",
       "        if (event.which === this._key)\n",
       "            return;\n",
       "        else\n",
       "            this._key = event.which;\n",
       "    }\n",
       "    if (name == 'key_release')\n",
       "        this._key = null;\n",
       "\n",
       "    var value = '';\n",
       "    if (event.ctrlKey && event.which != 17)\n",
       "        value += \"ctrl+\";\n",
       "    if (event.altKey && event.which != 18)\n",
       "        value += \"alt+\";\n",
       "    if (event.shiftKey && event.which != 16)\n",
       "        value += \"shift+\";\n",
       "\n",
       "    value += 'k';\n",
       "    value += event.which.toString();\n",
       "\n",
       "    this._key_event_extra(event, name);\n",
       "\n",
       "    this.send_message(name, {key: value,\n",
       "                             guiEvent: simpleKeys(event)});\n",
       "    return false;\n",
       "}\n",
       "\n",
       "mpl.figure.prototype.toolbar_button_onclick = function(name) {\n",
       "    if (name == 'download') {\n",
       "        this.handle_save(this, null);\n",
       "    } else {\n",
       "        this.send_message(\"toolbar_button\", {name: name});\n",
       "    }\n",
       "};\n",
       "\n",
       "mpl.figure.prototype.toolbar_button_onmouseover = function(tooltip) {\n",
       "    this.message.textContent = tooltip;\n",
       "};\n",
       "mpl.toolbar_items = [[\"Home\", \"Reset original view\", \"fa fa-home icon-home\", \"home\"], [\"Back\", \"Back to previous view\", \"fa fa-arrow-left icon-arrow-left\", \"back\"], [\"Forward\", \"Forward to next view\", \"fa fa-arrow-right icon-arrow-right\", \"forward\"], [\"\", \"\", \"\", \"\"], [\"Pan\", \"Pan axes with left mouse, zoom with right\", \"fa fa-arrows icon-move\", \"pan\"], [\"Zoom\", \"Zoom to rectangle\", \"fa fa-square-o icon-check-empty\", \"zoom\"], [\"\", \"\", \"\", \"\"], [\"Download\", \"Download plot\", \"fa fa-floppy-o icon-save\", \"download\"]];\n",
       "\n",
       "mpl.extensions = [\"eps\", \"jpeg\", \"pdf\", \"png\", \"ps\", \"raw\", \"svg\", \"tif\"];\n",
       "\n",
       "mpl.default_extension = \"png\";var comm_websocket_adapter = function(comm) {\n",
       "    // Create a \"websocket\"-like object which calls the given IPython comm\n",
       "    // object with the appropriate methods. Currently this is a non binary\n",
       "    // socket, so there is still some room for performance tuning.\n",
       "    var ws = {};\n",
       "\n",
       "    ws.close = function() {\n",
       "        comm.close()\n",
       "    };\n",
       "    ws.send = function(m) {\n",
       "        //console.log('sending', m);\n",
       "        comm.send(m);\n",
       "    };\n",
       "    // Register the callback with on_msg.\n",
       "    comm.on_msg(function(msg) {\n",
       "        //console.log('receiving', msg['content']['data'], msg);\n",
       "        // Pass the mpl event to the overridden (by mpl) onmessage function.\n",
       "        ws.onmessage(msg['content']['data'])\n",
       "    });\n",
       "    return ws;\n",
       "}\n",
       "\n",
       "mpl.mpl_figure_comm = function(comm, msg) {\n",
       "    // This is the function which gets called when the mpl process\n",
       "    // starts-up an IPython Comm through the \"matplotlib\" channel.\n",
       "\n",
       "    var id = msg.content.data.id;\n",
       "    // Get hold of the div created by the display call when the Comm\n",
       "    // socket was opened in Python.\n",
       "    var element = $(\"#\" + id);\n",
       "    var ws_proxy = comm_websocket_adapter(comm)\n",
       "\n",
       "    function ondownload(figure, format) {\n",
       "        window.open(figure.imageObj.src);\n",
       "    }\n",
       "\n",
       "    var fig = new mpl.figure(id, ws_proxy,\n",
       "                           ondownload,\n",
       "                           element.get(0));\n",
       "\n",
       "    // Call onopen now - mpl needs it, as it is assuming we've passed it a real\n",
       "    // web socket which is closed, not our websocket->open comm proxy.\n",
       "    ws_proxy.onopen();\n",
       "\n",
       "    fig.parent_element = element.get(0);\n",
       "    fig.cell_info = mpl.find_output_cell(\"<div id='\" + id + \"'></div>\");\n",
       "    if (!fig.cell_info) {\n",
       "        console.error(\"Failed to find cell for figure\", id, fig);\n",
       "        return;\n",
       "    }\n",
       "\n",
       "    var output_index = fig.cell_info[2]\n",
       "    var cell = fig.cell_info[0];\n",
       "\n",
       "};\n",
       "\n",
       "mpl.figure.prototype.handle_close = function(fig, msg) {\n",
       "    var width = fig.canvas.width/mpl.ratio\n",
       "    fig.root.unbind('remove')\n",
       "\n",
       "    // Update the output cell to use the data from the current canvas.\n",
       "    fig.push_to_output();\n",
       "    var dataURL = fig.canvas.toDataURL();\n",
       "    // Re-enable the keyboard manager in IPython - without this line, in FF,\n",
       "    // the notebook keyboard shortcuts fail.\n",
       "    IPython.keyboard_manager.enable()\n",
       "    $(fig.parent_element).html('<img src=\"' + dataURL + '\" width=\"' + width + '\">');\n",
       "    fig.close_ws(fig, msg);\n",
       "}\n",
       "\n",
       "mpl.figure.prototype.close_ws = function(fig, msg){\n",
       "    fig.send_message('closing', msg);\n",
       "    // fig.ws.close()\n",
       "}\n",
       "\n",
       "mpl.figure.prototype.push_to_output = function(remove_interactive) {\n",
       "    // Turn the data on the canvas into data in the output cell.\n",
       "    var width = this.canvas.width/mpl.ratio\n",
       "    var dataURL = this.canvas.toDataURL();\n",
       "    this.cell_info[1]['text/html'] = '<img src=\"' + dataURL + '\" width=\"' + width + '\">';\n",
       "}\n",
       "\n",
       "mpl.figure.prototype.updated_canvas_event = function() {\n",
       "    // Tell IPython that the notebook contents must change.\n",
       "    IPython.notebook.set_dirty(true);\n",
       "    this.send_message(\"ack\", {});\n",
       "    var fig = this;\n",
       "    // Wait a second, then push the new image to the DOM so\n",
       "    // that it is saved nicely (might be nice to debounce this).\n",
       "    setTimeout(function () { fig.push_to_output() }, 1000);\n",
       "}\n",
       "\n",
       "mpl.figure.prototype._init_toolbar = function() {\n",
       "    var fig = this;\n",
       "\n",
       "    var nav_element = $('<div/>');\n",
       "    nav_element.attr('style', 'width: 100%');\n",
       "    this.root.append(nav_element);\n",
       "\n",
       "    // Define a callback function for later on.\n",
       "    function toolbar_event(event) {\n",
       "        return fig.toolbar_button_onclick(event['data']);\n",
       "    }\n",
       "    function toolbar_mouse_event(event) {\n",
       "        return fig.toolbar_button_onmouseover(event['data']);\n",
       "    }\n",
       "\n",
       "    for(var toolbar_ind in mpl.toolbar_items){\n",
       "        var name = mpl.toolbar_items[toolbar_ind][0];\n",
       "        var tooltip = mpl.toolbar_items[toolbar_ind][1];\n",
       "        var image = mpl.toolbar_items[toolbar_ind][2];\n",
       "        var method_name = mpl.toolbar_items[toolbar_ind][3];\n",
       "\n",
       "        if (!name) { continue; };\n",
       "\n",
       "        var button = $('<button class=\"btn btn-default\" href=\"#\" title=\"' + name + '\"><i class=\"fa ' + image + ' fa-lg\"></i></button>');\n",
       "        button.click(method_name, toolbar_event);\n",
       "        button.mouseover(tooltip, toolbar_mouse_event);\n",
       "        nav_element.append(button);\n",
       "    }\n",
       "\n",
       "    // Add the status bar.\n",
       "    var status_bar = $('<span class=\"mpl-message\" style=\"text-align:right; float: right;\"/>');\n",
       "    nav_element.append(status_bar);\n",
       "    this.message = status_bar[0];\n",
       "\n",
       "    // Add the close button to the window.\n",
       "    var buttongrp = $('<div class=\"btn-group inline pull-right\"></div>');\n",
       "    var button = $('<button class=\"btn btn-mini btn-primary\" href=\"#\" title=\"Stop Interaction\"><i class=\"fa fa-power-off icon-remove icon-large\"></i></button>');\n",
       "    button.click(function (evt) { fig.handle_close(fig, {}); } );\n",
       "    button.mouseover('Stop Interaction', toolbar_mouse_event);\n",
       "    buttongrp.append(button);\n",
       "    var titlebar = this.root.find($('.ui-dialog-titlebar'));\n",
       "    titlebar.prepend(buttongrp);\n",
       "}\n",
       "\n",
       "mpl.figure.prototype._root_extra_style = function(el){\n",
       "    var fig = this\n",
       "    el.on(\"remove\", function(){\n",
       "\tfig.close_ws(fig, {});\n",
       "    });\n",
       "}\n",
       "\n",
       "mpl.figure.prototype._canvas_extra_style = function(el){\n",
       "    // this is important to make the div 'focusable\n",
       "    el.attr('tabindex', 0)\n",
       "    // reach out to IPython and tell the keyboard manager to turn it's self\n",
       "    // off when our div gets focus\n",
       "\n",
       "    // location in version 3\n",
       "    if (IPython.notebook.keyboard_manager) {\n",
       "        IPython.notebook.keyboard_manager.register_events(el);\n",
       "    }\n",
       "    else {\n",
       "        // location in version 2\n",
       "        IPython.keyboard_manager.register_events(el);\n",
       "    }\n",
       "\n",
       "}\n",
       "\n",
       "mpl.figure.prototype._key_event_extra = function(event, name) {\n",
       "    var manager = IPython.notebook.keyboard_manager;\n",
       "    if (!manager)\n",
       "        manager = IPython.keyboard_manager;\n",
       "\n",
       "    // Check for shift+enter\n",
       "    if (event.shiftKey && event.which == 13) {\n",
       "        this.canvas_div.blur();\n",
       "        event.shiftKey = false;\n",
       "        // Send a \"J\" for go to next cell\n",
       "        event.which = 74;\n",
       "        event.keyCode = 74;\n",
       "        manager.command_mode();\n",
       "        manager.handle_keydown(event);\n",
       "    }\n",
       "}\n",
       "\n",
       "mpl.figure.prototype.handle_save = function(fig, msg) {\n",
       "    fig.ondownload(fig, null);\n",
       "}\n",
       "\n",
       "\n",
       "mpl.find_output_cell = function(html_output) {\n",
       "    // Return the cell and output element which can be found *uniquely* in the notebook.\n",
       "    // Note - this is a bit hacky, but it is done because the \"notebook_saving.Notebook\"\n",
       "    // IPython event is triggered only after the cells have been serialised, which for\n",
       "    // our purposes (turning an active figure into a static one), is too late.\n",
       "    var cells = IPython.notebook.get_cells();\n",
       "    var ncells = cells.length;\n",
       "    for (var i=0; i<ncells; i++) {\n",
       "        var cell = cells[i];\n",
       "        if (cell.cell_type === 'code'){\n",
       "            for (var j=0; j<cell.output_area.outputs.length; j++) {\n",
       "                var data = cell.output_area.outputs[j];\n",
       "                if (data.data) {\n",
       "                    // IPython >= 3 moved mimebundle to data attribute of output\n",
       "                    data = data.data;\n",
       "                }\n",
       "                if (data['text/html'] == html_output) {\n",
       "                    return [cell, data, j];\n",
       "                }\n",
       "            }\n",
       "        }\n",
       "    }\n",
       "}\n",
       "\n",
       "// Register the function which deals with the matplotlib target/channel.\n",
       "// The kernel may be null if the page has been refreshed.\n",
       "if (IPython.notebook.kernel != null) {\n",
       "    IPython.notebook.kernel.comm_manager.register_target('matplotlib', mpl.mpl_figure_comm);\n",
       "}\n"
      ],
      "text/plain": [
       "<IPython.core.display.Javascript object>"
      ]
     },
     "metadata": {},
     "output_type": "display_data"
    },
    {
     "data": {
      "text/html": [
       "<img src=\"data:image/png;base64,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\" width=\"432\">"
      ],
      "text/plain": [
       "<IPython.core.display.HTML object>"
      ]
     },
     "metadata": {},
     "output_type": "display_data"
    }
   ],
   "source": [
    "%matplotlib notebook \n",
    "\n",
    "jupyter_lesson.plot_batman()"
   ]
  },
  {
   "cell_type": "markdown",
   "metadata": {},
   "source": [
    "Видно, что открылось интерактивное окошко, в котором можно масштабировать участки графика по своему усмотрению. Это удобно, когда хочется рассмотреть детали, но требовательно к ресурсам при сложных визуализациях. А ещё работает не всегда."
   ]
  },
  {
   "cell_type": "code",
   "execution_count": 75,
   "metadata": {
    "ExecuteTime": {
     "end_time": "2019-10-09T17:57:27.417697Z",
     "start_time": "2019-10-09T17:57:27.304286Z"
    }
   },
   "outputs": [
    {
     "data": {
      "image/png": "[encoded data removed]",
      "text/plain": [
       "<Figure size 432x288 with 1 Axes>"
      ]
     },
     "metadata": {
      "needs_background": "light"
     },
     "output_type": "display_data"
    }
   ],
   "source": [
    "%matplotlib inline\n",
    "\n",
    "jupyter_lesson.plot_batman()"
   ]
  },
  {
   "cell_type": "markdown",
   "metadata": {},
   "source": [
    "В этом режиме в ноутбук просто вставляется статическая картинка.  \n",
    "Именно этим режимом вы будете пользоваться чаще всего."
   ]
  },
  {
   "cell_type": "markdown",
   "metadata": {},
   "source": [
    "**Раздел со звёздочкой:** На удалённых машинах часто нет графического интерфейса. В связи с этим набор предустановленных инструментов для работы с графикой там ограничен. Часто обнаруживается только какой-то конкретный бэкенд для отрисовки графики (скажем, `qt`). В таких случаях нужно явно потребовать, чтобы `matplotlib` использовал именно его. Посмотреть список доступных бэкендов можно с помощью "
   ]
  },
  {
   "cell_type": "code",
   "execution_count": 78,
   "metadata": {
    "ExecuteTime": {
     "end_time": "2019-10-09T18:04:18.635301Z",
     "start_time": "2019-10-09T18:04:18.420218Z"
    }
   },
   "outputs": [
    {
     "name": "stdout",
     "output_type": "stream",
     "text": [
      "Available matplotlib backends: ['tk', 'gtk', 'gtk3', 'wx', 'qt4', 'qt5', 'qt', 'osx', 'nbagg', 'notebook', 'agg', 'svg', 'pdf', 'ps', 'inline', 'ipympl', 'widget']\n"
     ]
    }
   ],
   "source": [
    "%matplotlib --list"
   ]
  },
  {
   "cell_type": "markdown",
   "metadata": {},
   "source": [
    "Как вы видите, `notebook` и `inline` это тоже варианты бэкенда. "
   ]
  },
  {
   "cell_type": "markdown",
   "metadata": {},
   "source": [
    "### `%time`, `%timeit`, `%%time`\n",
    "\n",
    "Эти три команды замеряют, как долго исполняется код.  \n",
    "`%timeit` запускает команду несколько раз. По результатам вычисляется среднее и стандартное отклонение. Это уместно, если функция зависит от случайных битов. Для примера напишем функцию, которая генерирует случайное число и засыпает на одну секунду, если оно нечётное."
   ]
  },
  {
   "cell_type": "code",
   "execution_count": 10,
   "metadata": {
    "ExecuteTime": {
     "end_time": "2019-10-09T17:36:25.515732Z",
     "start_time": "2019-10-09T17:36:25.512886Z"
    }
   },
   "outputs": [],
   "source": [
    "import time\n",
    "\n",
    "def sleep_if_odd():\n",
    "    rvs = np.random.randint(low=0, high=int(1e9)) \n",
    "    randbit = rvs % 2\n",
    "    if randbit % 2 == 1:\n",
    "        time.sleep(1)"
   ]
  },
  {
   "cell_type": "code",
   "execution_count": 9,
   "metadata": {
    "ExecuteTime": {
     "end_time": "2019-10-09T17:36:06.903098Z",
     "start_time": "2019-10-09T17:36:05.899181Z"
    }
   },
   "outputs": [
    {
     "name": "stdout",
     "output_type": "stream",
     "text": [
      "CPU times: user 1.36 ms, sys: 423 µs, total: 1.78 ms\n",
      "Wall time: 1 s\n"
     ]
    }
   ],
   "source": [
    "%time sleep_if_odd()"
   ]
  },
  {
   "cell_type": "markdown",
   "metadata": {},
   "source": [
    "При использовании `%timeit` можно указать, сколько раз нужно запустить функцию. Синтаксис — `%timeit -n` Дефолтное значение — 7."
   ]
  },
  {
   "cell_type": "code",
   "execution_count": 134,
   "metadata": {
    "ExecuteTime": {
     "end_time": "2019-10-09T19:17:53.490855Z",
     "start_time": "2019-10-09T19:17:19.221307Z"
    }
   },
   "outputs": [
    {
     "name": "stdout",
     "output_type": "stream",
     "text": [
      "487 ms ± 125 ms per loop (mean ± std. dev. of 7 runs, 10 loops each)\n"
     ]
    }
   ],
   "source": [
    "%timeit -n 10 sleep_if_odd()"
   ]
  },
  {
   "cell_type": "markdown",
   "metadata": {},
   "source": [
    "Видно, что только результаты `%timeit` отражают реальное поведение функции. Это стоит иметь в виду при тестировании кода."
   ]
  },
  {
   "cell_type": "markdown",
   "metadata": {},
   "source": [
    "### `%system`, `%%bash`\n",
    "\n",
    "Позволяет выполнять системные команды так, будто вы работаете в терминале."
   ]
  },
  {
   "cell_type": "code",
   "execution_count": 81,
   "metadata": {
    "ExecuteTime": {
     "end_time": "2019-10-09T18:08:35.316032Z",
     "start_time": "2019-10-09T18:08:35.089326Z"
    }
   },
   "outputs": [
    {
     "data": {
      "text/plain": [
       "['Ср окт  9 21:08:35 MSK 2019']"
      ]
     },
     "execution_count": 81,
     "metadata": {},
     "output_type": "execute_result"
    }
   ],
   "source": [
    "%system date"
   ]
  },
  {
   "cell_type": "markdown",
   "metadata": {},
   "source": [
    "Отметим, что для этого есть удобный альтернативный синтаксис:"
   ]
  },
  {
   "cell_type": "code",
   "execution_count": 84,
   "metadata": {
    "ExecuteTime": {
     "end_time": "2019-10-09T18:09:01.087908Z",
     "start_time": "2019-10-09T18:09:00.962325Z"
    }
   },
   "outputs": [
    {
     "name": "stdout",
     "output_type": "stream",
     "text": [
      "Ср окт  9 21:09:00 MSK 2019\r\n"
     ]
    }
   ],
   "source": [
    "!date"
   ]
  },
  {
   "cell_type": "markdown",
   "metadata": {},
   "source": [
    "С помощью команды `%%bash` можно вызвать многострочный скрипт на баше:"
   ]
  },
  {
   "cell_type": "code",
   "execution_count": 136,
   "metadata": {
    "ExecuteTime": {
     "end_time": "2019-10-09T19:19:26.772744Z",
     "start_time": "2019-10-09T19:19:26.557139Z"
    }
   },
   "outputs": [
    {
     "name": "stdout",
     "output_type": "stream",
     "text": [
      "{IPython,\n",
      "and,\n",
      "bash\n",
      "are,\n",
      "friends!}\n"
     ]
    }
   ],
   "source": [
    "%%bash\n",
    "\n",
    "for word in {'IPython', 'and', 'bash' 'are', 'friends!'}\n",
    "do\n",
    "    echo $word\n",
    "done"
   ]
  },
  {
   "cell_type": "markdown",
   "metadata": {},
   "source": [
    "### `%debug`\n",
    "\n",
    "Мало кто знает, что в `IPython` (а следовательно и в `jupyter`) есть встроенный дебаггер.  \n",
    "Об этом есть замечательная [ветка сообщений в Twitter](https://twitter.com/radekosmulski/status/945739571735748609), мы кратко воспроизведём её здесь.  \n",
    "Напишем злободневную функцию и целенаправленно её сломаем:"
   ]
  },
  {
   "cell_type": "code",
   "execution_count": 125,
   "metadata": {
    "ExecuteTime": {
     "end_time": "2019-10-09T19:06:56.508665Z",
     "start_time": "2019-10-09T19:06:56.289715Z"
    }
   },
   "outputs": [],
   "source": [
    "from datetime import date, datetime, timedelta\n",
    "\n",
    "deadline = datetime.combine(date.today(), datetime.max.time())\n",
    "def submit_stats_homework(submission_time, deadline=deadline):\n",
    "    good_student = True\n",
    "    if submission_time > deadline: \n",
    "        good_student = False\n",
    "        raise ValueError(\n",
    "            \"Вы сдали задание после дедлайна! 0 баллов! ¯\\_(ツ)_/¯\\n\"\n",
    "            \"Впредь будьте аккуратнее!\"\n",
    "        )"
   ]
  },
  {
   "cell_type": "code",
   "execution_count": 129,
   "metadata": {
    "ExecuteTime": {
     "end_time": "2019-10-09T19:07:35.311543Z",
     "start_time": "2019-10-09T19:07:35.297100Z"
    }
   },
   "outputs": [
    {
     "ename": "ValueError",
     "evalue": "Вы сдали задание после дедлайна! 0 баллов! ¯\\_(ツ)_/¯\nВпредь будьте аккуратнее!",
     "output_type": "error",
     "traceback": [
      "\u001b[0;31m---------------------------------------------------------------------------\u001b[0m",
      "\u001b[0;31mValueError\u001b[0m                                Traceback (most recent call last)",
      "\u001b[0;32m<ipython-input-129-30a256cb5a0d>\u001b[0m in \u001b[0;36m<module>\u001b[0;34m\u001b[0m\n\u001b[1;32m      1\u001b[0m \u001b[0msubmission_time\u001b[0m \u001b[0;34m=\u001b[0m \u001b[0mdeadline\u001b[0m \u001b[0;34m+\u001b[0m \u001b[0mtimedelta\u001b[0m\u001b[0;34m(\u001b[0m\u001b[0mseconds\u001b[0m\u001b[0;34m=\u001b[0m\u001b[0;36m1\u001b[0m\u001b[0;34m)\u001b[0m\u001b[0;34m\u001b[0m\u001b[0;34m\u001b[0m\u001b[0m\n\u001b[0;32m----> 2\u001b[0;31m \u001b[0msubmit_stats_homework\u001b[0m\u001b[0;34m(\u001b[0m\u001b[0msubmission_time\u001b[0m\u001b[0;34m)\u001b[0m\u001b[0;34m\u001b[0m\u001b[0;34m\u001b[0m\u001b[0m\n\u001b[0m",
      "\u001b[0;32m<ipython-input-125-ab85f7c267de>\u001b[0m in \u001b[0;36msubmit_stats_homework\u001b[0;34m(submission_time, deadline)\u001b[0m\n\u001b[1;32m      7\u001b[0m         \u001b[0mgood_student\u001b[0m \u001b[0;34m=\u001b[0m \u001b[0;32mFalse\u001b[0m\u001b[0;34m\u001b[0m\u001b[0;34m\u001b[0m\u001b[0m\n\u001b[1;32m      8\u001b[0m         raise ValueError(\n\u001b[0;32m----> 9\u001b[0;31m             \u001b[0;34m\"Вы сдали задание после дедлайна! 0 баллов! ¯\\_(ツ)_/¯\\n\"\u001b[0m\u001b[0;34m\u001b[0m\u001b[0;34m\u001b[0m\u001b[0m\n\u001b[0m\u001b[1;32m     10\u001b[0m             \u001b[0;34m\"Впредь будьте аккуратнее!\"\u001b[0m\u001b[0;34m\u001b[0m\u001b[0;34m\u001b[0m\u001b[0m\n\u001b[1;32m     11\u001b[0m         )\n",
      "\u001b[0;31mValueError\u001b[0m: Вы сдали задание после дедлайна! 0 баллов! ¯\\_(ツ)_/¯\nВпредь будьте аккуратнее!"
     ]
    }
   ],
   "source": [
    "submission_time = deadline + timedelta(seconds=1)\n",
    "submit_stats_homework(submission_time)"
   ]
  },
  {
   "cell_type": "markdown",
   "metadata": {},
   "source": [
    "Вызов команды `%debug` вернёт вас к тому моменту исполнения, когда код упал с ошибкой. В консоли интерпретатора вы сможете посмотреть значение локальных переменных. Дебаггер становится незаменим, если функция работает долго или ошибку трудно воспроизвести."
   ]
  },
  {
   "cell_type": "code",
   "execution_count": 130,
   "metadata": {
    "ExecuteTime": {
     "end_time": "2019-10-09T19:07:51.963329Z",
     "start_time": "2019-10-09T19:07:37.326802Z"
    }
   },
   "outputs": [
    {
     "name": "stdout",
     "output_type": "stream",
     "text": [
      "> \u001b[0;32m<ipython-input-125-ab85f7c267de>\u001b[0m(9)\u001b[0;36msubmit_stats_homework\u001b[0;34m()\u001b[0m\n",
      "\u001b[0;32m      7 \u001b[0;31m        \u001b[0mgood_student\u001b[0m \u001b[0;34m=\u001b[0m \u001b[0;32mFalse\u001b[0m\u001b[0;34m\u001b[0m\u001b[0;34m\u001b[0m\u001b[0m\n",
      "\u001b[0m\u001b[0;32m      8 \u001b[0;31m        raise ValueError(\n",
      "\u001b[0m\u001b[0;32m----> 9 \u001b[0;31m            \u001b[0;34m\"Вы сдали задание после дедлайна! 0 баллов! ¯\\_(ツ)_/¯\\n\"\u001b[0m\u001b[0;34m\u001b[0m\u001b[0;34m\u001b[0m\u001b[0m\n",
      "\u001b[0m\u001b[0;32m     10 \u001b[0;31m            \u001b[0;34m\"Впредь будьте аккуратнее!\"\u001b[0m\u001b[0;34m\u001b[0m\u001b[0;34m\u001b[0m\u001b[0m\n",
      "\u001b[0m\u001b[0;32m     11 \u001b[0;31m        )\n",
      "\u001b[0m\n",
      "ipdb> help\n",
      "\n",
      "Documented commands (type help <topic>):\n",
      "========================================\n",
      "EOF    cl         disable  interact  next    psource  rv         unt   \n",
      "a      clear      display  j         p       q        s          until \n",
      "alias  commands   down     jump      pdef    quit     source     up    \n",
      "args   condition  enable   l         pdoc    r        step       w     \n",
      "b      cont       exit     list      pfile   restart  tbreak     whatis\n",
      "break  continue   h        ll        pinfo   return   u          where \n",
      "bt     d          help     longlist  pinfo2  retval   unalias  \n",
      "c      debug      ignore   n         pp      run      undisplay\n",
      "\n",
      "Miscellaneous help topics:\n",
      "==========================\n",
      "exec  pdb\n",
      "\n",
      "ipdb> good_student\n",
      "False\n",
      "ipdb> submission_time > deadline\n",
      "True\n",
      "ipdb> exit\n"
     ]
    }
   ],
   "source": [
    "%debug"
   ]
  },
  {
   "cell_type": "markdown",
   "metadata": {},
   "source": [
    "### `%%writefile`, `%pycat`\n",
    "\n",
    "Эти функции позволяют вам сохранить ячейку с кодом в питоновский файл и вывести его содержимое с подсветкой синтаксиса.  \n",
    "Это пригодится вам при работе с `Google Colab` весной (там нельзя менять `.py`-файлы, только перезаписывать)."
   ]
  },
  {
   "cell_type": "code",
   "execution_count": 148,
   "metadata": {
    "ExecuteTime": {
     "end_time": "2019-10-09T19:22:25.963722Z",
     "start_time": "2019-10-09T19:22:25.952862Z"
    }
   },
   "outputs": [
    {
     "name": "stdout",
     "output_type": "stream",
     "text": [
      "Writing test.py\n"
     ]
    }
   ],
   "source": [
    "%%writefile test.py\n",
    "print(\"Hello, World!\")"
   ]
  },
  {
   "cell_type": "code",
   "execution_count": 146,
   "metadata": {
    "ExecuteTime": {
     "end_time": "2019-10-09T19:22:17.296803Z",
     "start_time": "2019-10-09T19:22:17.286167Z"
    }
   },
   "outputs": [],
   "source": [
    "%pycat test.py"
   ]
  },
  {
   "cell_type": "code",
   "execution_count": 147,
   "metadata": {
    "ExecuteTime": {
     "end_time": "2019-10-09T19:22:24.499281Z",
     "start_time": "2019-10-09T19:22:24.372809Z"
    }
   },
   "outputs": [],
   "source": [
    "!rm test.py"
   ]
  },
  {
   "cell_type": "markdown",
   "metadata": {},
   "source": [
    "# Работа на удалённом сервере  \n",
    "Если на вашем кластере не настроена точка входа, на которой уже запущен `jupyter`-сервер, это не беда.  \n",
    "Немного подправьте скрипт из ячейки ниже и сохраните его как `jupyter_cluster.sh` где-нибудь.  \n",
    "Скорее всего, он заработает без дополнительных усилий с вашей стороны."
   ]
  },
  {
   "cell_type": "markdown",
   "metadata": {},
   "source": [
    "```bash\n",
    "#!/usr/bin/bash\n",
    "## get tunneling info\n",
    "XDG_RUNTIME_DIR=\"\"\n",
    "ipnport=$(shuf -i8000-9999 -n1)\n",
    "ipnip=$(hostname -i)\n",
    "port=$1\n",
    "\n",
    "echo -e \"\n",
    "    Copy/Paste this in your local terminal to ssh tunnel with remote\n",
    "    -----------------------------------------------------------------\n",
    "    ssh -N -L $ipnport:$ipnip:$ipnport $ТОЧКА_ВХОДА\n",
    "    -----------------------------------------------------------------\n",
    "\n",
    "    Then open a browser on your local machine to the following address\n",
    "    ------------------------------------------------------------------\n",
    "    localhost:$ipnport  (prefix w/ https:// if using password)\n",
    "    ------------------------------------------------------------------\n",
    "    \"\n",
    "## start an ipcluster instance and launch jupyter server\n",
    "/usr/bin/ssh -N -f -R localhost:$ipnport:localhost:$ipnport $ТОЧКА_ВХОДА\n",
    "jupyter-notebook --no-browser --port=$ipnport --ip=$ipnip --notebook-dir='$ПАПКА_ДЛЯ_ВРЕМЕННЫХ_ФАЙЛОВ'\n",
    "\n",
    "```\n",
    "Сделайте файл исполняемым с помощью команды `chmod +x`, после этого его можно будет запускать как `./jupyter_cluster.sh`."
   ]
  },
  {
   "attachments": {
    "image.png": {
     "image/png": "[encoded data removed]"
    }
   },
   "cell_type": "markdown",
   "metadata": {},
   "source": [
    "Давайте разберёмся, что же он делает.  \n",
    "\n",
    "![image.png](attachment:image.png)\n",
    "\n",
    "1. Он открывает `ssh`-тоннель на произвольном свободном порту сервера. Затем он выводит на экран команду, которая откроет тоннель с вашей стороны. Введите её в отдельном окошке терминала. ТОЧКА_ВХОДА имеет формат \"ваш логин@адрес сервера\". Например, anonymous@calc.cod.phystech.edu. \n",
    "2. Затем он поднимает `jupyter`-сервер, временные файлы которого будут храниться в выбранной вами папке. Доступ к этому серверу будет осуществляться по тому же порту, к которому вы подключились на прошлом шаге. \n",
    "3. Теперь вы можете открыть браузер, ввести в адресной `localhost` с тем номером порта, который вам показл скрипт, и работать в `jupyter` так же, как если бы он был запущен на вашем компьютере."
   ]
  },
  {
   "cell_type": "markdown",
   "metadata": {},
   "source": [
    "# Полезные мелочи\n",
    "В этом разделе мы поговорим о простых лайфхаках, которые сделают вашу работу с `jupyter` приятнее.\n",
    "### `tqdm`\n",
    "[`tqdm`](https://github.com/tqdm/tqdm) — та-ка-дум, что на арабском означает \"прогресс\" — прогресс-индикатор для `Python`, который показывает, сколько итераций уже сделано, сколько нужно и сколько осталось подождать. Не знать про него преступно, это незаменимый инструмент.\n",
    "\n",
    "![tqdm.gif](https://raw.githubusercontent.com/tqdm/tqdm/master/images/tqdm-jupyter-2.gif)\n",
    "\n",
    "### Центрирование графиков\n",
    "Достаточно поместить эти строки в файл `~/.jupyter/custom/custom.css`. \n",
    "```css\n",
    ".output_png {\n",
    "    display: table-cell;\n",
    "    text-align: center;\n",
    "    vertical-align: middle;\n",
    "}\n",
    "```\n",
    "После этого графики во всех ноутбуках будут выровнены по центру, что эстетично и часто удобно (особенно на больших мониторах).\n",
    "### Альтернативные цветовые схемы\n",
    "Если вы хотите сменить цветовую схему `jupyter`-ноутбука (например, на привычную тёмную тему в духе `monokai`), то для этого вам нужно установить библиотеку `jupyterthemes`:\n",
    "```bash\n",
    "mamba install -c conda-forge jupyterthemes\n",
    "```\n",
    "и следовать инструкциям с [официальной страницы репозитория](https://github.com/dunovank/jupyter-themes).\n",
    "![](images/jt.gif)"
   ]
  },
  {
   "cell_type": "markdown",
   "metadata": {},
   "source": [
    "# Заключение\n",
    "\n",
    "В этом ноутбке рассмотрены базовые возможности `jupyter`, которые, надеюсь, помогут вам в решении повседневных задач.  \n",
    "Тем не менее, это далеко не всё! Планируется рассмотреть такие темы как:\n",
    "- совместная работа над `.ipynb`-файлами с помощью `jupyter hub` (полезно для хакатонов);\n",
    "- создание презентаций в `jupyter`;\n",
    "- работа с `CPython`, `R` и `C++` в `jupyter`;\n",
    "- аналоги `jupyter-notebook`: `jupyter-lab`, `rmarkdown`, `observable notebooks`;"
   ]
  },
  {
   "cell_type": "markdown",
   "metadata": {},
   "source": [
    "-----\n",
    "\n",
    "Статистика, прикладной поток 2019\n",
    "\n",
    "https://mipt-stats.gitlab.io/"
   ]
  }
 ],
 "metadata": {
  "kernelspec": {
   "display_name": "Python 3",
   "language": "python",
   "name": "python3"
  },
  "language_info": {
   "codemirror_mode": {
    "name": "ipython",
    "version": 3
   },
   "file_extension": ".py",
   "mimetype": "text/x-python",
   "name": "python",
   "nbconvert_exporter": "python",
   "pygments_lexer": "ipython3",
   "version": "3.7.3"
  },
  "varInspector": {
   "cols": {
    "lenName": 16,
    "lenType": 16,
    "lenVar": 40
   },
   "kernels_config": {
    "python": {
     "delete_cmd_postfix": "",
     "delete_cmd_prefix": "del ",
     "library": "var_list.py",
     "varRefreshCmd": "print(var_dic_list())"
    },
    "r": {
     "delete_cmd_postfix": ") ",
     "delete_cmd_prefix": "rm(",
     "library": "var_list.r",
     "varRefreshCmd": "cat(var_dic_list()) "
    }
   },
   "types_to_exclude": [
    "module",
    "function",
    "builtin_function_or_method",
    "instance",
    "_Feature"
   ],
   "window_display": false
  }
 },
 "nbformat": 4,
 "nbformat_minor": 2
}
