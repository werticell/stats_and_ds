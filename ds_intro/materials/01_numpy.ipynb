{
 "cells": [
  {
   "cell_type": "code",
   "execution_count": 2,
   "metadata": {
    "ExecuteTime": {
     "end_time": "2020-03-05T18:43:00.933496Z",
     "start_time": "2020-03-05T18:42:59.030585Z"
    },
    "colab": {},
    "colab_type": "code",
    "id": "Qri5nDu-eSXQ"
   },
   "outputs": [],
   "source": [
    "import numpy as np"
   ]
  },
  {
   "cell_type": "markdown",
   "metadata": {
    "colab_type": "text",
    "id": "w5l3lSPkeSXN"
   },
   "source": [
    "# Библиотека numpy\n",
    "\n",
    "Пакет `numpy` предоставляет $n$-мерные однородные массивы (все элементы одного типа); в них нельзя вставить или удалить элемент в произвольном месте. В `numpy` реализовано много операций над массивами в целом. Если задачу можно решить, произведя некоторую последовательность операций над массивами, то это будет столь же эффективно, как в `C` или `matlab` - львиная доля времени тратится в библиотечных функциях, написанных на `C`.\n",
    "\n",
    "*Замечание.* Модуль `numpy.random` не рассматривается целенаправленно. Вместо него на следующем занятии мы будем изучать модуль `scipy.stats`, который больше подходит под наши задачи.\n",
    "\n",
    "## 1. Одномерные массивы\n",
    "\n",
    "#### 1.1 Типы массивов, атрибуты"
   ]
  },
  {
   "cell_type": "markdown",
   "metadata": {
    "colab_type": "text",
    "id": "4OYggcLMeSXY"
   },
   "source": [
    "Можно преобразовать список в массив."
   ]
  },
  {
   "cell_type": "code",
   "execution_count": 3,
   "metadata": {
    "ExecuteTime": {
     "end_time": "2020-03-05T18:43:00.997315Z",
     "start_time": "2020-03-05T18:43:00.941007Z"
    },
    "colab": {},
    "colab_type": "code",
    "id": "60DzfgyMeSXa",
    "outputId": "f70b7a44-8908-4578-d1ca-03aa4cc4933f"
   },
   "outputs": [
    {
     "data": {
      "text/plain": [
       "(array([0, 2, 1]), numpy.ndarray)"
      ]
     },
     "execution_count": 3,
     "metadata": {},
     "output_type": "execute_result"
    }
   ],
   "source": [
    "a = np.array([0, 2, 1])\n",
    "a, type(a)"
   ]
  },
  {
   "cell_type": "markdown",
   "metadata": {
    "colab_type": "text",
    "id": "Zus_bnvFeSXf"
   },
   "source": [
    "`print` печатает массивы в удобной форме."
   ]
  },
  {
   "cell_type": "code",
   "execution_count": 4,
   "metadata": {
    "ExecuteTime": {
     "end_time": "2020-03-05T18:43:01.084919Z",
     "start_time": "2020-03-05T18:43:01.004005Z"
    },
    "colab": {},
    "colab_type": "code",
    "id": "3CY4rY0GeSXg",
    "outputId": "5b407c06-0a20-443e-f6c8-1e75d47ba115"
   },
   "outputs": [
    {
     "name": "stdout",
     "output_type": "stream",
     "text": [
      "[0 2 1]\n"
     ]
    }
   ],
   "source": [
    "print(a)"
   ]
  },
  {
   "cell_type": "markdown",
   "metadata": {
    "colab_type": "text",
    "id": "GWrTlCJieSXk"
   },
   "source": [
    "Класс `ndarray` имеет много методов."
   ]
  },
  {
   "cell_type": "code",
   "execution_count": null,
   "metadata": {
    "ExecuteTime": {
     "end_time": "2020-03-05T18:43:01.202345Z",
     "start_time": "2020-03-05T18:43:01.088700Z"
    },
    "colab": {},
    "colab_type": "code",
    "id": "KhZ0kil4eSXl",
    "outputId": "0da421ae-5676-459e-e47e-bacb3455dbf7",
    "scrolled": true
   },
   "outputs": [],
   "source": [
    "set(dir(a)) - set(dir(object))"
   ]
  },
  {
   "cell_type": "markdown",
   "metadata": {
    "colab_type": "text",
    "id": "j2Yro8nMeSXo"
   },
   "source": [
    "Наш массив одномерный."
   ]
  },
  {
   "cell_type": "code",
   "execution_count": 6,
   "metadata": {
    "ExecuteTime": {
     "end_time": "2020-03-05T18:43:01.294325Z",
     "start_time": "2020-03-05T18:43:01.207158Z"
    },
    "colab": {},
    "colab_type": "code",
    "id": "OMpgblpYeSXp",
    "outputId": "dde15de5-5973-4d6c-d407-98584a7f9b61"
   },
   "outputs": [
    {
     "data": {
      "text/plain": [
       "1"
      ]
     },
     "execution_count": 6,
     "metadata": {},
     "output_type": "execute_result"
    }
   ],
   "source": [
    "a.ndim"
   ]
  },
  {
   "cell_type": "markdown",
   "metadata": {
    "colab_type": "text",
    "id": "LB3skyaOeSXs"
   },
   "source": [
    "В $n$-мерном случае возвращается кортеж размеров по каждой координате."
   ]
  },
  {
   "cell_type": "code",
   "execution_count": 7,
   "metadata": {
    "ExecuteTime": {
     "end_time": "2020-03-05T18:43:01.394903Z",
     "start_time": "2020-03-05T18:43:01.304159Z"
    },
    "colab": {},
    "colab_type": "code",
    "id": "ivBL1F1PeSXs",
    "outputId": "bf9f70d9-a991-4762-f343-337c34b1b09a"
   },
   "outputs": [
    {
     "data": {
      "text/plain": [
       "(3,)"
      ]
     },
     "execution_count": 7,
     "metadata": {},
     "output_type": "execute_result"
    }
   ],
   "source": [
    "a.shape"
   ]
  },
  {
   "cell_type": "markdown",
   "metadata": {
    "colab_type": "text",
    "id": "RalMfmjfeSXv"
   },
   "source": [
    "`size` - это полное число элементов в массиве; `len` - размер по первой координате (в 1-мерном случае это то же самое)."
   ]
  },
  {
   "cell_type": "code",
   "execution_count": 8,
   "metadata": {
    "ExecuteTime": {
     "end_time": "2020-03-05T18:43:01.476814Z",
     "start_time": "2020-03-05T18:43:01.409573Z"
    },
    "colab": {},
    "colab_type": "code",
    "id": "twpTTZ9ieSXw",
    "outputId": "110917e3-5973-41c2-c75a-5828283100c5"
   },
   "outputs": [
    {
     "data": {
      "text/plain": [
       "(3, 3)"
      ]
     },
     "execution_count": 8,
     "metadata": {},
     "output_type": "execute_result"
    }
   ],
   "source": [
    "len(a), a.size"
   ]
  },
  {
   "cell_type": "markdown",
   "metadata": {
    "colab_type": "text",
    "id": "eCtLf6OyeSXx"
   },
   "source": [
    "`numpy` предоставляет несколько типов для целых (`int16`, `int32`, `int64`) и чисел с плавающей точкой (`float32`, `float64`)."
   ]
  },
  {
   "cell_type": "code",
   "execution_count": 9,
   "metadata": {
    "ExecuteTime": {
     "end_time": "2020-03-05T18:43:01.638544Z",
     "start_time": "2020-03-05T18:43:01.480230Z"
    },
    "colab": {},
    "colab_type": "code",
    "id": "IHuuDB2peSXy",
    "outputId": "8e51544d-19ee-43df-fb22-5c641f3b7685"
   },
   "outputs": [
    {
     "data": {
      "text/plain": [
       "(dtype('int64'), 'int64', 8)"
      ]
     },
     "execution_count": 9,
     "metadata": {},
     "output_type": "execute_result"
    }
   ],
   "source": [
    "a.dtype, a.dtype.name, a.itemsize"
   ]
  },
  {
   "cell_type": "markdown",
   "metadata": {
    "colab_type": "text",
    "id": "xmBioWwXeSX9"
   },
   "source": [
    "Массив чисел с плавающей точкой."
   ]
  },
  {
   "cell_type": "code",
   "execution_count": 10,
   "metadata": {
    "ExecuteTime": {
     "end_time": "2020-03-05T18:43:01.706826Z",
     "start_time": "2020-03-05T18:43:01.650111Z"
    },
    "colab": {},
    "colab_type": "code",
    "id": "iZ9WpKkVeSX9",
    "outputId": "9158daf3-806d-4626-ba14-fbd126c9a7e5",
    "scrolled": true
   },
   "outputs": [
    {
     "data": {
      "text/plain": [
       "dtype('float64')"
      ]
     },
     "execution_count": 10,
     "metadata": {},
     "output_type": "execute_result"
    }
   ],
   "source": [
    "b = np.array([0., 2, 1])\n",
    "b.dtype"
   ]
  },
  {
   "cell_type": "markdown",
   "metadata": {
    "colab_type": "text",
    "id": "EG3m0QNkeSX_"
   },
   "source": [
    "Точно такой же массив."
   ]
  },
  {
   "cell_type": "code",
   "execution_count": 11,
   "metadata": {
    "ExecuteTime": {
     "end_time": "2020-03-05T18:43:01.794570Z",
     "start_time": "2020-03-05T18:43:01.708586Z"
    },
    "colab": {},
    "colab_type": "code",
    "id": "zB1Gle6peSYA",
    "outputId": "48c8eb85-a06f-44cd-b827-28b404f11181"
   },
   "outputs": [
    {
     "name": "stdout",
     "output_type": "stream",
     "text": [
      "[0. 2. 1.]\n"
     ]
    }
   ],
   "source": [
    "c = np.array([0, 2, 1], dtype=np.float64)\n",
    "print(c)"
   ]
  },
  {
   "cell_type": "markdown",
   "metadata": {
    "colab_type": "text",
    "id": "T_gqbazheSYC"
   },
   "source": [
    "Преобразование данных"
   ]
  },
  {
   "cell_type": "code",
   "execution_count": 12,
   "metadata": {
    "ExecuteTime": {
     "end_time": "2020-03-05T18:43:01.894445Z",
     "start_time": "2020-03-05T18:43:01.796280Z"
    },
    "colab": {},
    "colab_type": "code",
    "id": "ok8MtEvaeSYC",
    "outputId": "cbdbad55-26a6-4498-9630-1f212ea6e493"
   },
   "outputs": [
    {
     "name": "stdout",
     "output_type": "stream",
     "text": [
      "float64\n",
      "[0 2 1]\n",
      "['0.0' '2.0' '1.0']\n"
     ]
    }
   ],
   "source": [
    "print(c.dtype)\n",
    "print(c.astype(int))\n",
    "print(c.astype(str))"
   ]
  },
  {
   "cell_type": "markdown",
   "metadata": {
    "colab_type": "text",
    "id": "G1DRYeu5eSX0"
   },
   "source": [
    "#### 1.2 Индексация\n",
    "\n",
    "Индексировать массив можно обычным образом."
   ]
  },
  {
   "cell_type": "code",
   "execution_count": 13,
   "metadata": {
    "ExecuteTime": {
     "end_time": "2020-03-05T18:43:02.051165Z",
     "start_time": "2020-03-05T18:43:01.896524Z"
    },
    "colab": {},
    "colab_type": "code",
    "id": "Y9tGXwDIeSX1",
    "outputId": "661ad456-a7d1-41fb-8e77-cba496bb678f"
   },
   "outputs": [
    {
     "data": {
      "text/plain": [
       "2"
      ]
     },
     "execution_count": 13,
     "metadata": {},
     "output_type": "execute_result"
    }
   ],
   "source": [
    "a[1]"
   ]
  },
  {
   "cell_type": "markdown",
   "metadata": {
    "colab_type": "text",
    "id": "rmKD1RweeSX3"
   },
   "source": [
    "Массивы - изменяемые объекты."
   ]
  },
  {
   "cell_type": "code",
   "execution_count": 14,
   "metadata": {
    "ExecuteTime": {
     "end_time": "2020-03-05T18:43:02.156014Z",
     "start_time": "2020-03-05T18:43:02.056963Z"
    },
    "colab": {},
    "colab_type": "code",
    "id": "QlkGiSjxeSX3",
    "outputId": "cec2f85a-516c-415f-f475-24a2e1588ad6"
   },
   "outputs": [
    {
     "name": "stdout",
     "output_type": "stream",
     "text": [
      "[0 3 1]\n"
     ]
    }
   ],
   "source": [
    "a[1] = 3\n",
    "print(a)"
   ]
  },
  {
   "cell_type": "markdown",
   "metadata": {
    "colab_type": "text",
    "id": "Yd31-o_UeSX6"
   },
   "source": [
    "Массивы, разумеется, можно использовать в `for` циклах. Но при этом теряется главное преимущество `numpy` - быстродействие. Всегда, когда это возможно, лучше использовать операции над массивами как едиными целыми."
   ]
  },
  {
   "cell_type": "code",
   "execution_count": 15,
   "metadata": {
    "ExecuteTime": {
     "end_time": "2020-03-05T18:43:02.256988Z",
     "start_time": "2020-03-05T18:43:02.164738Z"
    },
    "colab": {},
    "colab_type": "code",
    "id": "c4K_PK_OeSX7",
    "outputId": "20a9bbfb-0ef2-4679-f548-beb64ec8c1eb"
   },
   "outputs": [
    {
     "name": "stdout",
     "output_type": "stream",
     "text": [
      "0\n",
      "3\n",
      "1\n"
     ]
    }
   ],
   "source": [
    "for i in a:\n",
    "    print(i)"
   ]
  },
  {
   "cell_type": "markdown",
   "metadata": {},
   "source": [
    "**Упражнение:** создайте numpy-массив, состоящий из первых пяти простых чисел, выведите его тип и размер:"
   ]
  },
  {
   "cell_type": "code",
   "execution_count": 16,
   "metadata": {
    "ExecuteTime": {
     "end_time": "2020-03-05T18:43:02.355238Z",
     "start_time": "2020-03-05T18:43:02.265021Z"
    }
   },
   "outputs": [
    {
     "data": {
      "text/plain": [
       "((5,), 'int64')"
      ]
     },
     "execution_count": 16,
     "metadata": {},
     "output_type": "execute_result"
    }
   ],
   "source": [
    "tmp_arr = np.array([2, 3, 5, 7, 11])\n",
    "tmp_arr.shape, tmp_arr.dtype.name"
   ]
  },
  {
   "cell_type": "markdown",
   "metadata": {
    "colab_type": "text",
    "id": "ViI6VqnXeSYE"
   },
   "source": [
    "#### 1.3 Создание массивов\n",
    "\n",
    "Массивы, заполненные нулями или единицами. Часто лучше сначала создать такой массив, а потом присваивать значения его элементам."
   ]
  },
  {
   "cell_type": "code",
   "execution_count": 17,
   "metadata": {
    "ExecuteTime": {
     "end_time": "2020-03-05T18:43:02.440131Z",
     "start_time": "2020-03-05T18:43:02.357294Z"
    },
    "colab": {},
    "colab_type": "code",
    "id": "V8yK0FLteSYF",
    "outputId": "5ae8656b-3c85-4263-af5d-334207685d39"
   },
   "outputs": [
    {
     "name": "stdout",
     "output_type": "stream",
     "text": [
      "[0. 0. 0.]\n",
      "[1 1 1]\n"
     ]
    }
   ],
   "source": [
    "a = np.zeros(3)\n",
    "b = np.ones(3, dtype=np.int64)\n",
    "print(a)\n",
    "print(b)"
   ]
  },
  {
   "cell_type": "markdown",
   "metadata": {
    "colab_type": "text",
    "id": "YW31gGnbeSYI"
   },
   "source": [
    "Если нужно создать массив, заполненный нулями, длины и типа другого массива, то можно использовать конструкцию"
   ]
  },
  {
   "cell_type": "code",
   "execution_count": 18,
   "metadata": {
    "ExecuteTime": {
     "end_time": "2020-03-05T18:43:02.545615Z",
     "start_time": "2020-03-05T18:43:02.441587Z"
    },
    "colab": {},
    "colab_type": "code",
    "id": "0IJVs0EmeSYJ",
    "outputId": "1845a995-f932-4248-a291-aa49518e94e2"
   },
   "outputs": [
    {
     "data": {
      "text/plain": [
       "array([0, 0, 0])"
      ]
     },
     "execution_count": 18,
     "metadata": {},
     "output_type": "execute_result"
    }
   ],
   "source": [
    "np.zeros_like(b)"
   ]
  },
  {
   "cell_type": "markdown",
   "metadata": {
    "colab_type": "text",
    "id": "-nnOn0gNeSYL"
   },
   "source": [
    "Функция `arange` подобна `range`. Аргументы могут быть с плавающей точкой. Следует избегать ситуаций, когда *(конец-начало)/шаг* - целое число, потому что в этом случае включение последнего элемента зависит от ошибок округления. Лучше, чтобы конец диапазона был где-то посредине шага."
   ]
  },
  {
   "cell_type": "code",
   "execution_count": 19,
   "metadata": {
    "ExecuteTime": {
     "end_time": "2020-03-05T18:43:02.643128Z",
     "start_time": "2020-03-05T18:43:02.552203Z"
    },
    "colab": {},
    "colab_type": "code",
    "id": "gqTdkX18eSYL",
    "outputId": "1d99c710-2a92-4078-8e3b-9d72386c8f3e"
   },
   "outputs": [
    {
     "name": "stdout",
     "output_type": "stream",
     "text": [
      "[0 2 4 6 8]\n"
     ]
    }
   ],
   "source": [
    "a = np.arange(0, 9, 2)\n",
    "print(a)"
   ]
  },
  {
   "cell_type": "code",
   "execution_count": 20,
   "metadata": {
    "ExecuteTime": {
     "end_time": "2020-03-05T18:43:02.740348Z",
     "start_time": "2020-03-05T18:43:02.652962Z"
    },
    "colab": {},
    "colab_type": "code",
    "id": "7pY-5MmweSYN",
    "outputId": "6894fdea-02aa-4577-b275-6c3806f53187"
   },
   "outputs": [
    {
     "name": "stdout",
     "output_type": "stream",
     "text": [
      "[0. 2. 4. 6. 8.]\n"
     ]
    }
   ],
   "source": [
    "b = np.arange(0., 9, 2)\n",
    "print(b)"
   ]
  },
  {
   "cell_type": "markdown",
   "metadata": {
    "colab_type": "text",
    "id": "vgPAKPaqeSYP"
   },
   "source": [
    "Последовательности чисел с постоянным шагом можно также создавать функцией `linspace`. Начало и конец диапазона включаются; последний аргумент - число точек."
   ]
  },
  {
   "cell_type": "code",
   "execution_count": 21,
   "metadata": {
    "ExecuteTime": {
     "end_time": "2020-03-05T18:43:02.843344Z",
     "start_time": "2020-03-05T18:43:02.743369Z"
    },
    "colab": {},
    "colab_type": "code",
    "id": "l1ruNluSeSYP",
    "outputId": "f24fe8a8-832b-4898-b8ea-8a88a177cdf4"
   },
   "outputs": [
    {
     "name": "stdout",
     "output_type": "stream",
     "text": [
      "[0. 2. 4. 6. 8.]\n"
     ]
    }
   ],
   "source": [
    "a = np.linspace(0, 8, 5)\n",
    "print(a)"
   ]
  },
  {
   "cell_type": "markdown",
   "metadata": {},
   "source": [
    "**Упражнение:** создайте и выведите последовательность чисел от 10 до 20 с постоянным шагом, длина последовательности - 21."
   ]
  },
  {
   "cell_type": "code",
   "execution_count": 22,
   "metadata": {
    "ExecuteTime": {
     "end_time": "2020-03-05T18:43:02.943564Z",
     "start_time": "2020-03-05T18:43:02.850936Z"
    }
   },
   "outputs": [
    {
     "data": {
      "text/plain": [
       "array([10. , 10.5, 11. , 11.5, 12. , 12.5, 13. , 13.5, 14. , 14.5, 15. ,\n",
       "       15.5, 16. , 16.5, 17. , 17.5, 18. , 18.5, 19. , 19.5, 20. ])"
      ]
     },
     "execution_count": 22,
     "metadata": {},
     "output_type": "execute_result"
    }
   ],
   "source": [
    "tmp_array = np.linspace(10, 20, 21)\n",
    "tmp_array"
   ]
  },
  {
   "cell_type": "markdown",
   "metadata": {
    "colab_type": "text",
    "id": "LLfyQPuqeSYR"
   },
   "source": [
    "Последовательность чисел с постоянным шагом по логарифмической шкале от $10^0$ до $10^1$."
   ]
  },
  {
   "cell_type": "code",
   "execution_count": 23,
   "metadata": {
    "ExecuteTime": {
     "end_time": "2020-03-05T18:43:03.045900Z",
     "start_time": "2020-03-05T18:43:02.946443Z"
    },
    "colab": {},
    "colab_type": "code",
    "id": "Njm5f_n1eSYR",
    "outputId": "54af9772-4725-4344-8489-ebab83039d93"
   },
   "outputs": [
    {
     "name": "stdout",
     "output_type": "stream",
     "text": [
      "[ 1.          1.77827941  3.16227766  5.62341325 10.        ]\n"
     ]
    }
   ],
   "source": [
    "b = np.logspace(0, 1, 5)\n",
    "print(b)"
   ]
  },
  {
   "cell_type": "markdown",
   "metadata": {
    "colab_type": "text",
    "id": "3TniLu7deSYT"
   },
   "source": [
    "## 2. Операции над одномерными массивами\n",
    "\n",
    "#### 2.1 Математические операции\n",
    "\n",
    "Арифметические операции проводятся поэлементно."
   ]
  },
  {
   "cell_type": "code",
   "execution_count": 24,
   "metadata": {
    "ExecuteTime": {
     "end_time": "2020-03-05T18:43:03.139754Z",
     "start_time": "2020-03-05T18:43:03.060188Z"
    }
   },
   "outputs": [
    {
     "data": {
      "text/plain": [
       "array([0., 2., 4., 6., 8.])"
      ]
     },
     "execution_count": 24,
     "metadata": {},
     "output_type": "execute_result"
    }
   ],
   "source": [
    "a"
   ]
  },
  {
   "cell_type": "code",
   "execution_count": 25,
   "metadata": {
    "ExecuteTime": {
     "end_time": "2020-03-05T18:43:03.234577Z",
     "start_time": "2020-03-05T18:43:03.141815Z"
    }
   },
   "outputs": [
    {
     "data": {
      "text/plain": [
       "array([ 1.        ,  1.77827941,  3.16227766,  5.62341325, 10.        ])"
      ]
     },
     "execution_count": 25,
     "metadata": {},
     "output_type": "execute_result"
    }
   ],
   "source": [
    "b"
   ]
  },
  {
   "cell_type": "code",
   "execution_count": 26,
   "metadata": {
    "ExecuteTime": {
     "end_time": "2020-03-05T18:43:03.313678Z",
     "start_time": "2020-03-05T18:43:03.241781Z"
    },
    "colab": {},
    "colab_type": "code",
    "id": "XgS7-Hv-eSYT",
    "outputId": "b3b488c8-08b3-449d-f258-0ea5d1377ce9"
   },
   "outputs": [
    {
     "name": "stdout",
     "output_type": "stream",
     "text": [
      "[ 1.          3.77827941  7.16227766 11.62341325 18.        ]\n"
     ]
    }
   ],
   "source": [
    "print(a + b)"
   ]
  },
  {
   "cell_type": "code",
   "execution_count": 27,
   "metadata": {
    "ExecuteTime": {
     "end_time": "2020-03-05T18:43:03.407095Z",
     "start_time": "2020-03-05T18:43:03.316940Z"
    },
    "colab": {},
    "colab_type": "code",
    "id": "qGK2iCjieSYV",
    "outputId": "f1e4def3-57d0-4d53-bf3b-13b30276b27a"
   },
   "outputs": [
    {
     "name": "stdout",
     "output_type": "stream",
     "text": [
      "[-1.          0.22172059  0.83772234  0.37658675 -2.        ]\n"
     ]
    }
   ],
   "source": [
    "print(a - b)"
   ]
  },
  {
   "cell_type": "code",
   "execution_count": 28,
   "metadata": {
    "ExecuteTime": {
     "end_time": "2020-03-05T18:43:03.507183Z",
     "start_time": "2020-03-05T18:43:03.415921Z"
    },
    "colab": {},
    "colab_type": "code",
    "id": "23KFrhXfeSYX",
    "outputId": "f8d2bd85-1b9d-4312-c70a-e3b887214d27"
   },
   "outputs": [
    {
     "name": "stdout",
     "output_type": "stream",
     "text": [
      "[ 0.          3.55655882 12.64911064 33.74047951 80.        ]\n"
     ]
    }
   ],
   "source": [
    "print(a * b)"
   ]
  },
  {
   "cell_type": "code",
   "execution_count": 29,
   "metadata": {
    "ExecuteTime": {
     "end_time": "2020-03-05T18:43:03.607306Z",
     "start_time": "2020-03-05T18:43:03.512541Z"
    },
    "colab": {},
    "colab_type": "code",
    "id": "wKYv1wzReSYY",
    "outputId": "e8338f65-dcc9-4f4d-ea84-15509fcb903c"
   },
   "outputs": [
    {
     "name": "stdout",
     "output_type": "stream",
     "text": [
      "[0.         1.12468265 1.26491106 1.06696765 0.8       ]\n"
     ]
    }
   ],
   "source": [
    "print(a / b)"
   ]
  },
  {
   "cell_type": "code",
   "execution_count": 30,
   "metadata": {
    "ExecuteTime": {
     "end_time": "2020-03-05T18:43:03.703775Z",
     "start_time": "2020-03-05T18:43:03.612924Z"
    },
    "colab": {},
    "colab_type": "code",
    "id": "rxgiLyK0eSYa",
    "outputId": "7384ac93-e5fb-4232-ad51-898b829f3f7e"
   },
   "outputs": [
    {
     "name": "stdout",
     "output_type": "stream",
     "text": [
      "[ 0.  4. 16. 36. 64.]\n"
     ]
    }
   ],
   "source": [
    "print(a ** 2)"
   ]
  },
  {
   "cell_type": "markdown",
   "metadata": {
    "colab_type": "text",
    "id": "K8DiU43EeSYc"
   },
   "source": [
    "Когда операнды разных типов, они приводятся к большему типу."
   ]
  },
  {
   "cell_type": "code",
   "execution_count": 31,
   "metadata": {
    "ExecuteTime": {
     "end_time": "2020-03-05T18:43:03.803429Z",
     "start_time": "2020-03-05T18:43:03.705858Z"
    },
    "colab": {},
    "colab_type": "code",
    "id": "e3zsPgHweSYc",
    "outputId": "672d0f09-3e75-4870-d40f-d29f51409787"
   },
   "outputs": [
    {
     "name": "stdout",
     "output_type": "stream",
     "text": [
      "[1. 3. 5. 7. 9.]\n"
     ]
    }
   ],
   "source": [
    "i = np.ones(5, dtype=np.int64)\n",
    "print(a + i)"
   ]
  },
  {
   "cell_type": "markdown",
   "metadata": {
    "colab_type": "text",
    "id": "Hy161lcoeSYd"
   },
   "source": [
    "`numpy` содержит элементарные функции, которые тоже применяются к массивам поэлементно. Они называются универсальными функциями (`ufunc`)."
   ]
  },
  {
   "cell_type": "code",
   "execution_count": 32,
   "metadata": {
    "ExecuteTime": {
     "end_time": "2020-03-05T18:43:03.892028Z",
     "start_time": "2020-03-05T18:43:03.806406Z"
    },
    "colab": {},
    "colab_type": "code",
    "id": "Dkh0NdmyeSYe",
    "outputId": "eacfe9da-ec0c-4662-e8d4-f8ca435e9efa"
   },
   "outputs": [
    {
     "data": {
      "text/plain": [
       "(<ufunc 'sin'>, numpy.ufunc)"
      ]
     },
     "execution_count": 32,
     "metadata": {},
     "output_type": "execute_result"
    }
   ],
   "source": [
    "np.sin, type(np.sin)"
   ]
  },
  {
   "cell_type": "code",
   "execution_count": 33,
   "metadata": {
    "ExecuteTime": {
     "end_time": "2020-03-05T18:43:03.996145Z",
     "start_time": "2020-03-05T18:43:03.894102Z"
    },
    "colab": {},
    "colab_type": "code",
    "id": "H5IHOdzVeSYf",
    "outputId": "85130657-7a7d-4c27-f3ce-79cf5dcecda7"
   },
   "outputs": [
    {
     "name": "stdout",
     "output_type": "stream",
     "text": [
      "[ 0.          0.90929743 -0.7568025  -0.2794155   0.98935825]\n"
     ]
    }
   ],
   "source": [
    "print(np.sin(a))"
   ]
  },
  {
   "cell_type": "markdown",
   "metadata": {
    "colab_type": "text",
    "id": "Cm7c1VILeSYh"
   },
   "source": [
    "Один из операндов может быть скаляром, а не массивом."
   ]
  },
  {
   "cell_type": "code",
   "execution_count": 34,
   "metadata": {
    "ExecuteTime": {
     "end_time": "2020-03-05T18:43:04.091481Z",
     "start_time": "2020-03-05T18:43:04.004595Z"
    },
    "colab": {},
    "colab_type": "code",
    "id": "Wz9kCm0feSYh",
    "outputId": "aaf6e761-c6b0-4672-bd2c-4a5c9163036c"
   },
   "outputs": [
    {
     "name": "stdout",
     "output_type": "stream",
     "text": [
      "[1. 3. 5. 7. 9.]\n"
     ]
    }
   ],
   "source": [
    "print(a + 1)"
   ]
  },
  {
   "cell_type": "code",
   "execution_count": 35,
   "metadata": {
    "ExecuteTime": {
     "end_time": "2020-03-05T18:43:04.250866Z",
     "start_time": "2020-03-05T18:43:04.092988Z"
    },
    "colab": {},
    "colab_type": "code",
    "id": "FeacFeQYeSYi",
    "outputId": "67b3c30e-f00c-4fe5-f8d2-1585855292f8"
   },
   "outputs": [
    {
     "name": "stdout",
     "output_type": "stream",
     "text": [
      "[ 0.  4.  8. 12. 16.]\n"
     ]
    }
   ],
   "source": [
    "print(2 * a)"
   ]
  },
  {
   "cell_type": "markdown",
   "metadata": {
    "colab_type": "text",
    "id": "76IhU9CAeSYk"
   },
   "source": [
    "Сравнения дают булевы массивы."
   ]
  },
  {
   "cell_type": "code",
   "execution_count": 36,
   "metadata": {
    "ExecuteTime": {
     "end_time": "2020-03-05T18:43:04.351518Z",
     "start_time": "2020-03-05T18:43:04.258062Z"
    },
    "colab": {},
    "colab_type": "code",
    "id": "69vVqzSgeSYk",
    "outputId": "1b3770e9-5580-4a2c-a3f5-e5702667a9b0"
   },
   "outputs": [
    {
     "name": "stdout",
     "output_type": "stream",
     "text": [
      "[False  True  True  True False]\n"
     ]
    }
   ],
   "source": [
    "print(a > b)"
   ]
  },
  {
   "cell_type": "code",
   "execution_count": 37,
   "metadata": {
    "ExecuteTime": {
     "end_time": "2020-03-05T18:43:04.448064Z",
     "start_time": "2020-03-05T18:43:04.357406Z"
    },
    "colab": {},
    "colab_type": "code",
    "id": "DwDMZFhSeSYl",
    "outputId": "1f2ec0e7-f7ad-4afd-8a87-8ee1a654364c"
   },
   "outputs": [
    {
     "name": "stdout",
     "output_type": "stream",
     "text": [
      "[False False False False False]\n"
     ]
    }
   ],
   "source": [
    "print(a == b)"
   ]
  },
  {
   "cell_type": "code",
   "execution_count": 38,
   "metadata": {
    "ExecuteTime": {
     "end_time": "2020-03-05T18:43:04.527610Z",
     "start_time": "2020-03-05T18:43:04.455140Z"
    },
    "colab": {},
    "colab_type": "code",
    "id": "TbjPskMceSYm",
    "outputId": "5a4ed084-f51e-4244-bd5d-04da70d42eed"
   },
   "outputs": [
    {
     "name": "stdout",
     "output_type": "stream",
     "text": [
      "[False False False  True  True]\n"
     ]
    }
   ],
   "source": [
    "c = a > 5\n",
    "print(c)"
   ]
  },
  {
   "cell_type": "markdown",
   "metadata": {
    "colab_type": "text",
    "id": "vQ05bHN4eSYo"
   },
   "source": [
    "Кванторы \"существует\" и \"для всех\"."
   ]
  },
  {
   "cell_type": "code",
   "execution_count": 39,
   "metadata": {
    "ExecuteTime": {
     "end_time": "2020-03-05T18:43:04.624144Z",
     "start_time": "2020-03-05T18:43:04.533074Z"
    },
    "colab": {},
    "colab_type": "code",
    "id": "HTMkK7wYeSYo",
    "outputId": "f6c971cb-bc8f-41f8-8b76-9250ed527052"
   },
   "outputs": [
    {
     "data": {
      "text/plain": [
       "(True, False)"
      ]
     },
     "execution_count": 39,
     "metadata": {},
     "output_type": "execute_result"
    }
   ],
   "source": [
    "np.any(c), np.all(c)"
   ]
  },
  {
   "cell_type": "markdown",
   "metadata": {
    "colab_type": "text",
    "id": "YdXbXq--eSYp"
   },
   "source": [
    "Модификация на месте."
   ]
  },
  {
   "cell_type": "code",
   "execution_count": 40,
   "metadata": {
    "ExecuteTime": {
     "end_time": "2020-03-05T18:43:04.721380Z",
     "start_time": "2020-03-05T18:43:04.626234Z"
    }
   },
   "outputs": [
    {
     "data": {
      "text/plain": [
       "array([0., 2., 4., 6., 8.])"
      ]
     },
     "execution_count": 40,
     "metadata": {},
     "output_type": "execute_result"
    }
   ],
   "source": [
    "a"
   ]
  },
  {
   "cell_type": "code",
   "execution_count": 41,
   "metadata": {
    "ExecuteTime": {
     "end_time": "2020-03-05T18:43:04.802550Z",
     "start_time": "2020-03-05T18:43:04.729919Z"
    },
    "colab": {},
    "colab_type": "code",
    "id": "iNT_nYSveSYq",
    "outputId": "f08f9950-3648-40cc-cc4f-144e57d5d8cd"
   },
   "outputs": [
    {
     "name": "stdout",
     "output_type": "stream",
     "text": [
      "[1. 3. 5. 7. 9.]\n"
     ]
    }
   ],
   "source": [
    "a += 1\n",
    "print(a)"
   ]
  },
  {
   "cell_type": "code",
   "execution_count": 42,
   "metadata": {
    "ExecuteTime": {
     "end_time": "2020-03-05T18:43:04.912501Z",
     "start_time": "2020-03-05T18:43:04.808252Z"
    }
   },
   "outputs": [
    {
     "data": {
      "text/plain": [
       "array([ 1.        ,  1.77827941,  3.16227766,  5.62341325, 10.        ])"
      ]
     },
     "execution_count": 42,
     "metadata": {},
     "output_type": "execute_result"
    }
   ],
   "source": [
    "b"
   ]
  },
  {
   "cell_type": "code",
   "execution_count": 43,
   "metadata": {
    "ExecuteTime": {
     "end_time": "2020-03-05T18:43:04.992528Z",
     "start_time": "2020-03-05T18:43:04.922495Z"
    },
    "colab": {},
    "colab_type": "code",
    "id": "CItC6JrLeSYr",
    "outputId": "8caecf6e-a7c6-4951-d87d-c1c7e4178ac6"
   },
   "outputs": [
    {
     "name": "stdout",
     "output_type": "stream",
     "text": [
      "[ 2.          3.55655882  6.32455532 11.2468265  20.        ]\n"
     ]
    }
   ],
   "source": [
    "b *= 2\n",
    "print(b)"
   ]
  },
  {
   "cell_type": "code",
   "execution_count": 44,
   "metadata": {
    "ExecuteTime": {
     "end_time": "2020-03-05T18:43:05.078654Z",
     "start_time": "2020-03-05T18:43:04.994710Z"
    },
    "colab": {},
    "colab_type": "code",
    "id": "immEdJpGeSYt",
    "outputId": "ff63871a-9c7f-46bb-aeac-50c72ffcea1c"
   },
   "outputs": [
    {
     "name": "stdout",
     "output_type": "stream",
     "text": [
      "[2.         1.18551961 1.26491106 1.6066895  2.22222222]\n"
     ]
    }
   ],
   "source": [
    "b /= a\n",
    "print(b)"
   ]
  },
  {
   "cell_type": "markdown",
   "metadata": {
    "colab_type": "text",
    "id": "JtiaPtiGeSYu"
   },
   "source": [
    "При выполнении операций над массивами деление на 0 не возбуждает исключения, а даёт значения `np.nan` или `np.inf`."
   ]
  },
  {
   "cell_type": "code",
   "execution_count": 45,
   "metadata": {
    "ExecuteTime": {
     "end_time": "2020-03-05T18:43:05.183366Z",
     "start_time": "2020-03-05T18:43:05.080442Z"
    },
    "colab": {},
    "colab_type": "code",
    "id": "uksiTX96eSYu",
    "outputId": "87acbc35-f5b3-4362-a3be-f9ad354f3710"
   },
   "outputs": [
    {
     "name": "stdout",
     "output_type": "stream",
     "text": [
      "[  0.  nan  inf -inf]\n"
     ]
    },
    {
     "name": "stderr",
     "output_type": "stream",
     "text": [
      "/home/topcoder2k/anaconda3/envs/mipt-stats/lib/python3.7/site-packages/ipykernel_launcher.py:1: RuntimeWarning: divide by zero encountered in true_divide\n",
      "  \"\"\"Entry point for launching an IPython kernel.\n",
      "/home/topcoder2k/anaconda3/envs/mipt-stats/lib/python3.7/site-packages/ipykernel_launcher.py:1: RuntimeWarning: invalid value encountered in true_divide\n",
      "  \"\"\"Entry point for launching an IPython kernel.\n"
     ]
    }
   ],
   "source": [
    "print(np.array([0.0, 0.0, 1.0, -1.0]) / np.array([1.0, 0.0, 0.0, 0.0]))"
   ]
  },
  {
   "cell_type": "code",
   "execution_count": 46,
   "metadata": {
    "ExecuteTime": {
     "end_time": "2020-03-05T18:43:05.309690Z",
     "start_time": "2020-03-05T18:43:05.185451Z"
    },
    "colab": {},
    "colab_type": "code",
    "id": "sXwqQVDHeSYw",
    "outputId": "32727700-8c1e-4d9c-ad45-ba8ea8c4dfd0"
   },
   "outputs": [
    {
     "data": {
      "text/plain": [
       "(nan, inf, nan, 0.0)"
      ]
     },
     "execution_count": 46,
     "metadata": {},
     "output_type": "execute_result"
    }
   ],
   "source": [
    "np.nan + 1, np.inf + 1, np.inf * 0, 1. / np.inf"
   ]
  },
  {
   "cell_type": "markdown",
   "metadata": {
    "colab_type": "text",
    "id": "ukM-LTuAeSYx"
   },
   "source": [
    "Сумма и произведение всех элементов массива; максимальный и минимальный элемент; среднее и среднеквадратичное отклонение."
   ]
  },
  {
   "cell_type": "code",
   "execution_count": 47,
   "metadata": {
    "ExecuteTime": {
     "end_time": "2020-03-05T18:43:05.404308Z",
     "start_time": "2020-03-05T18:43:05.317370Z"
    }
   },
   "outputs": [
    {
     "data": {
      "text/plain": [
       "array([2.        , 1.18551961, 1.26491106, 1.6066895 , 2.22222222])"
      ]
     },
     "execution_count": 47,
     "metadata": {},
     "output_type": "execute_result"
    }
   ],
   "source": [
    "b"
   ]
  },
  {
   "cell_type": "code",
   "execution_count": 48,
   "metadata": {
    "ExecuteTime": {
     "end_time": "2020-03-05T18:43:05.509103Z",
     "start_time": "2020-03-05T18:43:05.408351Z"
    },
    "colab": {},
    "colab_type": "code",
    "id": "ZIo9nEFCeSYx",
    "outputId": "47bb6f64-1b06-4adf-a182-305ead06aa7e"
   },
   "outputs": [
    {
     "data": {
      "text/plain": [
       "(8.279342393526044,\n",
       " 10.708241812210389,\n",
       " 2.2222222222222223,\n",
       " 1.1855196066926152,\n",
       " 1.6558684787052087,\n",
       " 0.4039003342660745)"
      ]
     },
     "execution_count": 48,
     "metadata": {},
     "output_type": "execute_result"
    }
   ],
   "source": [
    "b.sum(), b.prod(), b.max(), b.min(), b.mean(), b.std()"
   ]
  },
  {
   "cell_type": "markdown",
   "metadata": {
    "colab_type": "text",
    "id": "rju3ggwJeSYy"
   },
   "source": [
    "Имеются встроенные функции"
   ]
  },
  {
   "cell_type": "code",
   "execution_count": 49,
   "metadata": {
    "ExecuteTime": {
     "end_time": "2020-03-05T18:43:05.615040Z",
     "start_time": "2020-03-05T18:43:05.517097Z"
    },
    "colab": {},
    "colab_type": "code",
    "id": "H3xDbf6PeSYz",
    "outputId": "a4b1c284-e75b-491a-cac2-06034cf16753"
   },
   "outputs": [
    {
     "name": "stdout",
     "output_type": "stream",
     "text": [
      "[1.41421356 1.08881569 1.12468265 1.26755256 1.49071198]\n",
      "[7.3890561  3.27238673 3.54277764 4.98627681 9.22781435]\n",
      "[0.69314718 0.17018117 0.23500181 0.47417585 0.7985077 ]\n",
      "[0.90929743 0.92669447 0.95358074 0.99935591 0.79522006]\n",
      "2.718281828459045 3.141592653589793\n"
     ]
    }
   ],
   "source": [
    "print(np.sqrt(b))\n",
    "print(np.exp(b))\n",
    "print(np.log(b))\n",
    "print(np.sin(b))\n",
    "print(np.e, np.pi)"
   ]
  },
  {
   "cell_type": "markdown",
   "metadata": {
    "colab_type": "text",
    "id": "g6EBDaBWeSY0"
   },
   "source": [
    "Иногда бывает нужно использовать частичные (кумулятивные) суммы. В нашем курсе такое пригодится."
   ]
  },
  {
   "cell_type": "code",
   "execution_count": 50,
   "metadata": {
    "ExecuteTime": {
     "end_time": "2020-03-05T18:43:05.699639Z",
     "start_time": "2020-03-05T18:43:05.625917Z"
    },
    "colab": {},
    "colab_type": "code",
    "id": "JzFVH5DIeSY0",
    "outputId": "727bb0ca-dfd2-4649-9dfe-e9baae6a96bc"
   },
   "outputs": [
    {
     "name": "stdout",
     "output_type": "stream",
     "text": [
      "[2.         3.18551961 4.45043067 6.05712017 8.27934239]\n"
     ]
    }
   ],
   "source": [
    "print(b.cumsum())"
   ]
  },
  {
   "cell_type": "markdown",
   "metadata": {
    "colab_type": "text",
    "id": "dyaDa9YXeSY1"
   },
   "source": [
    "#### 2.2 Сортировка, изменение массивов\n",
    "\n",
    "Функция `sort` возвращает отсортированную копию, метод `sort` сортирует на месте."
   ]
  },
  {
   "cell_type": "code",
   "execution_count": 51,
   "metadata": {
    "ExecuteTime": {
     "end_time": "2020-03-05T18:43:05.929341Z",
     "start_time": "2020-03-05T18:43:05.703488Z"
    }
   },
   "outputs": [
    {
     "data": {
      "text/plain": [
       "array([2.        , 1.18551961, 1.26491106, 1.6066895 , 2.22222222])"
      ]
     },
     "execution_count": 51,
     "metadata": {},
     "output_type": "execute_result"
    }
   ],
   "source": [
    "b"
   ]
  },
  {
   "cell_type": "code",
   "execution_count": 52,
   "metadata": {
    "ExecuteTime": {
     "end_time": "2020-03-05T18:43:06.437843Z",
     "start_time": "2020-03-05T18:43:05.936217Z"
    },
    "colab": {},
    "colab_type": "code",
    "id": "XS7IRW09eSY2",
    "outputId": "16956a23-2c90-423c-d2e7-1c970097a093"
   },
   "outputs": [
    {
     "name": "stdout",
     "output_type": "stream",
     "text": [
      "[1.18551961 1.26491106 1.6066895  2.         2.22222222]\n",
      "[2.         1.18551961 1.26491106 1.6066895  2.22222222]\n"
     ]
    }
   ],
   "source": [
    "print(np.sort(b))\n",
    "print(b)"
   ]
  },
  {
   "cell_type": "code",
   "execution_count": 53,
   "metadata": {
    "ExecuteTime": {
     "end_time": "2020-03-05T18:43:06.509612Z",
     "start_time": "2020-03-05T18:43:06.448023Z"
    },
    "colab": {},
    "colab_type": "code",
    "id": "QENzFihJeSY3",
    "outputId": "d98a1e07-e628-4901-e58c-e33589bac5d2"
   },
   "outputs": [
    {
     "name": "stdout",
     "output_type": "stream",
     "text": [
      "[1.18551961 1.26491106 1.6066895  2.         2.22222222]\n"
     ]
    }
   ],
   "source": [
    "b.sort()\n",
    "print(b)"
   ]
  },
  {
   "cell_type": "markdown",
   "metadata": {
    "colab_type": "text",
    "id": "ZPjBXM_OeSY4"
   },
   "source": [
    "Объединение массивов."
   ]
  },
  {
   "cell_type": "code",
   "execution_count": 54,
   "metadata": {
    "ExecuteTime": {
     "end_time": "2020-03-05T18:43:06.591142Z",
     "start_time": "2020-03-05T18:43:06.511637Z"
    }
   },
   "outputs": [
    {
     "data": {
      "text/plain": [
       "array([1., 3., 5., 7., 9.])"
      ]
     },
     "execution_count": 54,
     "metadata": {},
     "output_type": "execute_result"
    }
   ],
   "source": [
    "a"
   ]
  },
  {
   "cell_type": "code",
   "execution_count": 55,
   "metadata": {
    "ExecuteTime": {
     "end_time": "2020-03-05T18:43:06.690959Z",
     "start_time": "2020-03-05T18:43:06.593554Z"
    }
   },
   "outputs": [
    {
     "data": {
      "text/plain": [
       "array([1.18551961, 1.26491106, 1.6066895 , 2.        , 2.22222222])"
      ]
     },
     "execution_count": 55,
     "metadata": {},
     "output_type": "execute_result"
    }
   ],
   "source": [
    "b"
   ]
  },
  {
   "cell_type": "code",
   "execution_count": 56,
   "metadata": {
    "ExecuteTime": {
     "end_time": "2020-03-05T18:43:06.788933Z",
     "start_time": "2020-03-05T18:43:06.693482Z"
    },
    "colab": {},
    "colab_type": "code",
    "id": "_SYn0MdseSY4",
    "outputId": "a5765f2c-2486-440b-fc62-b781ff5d28db"
   },
   "outputs": [
    {
     "name": "stdout",
     "output_type": "stream",
     "text": [
      "[1.         3.         5.         7.         9.         1.18551961\n",
      " 1.26491106 1.6066895  2.         2.22222222]\n"
     ]
    }
   ],
   "source": [
    "a = np.hstack((a, b))\n",
    "print(a)"
   ]
  },
  {
   "cell_type": "markdown",
   "metadata": {
    "colab_type": "text",
    "id": "cT0JM6lZeSY6"
   },
   "source": [
    "Расщепление массива в позициях 3 и 6."
   ]
  },
  {
   "cell_type": "code",
   "execution_count": 57,
   "metadata": {
    "ExecuteTime": {
     "end_time": "2020-03-05T18:43:06.865798Z",
     "start_time": "2020-03-05T18:43:06.792148Z"
    },
    "colab": {},
    "colab_type": "code",
    "id": "-DVwnZhFeSY6",
    "outputId": "9f401d0a-963b-46a6-afe4-e65854b7d652"
   },
   "outputs": [
    {
     "data": {
      "text/plain": [
       "[array([1., 3., 5.]),\n",
       " array([7.        , 9.        , 1.18551961]),\n",
       " array([1.26491106, 1.6066895 , 2.        , 2.22222222])]"
      ]
     },
     "execution_count": 57,
     "metadata": {},
     "output_type": "execute_result"
    }
   ],
   "source": [
    "np.hsplit(a, [3, 6])"
   ]
  },
  {
   "cell_type": "markdown",
   "metadata": {
    "colab_type": "text",
    "id": "eOZAGZV0eSY7"
   },
   "source": [
    "Функции `delete`, `insert` и `append` не меняют массив на месте, а возвращают новый массив, в котором удалены, вставлены в середину или добавлены в конец какие-то элементы."
   ]
  },
  {
   "cell_type": "code",
   "execution_count": 58,
   "metadata": {
    "ExecuteTime": {
     "end_time": "2020-03-05T18:43:06.967293Z",
     "start_time": "2020-03-05T18:43:06.867343Z"
    },
    "colab": {},
    "colab_type": "code",
    "id": "G4iDI8hjeSY8",
    "outputId": "49d40d25-1d2d-47e5-936a-9664211f615b"
   },
   "outputs": [
    {
     "name": "stdout",
     "output_type": "stream",
     "text": [
      "[1.         3.         5.         7.         9.         1.26491106\n",
      " 2.         2.22222222]\n"
     ]
    }
   ],
   "source": [
    "a = np.delete(a, [5, 7])\n",
    "print(a)"
   ]
  },
  {
   "cell_type": "code",
   "execution_count": 59,
   "metadata": {
    "ExecuteTime": {
     "end_time": "2020-03-05T18:43:07.057217Z",
     "start_time": "2020-03-05T18:43:06.970225Z"
    },
    "colab": {},
    "colab_type": "code",
    "id": "y2FW3FAYeSY9",
    "outputId": "504200b5-c5b9-4560-a08a-9c8f5f0c7033"
   },
   "outputs": [
    {
     "name": "stdout",
     "output_type": "stream",
     "text": [
      "[1.         3.         0.         0.         5.         7.\n",
      " 9.         1.26491106 2.         2.22222222]\n"
     ]
    }
   ],
   "source": [
    "a = np.insert(a, 2, [0, 0])\n",
    "print(a)"
   ]
  },
  {
   "cell_type": "code",
   "execution_count": 60,
   "metadata": {
    "ExecuteTime": {
     "end_time": "2020-03-05T18:43:07.159910Z",
     "start_time": "2020-03-05T18:43:07.061311Z"
    },
    "colab": {},
    "colab_type": "code",
    "id": "DK6c68IxeSY-",
    "outputId": "e7f8e04d-a884-4573-8633-d1f07c3c67a8"
   },
   "outputs": [
    {
     "name": "stdout",
     "output_type": "stream",
     "text": [
      "[1.         3.         0.         0.         5.         7.\n",
      " 9.         1.26491106 2.         2.22222222 1.         2.\n",
      " 3.        ]\n"
     ]
    }
   ],
   "source": [
    "a = np.append(a, [1, 2, 3])\n",
    "print(a)"
   ]
  },
  {
   "cell_type": "markdown",
   "metadata": {
    "colab_type": "text",
    "id": "q669pBe0eSY_"
   },
   "source": [
    "#### 2.3 Способы индексации массивов\n",
    "\n",
    "Есть несколько способов индексации массива. Вот обычный индекс."
   ]
  },
  {
   "cell_type": "code",
   "execution_count": 61,
   "metadata": {
    "ExecuteTime": {
     "end_time": "2020-03-05T18:43:07.241503Z",
     "start_time": "2020-03-05T18:43:07.166267Z"
    },
    "colab": {},
    "colab_type": "code",
    "id": "oW8SgWFLeSZA",
    "outputId": "923d08cc-7ff7-4e35-da0d-449ec93e5e04"
   },
   "outputs": [
    {
     "name": "stdout",
     "output_type": "stream",
     "text": [
      "[0.  0.1 0.2 0.3 0.4 0.5 0.6 0.7 0.8 0.9 1. ]\n"
     ]
    }
   ],
   "source": [
    "a = np.linspace(0, 1, 11)\n",
    "print(a)"
   ]
  },
  {
   "cell_type": "code",
   "execution_count": 62,
   "metadata": {
    "ExecuteTime": {
     "end_time": "2020-03-05T18:43:07.333814Z",
     "start_time": "2020-03-05T18:43:07.243314Z"
    },
    "colab": {},
    "colab_type": "code",
    "id": "7eQ_xryueSZB",
    "outputId": "e2250f02-95c9-46a6-a193-5f28206f8cf4"
   },
   "outputs": [
    {
     "name": "stdout",
     "output_type": "stream",
     "text": [
      "0.2\n"
     ]
    }
   ],
   "source": [
    "b = a[2]\n",
    "print(b)"
   ]
  },
  {
   "cell_type": "markdown",
   "metadata": {
    "colab_type": "text",
    "id": "corcUOljeSZC"
   },
   "source": [
    "Диапазон индексов. Создаётся новый заголовок массива, указывающий на те же данные. Изменения, сделанные через такой массив, видны и в исходном массиве."
   ]
  },
  {
   "cell_type": "code",
   "execution_count": 63,
   "metadata": {
    "ExecuteTime": {
     "end_time": "2020-03-05T18:43:07.432674Z",
     "start_time": "2020-03-05T18:43:07.347841Z"
    },
    "colab": {},
    "colab_type": "code",
    "id": "g7sRF3GqeSZC",
    "outputId": "ee84b857-9d43-4b55-ecc4-9d82c9ff5a8d"
   },
   "outputs": [
    {
     "name": "stdout",
     "output_type": "stream",
     "text": [
      "[0.2 0.3 0.4 0.5]\n"
     ]
    }
   ],
   "source": [
    "b = a[2:6]\n",
    "print(b)"
   ]
  },
  {
   "cell_type": "code",
   "execution_count": 64,
   "metadata": {
    "ExecuteTime": {
     "end_time": "2020-03-05T18:43:07.532399Z",
     "start_time": "2020-03-05T18:43:07.436211Z"
    },
    "colab": {},
    "colab_type": "code",
    "id": "mNJoJFFOeSZE",
    "outputId": "8efeb91a-e1b4-4f24-db1d-73a6395ebab2"
   },
   "outputs": [
    {
     "name": "stdout",
     "output_type": "stream",
     "text": [
      "[-0.2  0.3  0.4  0.5]\n"
     ]
    }
   ],
   "source": [
    "b[0] = -0.2\n",
    "print(b)"
   ]
  },
  {
   "cell_type": "code",
   "execution_count": 65,
   "metadata": {
    "ExecuteTime": {
     "end_time": "2020-03-05T18:43:07.632371Z",
     "start_time": "2020-03-05T18:43:07.535797Z"
    },
    "colab": {},
    "colab_type": "code",
    "id": "PdAUJK9XeSZF",
    "outputId": "e2789d07-7a10-4a3a-ed7d-7e15a20cca5e"
   },
   "outputs": [
    {
     "name": "stdout",
     "output_type": "stream",
     "text": [
      "[ 0.   0.1 -0.2  0.3  0.4  0.5  0.6  0.7  0.8  0.9  1. ]\n"
     ]
    }
   ],
   "source": [
    "print(a)"
   ]
  },
  {
   "cell_type": "markdown",
   "metadata": {
    "colab_type": "text",
    "id": "lE9gziSweSZG"
   },
   "source": [
    "Диапазон с шагом 2."
   ]
  },
  {
   "cell_type": "code",
   "execution_count": 66,
   "metadata": {
    "ExecuteTime": {
     "end_time": "2020-03-05T18:43:07.725203Z",
     "start_time": "2020-03-05T18:43:07.637622Z"
    },
    "colab": {},
    "colab_type": "code",
    "id": "wLEQPJsXeSZH",
    "outputId": "940aadee-6f78-425d-9dec-b36de9d5abfb"
   },
   "outputs": [
    {
     "name": "stdout",
     "output_type": "stream",
     "text": [
      "[0.1 0.3 0.5 0.7 0.9]\n"
     ]
    }
   ],
   "source": [
    "b = a[1:10:2]\n",
    "print(b)"
   ]
  },
  {
   "cell_type": "code",
   "execution_count": 67,
   "metadata": {
    "ExecuteTime": {
     "end_time": "2020-03-05T18:43:07.820322Z",
     "start_time": "2020-03-05T18:43:07.730271Z"
    },
    "colab": {},
    "colab_type": "code",
    "id": "Lw1rqM8WeSZI",
    "outputId": "2f6dfda0-f048-4d9f-f603-99eaa9d6912f"
   },
   "outputs": [
    {
     "name": "stdout",
     "output_type": "stream",
     "text": [
      "[ 0.  -0.1 -0.2  0.3  0.4  0.5  0.6  0.7  0.8  0.9  1. ]\n"
     ]
    }
   ],
   "source": [
    "b[0] = -0.1\n",
    "print(a)"
   ]
  },
  {
   "cell_type": "markdown",
   "metadata": {
    "colab_type": "text",
    "id": "Nh9e4ZWNeSZK"
   },
   "source": [
    "Массив в обратном порядке."
   ]
  },
  {
   "cell_type": "code",
   "execution_count": 68,
   "metadata": {
    "ExecuteTime": {
     "end_time": "2020-03-05T18:43:07.909654Z",
     "start_time": "2020-03-05T18:43:07.823423Z"
    },
    "colab": {},
    "colab_type": "code",
    "id": "LKbKi90neSZK",
    "outputId": "94ef492b-c486-46a1-f22a-cb9e443e0319"
   },
   "outputs": [
    {
     "name": "stdout",
     "output_type": "stream",
     "text": [
      "[ 1.   0.9  0.8  0.7  0.6  0.5  0.4  0.3 -0.2 -0.1  0. ]\n"
     ]
    }
   ],
   "source": [
    "b = a[::-1]\n",
    "print(b)"
   ]
  },
  {
   "cell_type": "markdown",
   "metadata": {
    "colab_type": "text",
    "id": "Im8dqbkIeSZL"
   },
   "source": [
    "Подмассиву можно присвоить значение - массив правильного размера или скаляр."
   ]
  },
  {
   "cell_type": "code",
   "execution_count": 69,
   "metadata": {
    "ExecuteTime": {
     "end_time": "2020-03-05T18:43:08.016658Z",
     "start_time": "2020-03-05T18:43:07.917767Z"
    },
    "colab": {},
    "colab_type": "code",
    "id": "cwQlTL-deSZM",
    "outputId": "15e2ee4d-67f4-41f2-c99d-0e0b51772063"
   },
   "outputs": [
    {
     "name": "stdout",
     "output_type": "stream",
     "text": [
      "[ 0.   0.  -0.2  0.3  0.   0.5  0.6  0.   0.8  0.9  1. ]\n"
     ]
    }
   ],
   "source": [
    "a[1:10:3] = 0\n",
    "print(a)"
   ]
  },
  {
   "cell_type": "markdown",
   "metadata": {
    "colab_type": "text",
    "id": "NkDtCWUgeSZN"
   },
   "source": [
    "Тут опять создаётся только новый заголовок, указывающий на те же данные."
   ]
  },
  {
   "cell_type": "code",
   "execution_count": 70,
   "metadata": {
    "ExecuteTime": {
     "end_time": "2020-03-05T18:43:08.118100Z",
     "start_time": "2020-03-05T18:43:08.031308Z"
    },
    "colab": {},
    "colab_type": "code",
    "id": "BSI6oafVeSZO",
    "outputId": "5cfdfb24-2267-4f22-bb27-c520e47d4c4c"
   },
   "outputs": [
    {
     "name": "stdout",
     "output_type": "stream",
     "text": [
      "[ 0.   0.1 -0.2  0.3  0.   0.5  0.6  0.   0.8  0.9  1. ]\n"
     ]
    }
   ],
   "source": [
    "b = a[:]\n",
    "b[1] = 0.1\n",
    "print(a)"
   ]
  },
  {
   "cell_type": "markdown",
   "metadata": {
    "colab_type": "text",
    "id": "Zjq__bNXeSZP"
   },
   "source": [
    "Чтобы скопировать и данные массива, нужно использовать метод `copy`."
   ]
  },
  {
   "cell_type": "code",
   "execution_count": 71,
   "metadata": {
    "ExecuteTime": {
     "end_time": "2020-03-05T18:43:08.209728Z",
     "start_time": "2020-03-05T18:43:08.125349Z"
    },
    "colab": {},
    "colab_type": "code",
    "id": "VVds6EI5eSZP",
    "outputId": "c6eefd02-9510-4d42-c949-8cf35d650925"
   },
   "outputs": [
    {
     "name": "stdout",
     "output_type": "stream",
     "text": [
      "[0.  0.1 0.  0.3 0.  0.5 0.6 0.  0.8 0.9 1. ]\n",
      "[ 0.   0.1 -0.2  0.3  0.   0.5  0.6  0.   0.8  0.9  1. ]\n"
     ]
    }
   ],
   "source": [
    "b = a.copy()\n",
    "b[2] = 0\n",
    "print(b)\n",
    "print(a)"
   ]
  },
  {
   "cell_type": "markdown",
   "metadata": {
    "colab_type": "text",
    "id": "2ynzvLTmeSZR"
   },
   "source": [
    "Можно задать список индексов."
   ]
  },
  {
   "cell_type": "code",
   "execution_count": 72,
   "metadata": {
    "ExecuteTime": {
     "end_time": "2020-03-05T18:43:08.298075Z",
     "start_time": "2020-03-05T18:43:08.211224Z"
    },
    "colab": {},
    "colab_type": "code",
    "id": "fRF4VWZmeSZR",
    "outputId": "83918745-b2e0-4e26-9b9f-b756e9cf3e39"
   },
   "outputs": [
    {
     "name": "stdout",
     "output_type": "stream",
     "text": [
      "[-0.2  0.3  0.5]\n"
     ]
    }
   ],
   "source": [
    "print(a[[2, 3, 5]])"
   ]
  },
  {
   "cell_type": "markdown",
   "metadata": {
    "colab_type": "text",
    "id": "JF2kGGHDeSZT"
   },
   "source": [
    "Можно задать булев массив той же величины."
   ]
  },
  {
   "cell_type": "code",
   "execution_count": 73,
   "metadata": {
    "ExecuteTime": {
     "end_time": "2020-03-05T18:43:08.377545Z",
     "start_time": "2020-03-05T18:43:08.300426Z"
    },
    "colab": {},
    "colab_type": "code",
    "id": "yeFzrHxfeSZT",
    "outputId": "7e0ac209-fe39-42d8-b130-40c559e2f6f2"
   },
   "outputs": [
    {
     "name": "stdout",
     "output_type": "stream",
     "text": [
      "[False  True False  True False  True  True False  True  True  True]\n"
     ]
    }
   ],
   "source": [
    "b = a > 0\n",
    "print(b)"
   ]
  },
  {
   "cell_type": "code",
   "execution_count": 74,
   "metadata": {
    "ExecuteTime": {
     "end_time": "2020-03-05T18:43:08.480589Z",
     "start_time": "2020-03-05T18:43:08.383620Z"
    },
    "colab": {},
    "colab_type": "code",
    "id": "CS_Xass1eSZU",
    "outputId": "e739f4a5-cb73-4d4a-ae20-df9577cfb3fc"
   },
   "outputs": [
    {
     "name": "stdout",
     "output_type": "stream",
     "text": [
      "[0.1 0.3 0.5 0.6 0.8 0.9 1. ]\n"
     ]
    }
   ],
   "source": [
    "print(a[b])"
   ]
  },
  {
   "cell_type": "code",
   "execution_count": 75,
   "metadata": {
    "ExecuteTime": {
     "end_time": "2020-03-05T18:43:08.576958Z",
     "start_time": "2020-03-05T18:43:08.488259Z"
    }
   },
   "outputs": [
    {
     "data": {
      "text/plain": [
       "array([ 0. ,  0.1, -0.2,  0.3,  0. ,  0.5,  0.6,  0. ,  0.8,  0.9,  1. ])"
      ]
     },
     "execution_count": 75,
     "metadata": {},
     "output_type": "execute_result"
    }
   ],
   "source": [
    "a"
   ]
  },
  {
   "cell_type": "code",
   "execution_count": 76,
   "metadata": {
    "ExecuteTime": {
     "end_time": "2020-03-05T18:43:08.663478Z",
     "start_time": "2020-03-05T18:43:08.579037Z"
    }
   },
   "outputs": [
    {
     "data": {
      "text/plain": [
       "array([False,  True, False,  True, False,  True,  True, False,  True,\n",
       "        True,  True])"
      ]
     },
     "execution_count": 76,
     "metadata": {},
     "output_type": "execute_result"
    }
   ],
   "source": [
    "b"
   ]
  },
  {
   "cell_type": "markdown",
   "metadata": {},
   "source": [
    "**Упражнение:**  \n",
    "1)Создайте массив чисел от $-2\\pi$  до $2\\pi$  \n",
    "2)Посчитайте сумму поэлементных квадратов синуса и косинуса для данного массива  \n",
    "3)С помощью `np.all` проверьте, что в ответе только единицы"
   ]
  },
  {
   "cell_type": "markdown",
   "metadata": {
    "colab_type": "text",
    "id": "DUBkecfkeSZW"
   },
   "source": [
    "## 3. Двумерные массивы\n",
    "\n",
    "#### 3.1 Создание, простые операции"
   ]
  },
  {
   "cell_type": "code",
   "execution_count": 77,
   "metadata": {
    "ExecuteTime": {
     "end_time": "2020-03-05T18:43:08.769504Z",
     "start_time": "2020-03-05T18:43:08.667150Z"
    },
    "colab": {},
    "colab_type": "code",
    "id": "kELaHm5YeSZW",
    "outputId": "b39704bd-7891-4508-a2b4-03c5666fc508"
   },
   "outputs": [
    {
     "name": "stdout",
     "output_type": "stream",
     "text": [
      "[[ 0.  1.]\n",
      " [-1.  0.]]\n"
     ]
    }
   ],
   "source": [
    "a = np.array([[0.0, 1.0], [-1.0, 0.0]])\n",
    "print(a)"
   ]
  },
  {
   "cell_type": "code",
   "execution_count": 78,
   "metadata": {
    "ExecuteTime": {
     "end_time": "2020-03-05T18:43:08.919090Z",
     "start_time": "2020-03-05T18:43:08.775276Z"
    },
    "colab": {},
    "colab_type": "code",
    "id": "py9Ei8aSeSZX",
    "outputId": "8d23d785-c8f9-4948-c24b-9563fff1314c"
   },
   "outputs": [
    {
     "data": {
      "text/plain": [
       "2"
      ]
     },
     "execution_count": 78,
     "metadata": {},
     "output_type": "execute_result"
    }
   ],
   "source": [
    "a.ndim"
   ]
  },
  {
   "cell_type": "code",
   "execution_count": 79,
   "metadata": {
    "ExecuteTime": {
     "end_time": "2020-03-05T18:43:09.009695Z",
     "start_time": "2020-03-05T18:43:08.921780Z"
    },
    "colab": {},
    "colab_type": "code",
    "id": "0TUKspWjeSZZ",
    "outputId": "7539a5a1-309d-41fd-fb9c-ff20bf0bd0c1"
   },
   "outputs": [
    {
     "data": {
      "text/plain": [
       "(2, 2)"
      ]
     },
     "execution_count": 79,
     "metadata": {},
     "output_type": "execute_result"
    }
   ],
   "source": [
    "a.shape"
   ]
  },
  {
   "cell_type": "code",
   "execution_count": 80,
   "metadata": {
    "ExecuteTime": {
     "end_time": "2020-03-05T18:43:09.107217Z",
     "start_time": "2020-03-05T18:43:09.012378Z"
    },
    "colab": {},
    "colab_type": "code",
    "id": "mH7fe1FkeSZa",
    "outputId": "fe005826-629d-433d-a1a1-c6d5159615d7"
   },
   "outputs": [
    {
     "data": {
      "text/plain": [
       "(2, 4)"
      ]
     },
     "execution_count": 80,
     "metadata": {},
     "output_type": "execute_result"
    }
   ],
   "source": [
    "len(a), a.size"
   ]
  },
  {
   "cell_type": "code",
   "execution_count": 81,
   "metadata": {
    "ExecuteTime": {
     "end_time": "2020-03-05T18:43:09.190524Z",
     "start_time": "2020-03-05T18:43:09.108963Z"
    },
    "colab": {},
    "colab_type": "code",
    "id": "fYbyOh3geSZc",
    "outputId": "fd79250f-ee38-447c-e927-1b1e153d9d32"
   },
   "outputs": [
    {
     "data": {
      "text/plain": [
       "-1.0"
      ]
     },
     "execution_count": 81,
     "metadata": {},
     "output_type": "execute_result"
    }
   ],
   "source": [
    "a[1, 0]"
   ]
  },
  {
   "cell_type": "markdown",
   "metadata": {
    "colab_type": "text",
    "id": "WaoO-VOLeSZd"
   },
   "source": [
    "Атрибуту `shape` можно присвоить новое значение - кортеж размеров по всем координатам. Получится новый заголовок массива; его данные не изменятся."
   ]
  },
  {
   "cell_type": "code",
   "execution_count": 82,
   "metadata": {
    "ExecuteTime": {
     "end_time": "2020-03-05T18:43:09.273750Z",
     "start_time": "2020-03-05T18:43:09.197315Z"
    },
    "colab": {},
    "colab_type": "code",
    "id": "Ht7CInofeSZe",
    "outputId": "84e9180d-520c-4bed-c7e6-17ac6694c4d9"
   },
   "outputs": [
    {
     "name": "stdout",
     "output_type": "stream",
     "text": [
      "[0. 1. 2. 3.]\n"
     ]
    }
   ],
   "source": [
    "b = np.linspace(0, 3, 4)\n",
    "print(b)"
   ]
  },
  {
   "cell_type": "code",
   "execution_count": 83,
   "metadata": {
    "ExecuteTime": {
     "end_time": "2020-03-05T18:43:09.378335Z",
     "start_time": "2020-03-05T18:43:09.276762Z"
    },
    "colab": {},
    "colab_type": "code",
    "id": "LmOZ33breSZf",
    "outputId": "c06d123f-70ac-4fcb-bd71-db4a3c1a12dd"
   },
   "outputs": [
    {
     "data": {
      "text/plain": [
       "(4,)"
      ]
     },
     "execution_count": 83,
     "metadata": {},
     "output_type": "execute_result"
    }
   ],
   "source": [
    "b.shape"
   ]
  },
  {
   "cell_type": "code",
   "execution_count": 84,
   "metadata": {
    "ExecuteTime": {
     "end_time": "2020-03-05T18:43:09.476917Z",
     "start_time": "2020-03-05T18:43:09.384571Z"
    },
    "colab": {},
    "colab_type": "code",
    "id": "_TYvZX8eeSZg",
    "outputId": "a9094daf-74f7-4765-9ac3-c2a14f3d41fb"
   },
   "outputs": [
    {
     "name": "stdout",
     "output_type": "stream",
     "text": [
      "[[0. 1.]\n",
      " [2. 3.]]\n"
     ]
    }
   ],
   "source": [
    "b.shape = 2, 2\n",
    "print(b)"
   ]
  },
  {
   "cell_type": "markdown",
   "metadata": {
    "colab_type": "text",
    "id": "jWVJLH9ZeSZh"
   },
   "source": [
    "Можно растянуть в одномерный массив"
   ]
  },
  {
   "cell_type": "code",
   "execution_count": 85,
   "metadata": {
    "ExecuteTime": {
     "end_time": "2020-03-05T18:43:09.600659Z",
     "start_time": "2020-03-05T18:43:09.481740Z"
    },
    "colab": {},
    "colab_type": "code",
    "id": "aJdF4hyreSZi",
    "outputId": "b4070370-9526-415c-a071-faf40d88cd08"
   },
   "outputs": [
    {
     "name": "stdout",
     "output_type": "stream",
     "text": [
      "[0. 1. 2. 3.]\n"
     ]
    }
   ],
   "source": [
    "print(b.ravel())"
   ]
  },
  {
   "cell_type": "markdown",
   "metadata": {
    "colab_type": "text",
    "id": "ff31TTeHeSZj"
   },
   "source": [
    "Арифметические операции поэлементные"
   ]
  },
  {
   "cell_type": "code",
   "execution_count": 86,
   "metadata": {
    "ExecuteTime": {
     "end_time": "2020-03-05T18:43:09.684505Z",
     "start_time": "2020-03-05T18:43:09.606495Z"
    },
    "colab": {},
    "colab_type": "code",
    "id": "a6WXKEj4eSZj",
    "outputId": "92b9abe3-71b8-4fce-b905-2f921f6be6f2"
   },
   "outputs": [
    {
     "name": "stdout",
     "output_type": "stream",
     "text": [
      "[[1. 2.]\n",
      " [0. 1.]]\n",
      "[[ 0.  2.]\n",
      " [-2.  0.]]\n",
      "[[ 0.  2.]\n",
      " [-1.  1.]]\n",
      "[[0. 1.]\n",
      " [1. 2.]]\n",
      "[[0. 2.]\n",
      " [1. 3.]]\n"
     ]
    }
   ],
   "source": [
    "print(a + 1)\n",
    "print(a * 2)\n",
    "print(a + [0, 1])  # второе слагаемое дополняется до матрицы копированием строк\n",
    "print(a + np.array([[0, 2]]).T)  # .T - транспонирование\n",
    "print(a + b)"
   ]
  },
  {
   "cell_type": "markdown",
   "metadata": {
    "colab_type": "text",
    "id": "nLIlrz-BeSZl"
   },
   "source": [
    "#### 3.2 Работа с матрицами\n",
    "\n",
    "Поэлементное и матричное (только в Python >=3.5) умножение."
   ]
  },
  {
   "cell_type": "code",
   "execution_count": 87,
   "metadata": {
    "ExecuteTime": {
     "end_time": "2020-03-05T18:43:09.777644Z",
     "start_time": "2020-03-05T18:43:09.685875Z"
    },
    "colab": {},
    "colab_type": "code",
    "id": "xAUzdffSeSZl",
    "outputId": "cab10b40-e52e-4395-eb0a-a47b54ba792d"
   },
   "outputs": [
    {
     "name": "stdout",
     "output_type": "stream",
     "text": [
      "[[ 0.  1.]\n",
      " [-2.  0.]]\n"
     ]
    }
   ],
   "source": [
    "print(a * b)"
   ]
  },
  {
   "cell_type": "code",
   "execution_count": 88,
   "metadata": {
    "ExecuteTime": {
     "end_time": "2020-03-05T18:43:10.001453Z",
     "start_time": "2020-03-05T18:43:09.783560Z"
    },
    "colab": {},
    "colab_type": "code",
    "id": "GAI2uX5PeSZn",
    "outputId": "958fb829-3ddf-4e2f-ddef-c846c2a55ef9"
   },
   "outputs": [
    {
     "name": "stdout",
     "output_type": "stream",
     "text": [
      "[[ 2.  3.]\n",
      " [ 0. -1.]]\n"
     ]
    }
   ],
   "source": [
    "print(a @ b)"
   ]
  },
  {
   "cell_type": "code",
   "execution_count": 89,
   "metadata": {
    "ExecuteTime": {
     "end_time": "2020-03-05T18:43:10.094144Z",
     "start_time": "2020-03-05T18:43:10.010268Z"
    },
    "colab": {},
    "colab_type": "code",
    "id": "6ERS9kXLeSZp",
    "outputId": "802d6140-2206-44ba-8508-13f2fd5b4fe5"
   },
   "outputs": [
    {
     "name": "stdout",
     "output_type": "stream",
     "text": [
      "[[-1.  0.]\n",
      " [-3.  2.]]\n"
     ]
    }
   ],
   "source": [
    "print(b @ a)"
   ]
  },
  {
   "cell_type": "markdown",
   "metadata": {},
   "source": [
    "**Упражнение:** создайте две матрицы $ \\left( \\begin{pmatrix} -3 & 4 \\\\ 4 & 3 \\end{pmatrix},  \\begin{pmatrix} 2 & 1 \\\\ 1 & 2 \\end{pmatrix} \\right)$. Посчитайте их поэлементное и матричное произведения."
   ]
  },
  {
   "cell_type": "markdown",
   "metadata": {
    "colab_type": "text",
    "id": "-3Wm4rIieSZ3"
   },
   "source": [
    "Умножение матрицы на вектор."
   ]
  },
  {
   "cell_type": "code",
   "execution_count": 90,
   "metadata": {
    "ExecuteTime": {
     "end_time": "2020-03-05T18:43:10.188062Z",
     "start_time": "2020-03-05T18:43:10.095921Z"
    },
    "colab": {},
    "colab_type": "code",
    "id": "mXgY1mBoeSZ4",
    "outputId": "00f5363f-02d2-43fe-d048-e477411e2152"
   },
   "outputs": [
    {
     "name": "stdout",
     "output_type": "stream",
     "text": [
      "[-1. -1.]\n"
     ]
    }
   ],
   "source": [
    "v = np.array([1, -1], dtype=np.float64)\n",
    "print(b @ v)"
   ]
  },
  {
   "cell_type": "code",
   "execution_count": 91,
   "metadata": {
    "ExecuteTime": {
     "end_time": "2020-03-05T18:43:10.290742Z",
     "start_time": "2020-03-05T18:43:10.191961Z"
    },
    "colab": {},
    "colab_type": "code",
    "id": "A0Emfd5ueSZ5",
    "outputId": "f2c88401-c9ee-4c20-932b-7a5837e6bdda"
   },
   "outputs": [
    {
     "name": "stdout",
     "output_type": "stream",
     "text": [
      "[-2. -2.]\n"
     ]
    }
   ],
   "source": [
    "print(v @ b)"
   ]
  },
  {
   "cell_type": "markdown",
   "metadata": {
    "colab_type": "text",
    "id": "uJp4qRrOeSZ6"
   },
   "source": [
    "Если у вас Питон более ранней версии, то для работы с матрицами можно использовать класс `np.matrix`, в котором операция умножения реализуется как матричное умножение."
   ]
  },
  {
   "cell_type": "code",
   "execution_count": 92,
   "metadata": {
    "ExecuteTime": {
     "end_time": "2020-03-05T18:43:10.378571Z",
     "start_time": "2020-03-05T18:43:10.299252Z"
    },
    "colab": {},
    "colab_type": "code",
    "id": "a84Su-DneSZ6",
    "outputId": "da6ecf6a-2389-45be-99ea-f4d86ca2763e"
   },
   "outputs": [
    {
     "data": {
      "text/plain": [
       "matrix([[ 2.,  3.],\n",
       "        [ 0., -1.]])"
      ]
     },
     "execution_count": 92,
     "metadata": {},
     "output_type": "execute_result"
    }
   ],
   "source": [
    "np.matrix(a) * np.matrix(b)"
   ]
  },
  {
   "cell_type": "markdown",
   "metadata": {
    "colab_type": "text",
    "id": "ttfS-0_GeSZ7"
   },
   "source": [
    "Внешнее произведение $a_{ij}=u_i v_j$"
   ]
  },
  {
   "cell_type": "code",
   "execution_count": 93,
   "metadata": {
    "ExecuteTime": {
     "end_time": "2020-03-05T18:43:10.450831Z",
     "start_time": "2020-03-05T18:43:10.382238Z"
    },
    "colab": {},
    "colab_type": "code",
    "id": "hzr6tlLdeSZ8",
    "outputId": "e652c638-2c80-44a7-af69-b537aea56fc8"
   },
   "outputs": [
    {
     "name": "stdout",
     "output_type": "stream",
     "text": [
      "[1. 2.]\n",
      "[2. 3. 4.]\n"
     ]
    }
   ],
   "source": [
    "u = np.linspace(1, 2, 2)\n",
    "v = np.linspace(2, 4, 3)\n",
    "print(u)\n",
    "print(v)"
   ]
  },
  {
   "cell_type": "code",
   "execution_count": 94,
   "metadata": {
    "ExecuteTime": {
     "end_time": "2020-03-05T18:43:10.539630Z",
     "start_time": "2020-03-05T18:43:10.452961Z"
    },
    "colab": {},
    "colab_type": "code",
    "id": "FcsJmsiGeSZ9",
    "outputId": "6604755f-b5e6-48d6-f99c-94caa9364972"
   },
   "outputs": [
    {
     "name": "stdout",
     "output_type": "stream",
     "text": [
      "[[2. 3. 4.]\n",
      " [4. 6. 8.]]\n"
     ]
    }
   ],
   "source": [
    "a = np.outer(u, v)\n",
    "print(a)"
   ]
  },
  {
   "cell_type": "markdown",
   "metadata": {
    "colab_type": "text",
    "id": "Aa_dWlyveSZ-"
   },
   "source": [
    "Двумерные массивы, зависящие только от одного индекса: $x_{ij}=u_j$, $y_{ij}=v_i$"
   ]
  },
  {
   "cell_type": "code",
   "execution_count": 95,
   "metadata": {
    "ExecuteTime": {
     "end_time": "2020-03-05T18:43:10.635122Z",
     "start_time": "2020-03-05T18:43:10.542819Z"
    },
    "colab": {},
    "colab_type": "code",
    "id": "4i6zYBg9eSZ_",
    "outputId": "51e7ec74-0c54-475e-bfdd-97e853a3462b"
   },
   "outputs": [
    {
     "name": "stdout",
     "output_type": "stream",
     "text": [
      "[[1. 2.]\n",
      " [1. 2.]\n",
      " [1. 2.]]\n",
      "[[2. 2.]\n",
      " [3. 3.]\n",
      " [4. 4.]]\n"
     ]
    }
   ],
   "source": [
    "x, y = np.meshgrid(u, v)\n",
    "print(x)\n",
    "print(y)"
   ]
  },
  {
   "cell_type": "markdown",
   "metadata": {
    "colab_type": "text",
    "id": "KwK4g9gZeSaA"
   },
   "source": [
    "Единичная матрица."
   ]
  },
  {
   "cell_type": "code",
   "execution_count": 96,
   "metadata": {
    "ExecuteTime": {
     "end_time": "2020-03-05T18:43:10.731678Z",
     "start_time": "2020-03-05T18:43:10.641393Z"
    },
    "colab": {},
    "colab_type": "code",
    "id": "ST8KOHBWeSaB",
    "outputId": "9480677f-8f76-404a-b8c7-941e1657afe2"
   },
   "outputs": [
    {
     "name": "stdout",
     "output_type": "stream",
     "text": [
      "[[1. 0. 0. 0.]\n",
      " [0. 1. 0. 0.]\n",
      " [0. 0. 1. 0.]\n",
      " [0. 0. 0. 1.]]\n"
     ]
    }
   ],
   "source": [
    "I = np.eye(4)\n",
    "print(I)"
   ]
  },
  {
   "cell_type": "markdown",
   "metadata": {
    "colab_type": "text",
    "id": "zDOuMhIzeSaC"
   },
   "source": [
    "Метод `reshape` делает то же самое, что присваивание атрибуту `shape`."
   ]
  },
  {
   "cell_type": "code",
   "execution_count": 97,
   "metadata": {
    "ExecuteTime": {
     "end_time": "2020-03-05T18:43:10.827345Z",
     "start_time": "2020-03-05T18:43:10.737348Z"
    },
    "colab": {},
    "colab_type": "code",
    "id": "iV0R_x39eSaC",
    "outputId": "8937832a-9cd3-4151-fd00-8a5d59d59e0d"
   },
   "outputs": [
    {
     "name": "stdout",
     "output_type": "stream",
     "text": [
      "[1. 0. 0. 0. 0. 1. 0. 0. 0. 0. 1. 0. 0. 0. 0. 1.]\n"
     ]
    }
   ],
   "source": [
    "print(I.reshape(16))"
   ]
  },
  {
   "cell_type": "code",
   "execution_count": 98,
   "metadata": {
    "ExecuteTime": {
     "end_time": "2020-03-05T18:43:10.908741Z",
     "start_time": "2020-03-05T18:43:10.829763Z"
    },
    "colab": {},
    "colab_type": "code",
    "id": "uIEi4h1MeSaD",
    "outputId": "13c7b053-9df1-47b2-d91f-99b4c1a36c1e"
   },
   "outputs": [
    {
     "name": "stdout",
     "output_type": "stream",
     "text": [
      "[[1. 0. 0. 0. 0. 1. 0. 0.]\n",
      " [0. 0. 1. 0. 0. 0. 0. 1.]]\n"
     ]
    }
   ],
   "source": [
    "print(I.reshape(2, 8))"
   ]
  },
  {
   "cell_type": "markdown",
   "metadata": {
    "colab_type": "text",
    "id": "HfQZjZZleSaE"
   },
   "source": [
    "Строка."
   ]
  },
  {
   "cell_type": "code",
   "execution_count": 99,
   "metadata": {
    "ExecuteTime": {
     "end_time": "2020-03-05T18:43:10.997295Z",
     "start_time": "2020-03-05T18:43:10.911647Z"
    },
    "colab": {},
    "colab_type": "code",
    "id": "dU-B5CsdeSaE",
    "outputId": "86695fcf-fccd-4349-f6a0-8d4224d4fa16"
   },
   "outputs": [
    {
     "name": "stdout",
     "output_type": "stream",
     "text": [
      "[0. 1. 0. 0.]\n"
     ]
    }
   ],
   "source": [
    "print(I[1])"
   ]
  },
  {
   "cell_type": "markdown",
   "metadata": {
    "colab_type": "text",
    "id": "ptRot99NeSaF"
   },
   "source": [
    "Цикл по строкам."
   ]
  },
  {
   "cell_type": "code",
   "execution_count": 100,
   "metadata": {
    "ExecuteTime": {
     "end_time": "2020-03-05T18:43:11.081576Z",
     "start_time": "2020-03-05T18:43:11.002971Z"
    },
    "colab": {},
    "colab_type": "code",
    "id": "CQ3h7yA0eSaG",
    "outputId": "ad99173b-72eb-411b-acfe-63d1f6edaaa8"
   },
   "outputs": [
    {
     "name": "stdout",
     "output_type": "stream",
     "text": [
      "[1. 0. 0. 0.]\n",
      "[0. 1. 0. 0.]\n",
      "[0. 0. 1. 0.]\n",
      "[0. 0. 0. 1.]\n"
     ]
    }
   ],
   "source": [
    "for row in I:\n",
    "    print(row)"
   ]
  },
  {
   "cell_type": "markdown",
   "metadata": {
    "colab_type": "text",
    "id": "V6lshMkHeSaH"
   },
   "source": [
    "Столбец."
   ]
  },
  {
   "cell_type": "code",
   "execution_count": 101,
   "metadata": {
    "ExecuteTime": {
     "end_time": "2020-03-05T18:43:11.175519Z",
     "start_time": "2020-03-05T18:43:11.082945Z"
    },
    "colab": {},
    "colab_type": "code",
    "id": "orbMt6WMeSaH",
    "outputId": "61a6ab9d-3168-40fb-fb1b-7c618564bbcc"
   },
   "outputs": [
    {
     "name": "stdout",
     "output_type": "stream",
     "text": [
      "[0. 0. 1. 0.]\n"
     ]
    }
   ],
   "source": [
    "print(I[:, 2])"
   ]
  },
  {
   "cell_type": "markdown",
   "metadata": {
    "colab_type": "text",
    "id": "nqnUtI-SeSaI"
   },
   "source": [
    "Подматрица."
   ]
  },
  {
   "cell_type": "code",
   "execution_count": 102,
   "metadata": {
    "ExecuteTime": {
     "end_time": "2020-03-05T18:43:11.265533Z",
     "start_time": "2020-03-05T18:43:11.182665Z"
    },
    "colab": {},
    "colab_type": "code",
    "id": "p8ycTAw3eSaI",
    "outputId": "f4f658ab-b32e-4a6d-e14c-ad5e6c9b2f2a"
   },
   "outputs": [
    {
     "name": "stdout",
     "output_type": "stream",
     "text": [
      "[[0. 0.]\n",
      " [1. 0.]]\n"
     ]
    }
   ],
   "source": [
    "print(I[0:2, 1:3])"
   ]
  },
  {
   "cell_type": "markdown",
   "metadata": {
    "colab_type": "text",
    "id": "wDDkZc3WeSaJ"
   },
   "source": [
    "Можно построить двумерный массив из функции."
   ]
  },
  {
   "cell_type": "code",
   "execution_count": 103,
   "metadata": {
    "ExecuteTime": {
     "end_time": "2020-03-05T18:43:11.401620Z",
     "start_time": "2020-03-05T18:43:11.271432Z"
    },
    "colab": {},
    "colab_type": "code",
    "id": "KXCnqDLKeSaK",
    "outputId": "41baf3dd-3f2c-4cba-aed9-956074545219"
   },
   "outputs": [
    {
     "name": "stdout",
     "output_type": "stream",
     "text": [
      "[[0 0 0 0]\n",
      " [1 1 1 1]\n",
      " [2 2 2 2]\n",
      " [3 3 3 3]]\n",
      "[[0 1 2 3]\n",
      " [0 1 2 3]\n",
      " [0 1 2 3]\n",
      " [0 1 2 3]]\n",
      "[[ 0  1  2  3]\n",
      " [10 11 12 13]\n",
      " [20 21 22 23]\n",
      " [30 31 32 33]]\n"
     ]
    }
   ],
   "source": [
    "def f(i, j):\n",
    "    print(i)\n",
    "    print(j)\n",
    "    return 10 * i + j\n",
    "\n",
    "print(np.fromfunction(f, (4, 4), dtype=np.int64))"
   ]
  },
  {
   "cell_type": "markdown",
   "metadata": {
    "colab_type": "text",
    "id": "OFz0xwrreSaL"
   },
   "source": [
    "Транспонированная матрица."
   ]
  },
  {
   "cell_type": "code",
   "execution_count": 104,
   "metadata": {
    "ExecuteTime": {
     "end_time": "2020-03-05T18:43:11.496999Z",
     "start_time": "2020-03-05T18:43:11.409345Z"
    },
    "colab": {},
    "colab_type": "code",
    "id": "Z4J5zzvNeSaL",
    "outputId": "e07d805c-e69c-4012-aec4-4e1c9bf3782a"
   },
   "outputs": [
    {
     "name": "stdout",
     "output_type": "stream",
     "text": [
      "[[0. 2.]\n",
      " [1. 3.]]\n"
     ]
    }
   ],
   "source": [
    "print(b.T)"
   ]
  },
  {
   "cell_type": "markdown",
   "metadata": {
    "colab_type": "text",
    "id": "yGeRknu3eSaM"
   },
   "source": [
    "Соединение матриц по горизонтали и по вертикали."
   ]
  },
  {
   "cell_type": "code",
   "execution_count": 105,
   "metadata": {
    "ExecuteTime": {
     "end_time": "2020-03-05T18:43:11.711906Z",
     "start_time": "2020-03-05T18:43:11.504907Z"
    },
    "colab": {},
    "colab_type": "code",
    "id": "ObH0A6B3eSaM",
    "outputId": "685180f8-fe0e-4672-8f87-2d262adb4479"
   },
   "outputs": [
    {
     "name": "stdout",
     "output_type": "stream",
     "text": [
      "[[0 1]\n",
      " [2 3]]\n",
      "[[4 5 6]\n",
      " [7 8 9]]\n",
      "[[4 5]\n",
      " [6 7]\n",
      " [8 9]]\n"
     ]
    }
   ],
   "source": [
    "a = np.array([[0, 1], [2, 3]])\n",
    "b = np.array([[4, 5, 6], [7, 8, 9]])\n",
    "c = np.array([[4, 5], [6, 7], [8, 9]])\n",
    "print(a)\n",
    "print(b)\n",
    "print(c)"
   ]
  },
  {
   "cell_type": "code",
   "execution_count": 106,
   "metadata": {
    "ExecuteTime": {
     "end_time": "2020-03-05T18:43:11.796147Z",
     "start_time": "2020-03-05T18:43:11.718614Z"
    },
    "colab": {},
    "colab_type": "code",
    "id": "0cpapPNveSaN",
    "outputId": "20269a2b-16f0-49c6-8ad6-81e038f71c20"
   },
   "outputs": [
    {
     "name": "stdout",
     "output_type": "stream",
     "text": [
      "[[0 1 4 5 6]\n",
      " [2 3 7 8 9]]\n"
     ]
    }
   ],
   "source": [
    "print(np.hstack((a, b)))"
   ]
  },
  {
   "cell_type": "code",
   "execution_count": 107,
   "metadata": {
    "ExecuteTime": {
     "end_time": "2020-03-05T18:43:11.890650Z",
     "start_time": "2020-03-05T18:43:11.802456Z"
    },
    "colab": {},
    "colab_type": "code",
    "id": "EPxXHWTAeSaO",
    "outputId": "733118e5-dca3-4446-985a-aa69816252dc"
   },
   "outputs": [
    {
     "name": "stdout",
     "output_type": "stream",
     "text": [
      "[[0 1]\n",
      " [2 3]\n",
      " [4 5]\n",
      " [6 7]\n",
      " [8 9]]\n"
     ]
    }
   ],
   "source": [
    "print(np.vstack((a, c)))"
   ]
  },
  {
   "cell_type": "markdown",
   "metadata": {
    "colab_type": "text",
    "id": "i3SBcbGzeSaP"
   },
   "source": [
    "Сумма всех элементов; суммы столбцов; суммы строк."
   ]
  },
  {
   "cell_type": "code",
   "execution_count": 108,
   "metadata": {
    "ExecuteTime": {
     "end_time": "2020-03-05T18:43:11.969846Z",
     "start_time": "2020-03-05T18:43:11.892387Z"
    },
    "colab": {},
    "colab_type": "code",
    "id": "kQLBs3mHeSaP",
    "outputId": "b6dea51d-5bd4-4221-9a64-47e37caf87a0"
   },
   "outputs": [
    {
     "name": "stdout",
     "output_type": "stream",
     "text": [
      "39\n",
      "[11 13 15]\n",
      "[15 24]\n"
     ]
    }
   ],
   "source": [
    "print(b.sum())\n",
    "print(b.sum(axis=0))\n",
    "print(b.sum(axis=1))"
   ]
  },
  {
   "cell_type": "markdown",
   "metadata": {
    "colab_type": "text",
    "id": "rc8otaIBeSaQ"
   },
   "source": [
    "Аналогично работают `prod`, `max`, `min` и т.д."
   ]
  },
  {
   "cell_type": "code",
   "execution_count": 109,
   "metadata": {
    "ExecuteTime": {
     "end_time": "2020-03-05T18:43:12.070797Z",
     "start_time": "2020-03-05T18:43:11.971717Z"
    },
    "colab": {},
    "colab_type": "code",
    "id": "822so2-9eSaQ",
    "outputId": "94a0cc60-e0e6-48a3-8f16-6b08742a4f1d"
   },
   "outputs": [
    {
     "name": "stdout",
     "output_type": "stream",
     "text": [
      "9\n",
      "[7 8 9]\n",
      "[4 7]\n"
     ]
    }
   ],
   "source": [
    "print(b.max())\n",
    "print(b.max(axis=0))\n",
    "print(b.min(axis=1))"
   ]
  },
  {
   "cell_type": "markdown",
   "metadata": {
    "colab_type": "text",
    "id": "AlzAeJI-eSaR"
   },
   "source": [
    "След - сумма диагональных элементов."
   ]
  },
  {
   "cell_type": "code",
   "execution_count": 110,
   "metadata": {
    "ExecuteTime": {
     "end_time": "2020-03-05T18:43:12.158319Z",
     "start_time": "2020-03-05T18:43:12.074168Z"
    },
    "colab": {},
    "colab_type": "code",
    "id": "-BlaKobheSaR",
    "outputId": "8e4b311b-e353-4f7e-f31c-63daa6ec57ad"
   },
   "outputs": [
    {
     "data": {
      "text/plain": [
       "3"
      ]
     },
     "execution_count": 110,
     "metadata": {},
     "output_type": "execute_result"
    }
   ],
   "source": [
    "np.trace(a)"
   ]
  },
  {
   "cell_type": "markdown",
   "metadata": {},
   "source": [
    "**Упражнение:** в статистике и машинном обучении часто приходится иметь с функцией $RSS$, которая вычисляется по формуле $\\sum_{i=1}^{n} (y_i - a_i)^2$, где $y_i$ - координаты одномерного вектора $y$,  $a_i$ - координаты одномерного вектора $a$. Посчитайте $RSS$ для $y = (1, 2, 3, 4, 5), a = (3, 2, 1, 0, -1)$"
   ]
  },
  {
   "cell_type": "markdown",
   "metadata": {
    "colab_type": "text",
    "id": "7VULr5jSeSaS"
   },
   "source": [
    "## 4. Тензоры (многомерные массивы)"
   ]
  },
  {
   "cell_type": "code",
   "execution_count": 111,
   "metadata": {
    "ExecuteTime": {
     "end_time": "2020-03-05T18:43:12.246952Z",
     "start_time": "2020-03-05T18:43:12.160129Z"
    },
    "colab": {},
    "colab_type": "code",
    "id": "_Vx6sZvjeSaT",
    "outputId": "cd7927c3-672c-453d-99f1-56857fb63a1d"
   },
   "outputs": [
    {
     "name": "stdout",
     "output_type": "stream",
     "text": [
      "[[[ 0  1  2  3]\n",
      "  [ 4  5  6  7]\n",
      "  [ 8  9 10 11]]\n",
      "\n",
      " [[12 13 14 15]\n",
      "  [16 17 18 19]\n",
      "  [20 21 22 23]]]\n"
     ]
    }
   ],
   "source": [
    "X = np.arange(24).reshape(2, 3, 4)\n",
    "print(X)"
   ]
  },
  {
   "cell_type": "markdown",
   "metadata": {
    "colab_type": "text",
    "id": "6-a_IMz5eSaU"
   },
   "source": [
    "Суммирование (аналогично остальные операции)"
   ]
  },
  {
   "cell_type": "code",
   "execution_count": 112,
   "metadata": {
    "ExecuteTime": {
     "end_time": "2020-03-05T18:43:12.340172Z",
     "start_time": "2020-03-05T18:43:12.248832Z"
    },
    "colab": {},
    "colab_type": "code",
    "id": "XnTt-275eSaU",
    "outputId": "2f6d3133-91a3-4921-8c99-cd409ce50b98"
   },
   "outputs": [
    {
     "name": "stdout",
     "output_type": "stream",
     "text": [
      "[[12 14 16 18]\n",
      " [20 22 24 26]\n",
      " [28 30 32 34]]\n",
      "[ 66 210]\n"
     ]
    }
   ],
   "source": [
    "# суммируем только по нулевой оси, то есть для фиксированных j и k \n",
    "# суммируем только элементы с индексами (*, j, k)\n",
    "print(X.sum(axis=0))\n",
    "# суммируем сразу по двум осям, то есть для фиксированной i \n",
    "# суммируем только элементы с индексами (i, *, *)\n",
    "print(X.sum(axis=(1, 2)))"
   ]
  },
  {
   "cell_type": "markdown",
   "metadata": {
    "colab_type": "text",
    "id": "fQu4JWrkeSaV"
   },
   "source": [
    "## 5. Линейная алгебра"
   ]
  },
  {
   "cell_type": "code",
   "execution_count": 113,
   "metadata": {
    "ExecuteTime": {
     "end_time": "2020-03-05T18:43:12.423375Z",
     "start_time": "2020-03-05T18:43:12.346603Z"
    }
   },
   "outputs": [],
   "source": [
    "a = np.array([[0, 1], [2, 3]])"
   ]
  },
  {
   "cell_type": "code",
   "execution_count": 114,
   "metadata": {
    "ExecuteTime": {
     "end_time": "2020-03-05T18:43:12.614691Z",
     "start_time": "2020-03-05T18:43:12.424747Z"
    },
    "colab": {},
    "colab_type": "code",
    "id": "QfoGKtHdeSaV",
    "outputId": "fbad71a4-35d5-4daf-d129-04a8c3eef797"
   },
   "outputs": [
    {
     "data": {
      "text/plain": [
       "-2.0"
      ]
     },
     "execution_count": 114,
     "metadata": {},
     "output_type": "execute_result"
    }
   ],
   "source": [
    "np.linalg.det(a)"
   ]
  },
  {
   "cell_type": "markdown",
   "metadata": {
    "colab_type": "text",
    "id": "fh6WDlobeSaW"
   },
   "source": [
    "Обратная матрица."
   ]
  },
  {
   "cell_type": "code",
   "execution_count": 115,
   "metadata": {
    "ExecuteTime": {
     "end_time": "2020-03-05T18:43:12.741146Z",
     "start_time": "2020-03-05T18:43:12.619938Z"
    },
    "colab": {},
    "colab_type": "code",
    "id": "6_JMYc5NeSaX",
    "outputId": "b2065037-4b3d-4a7e-e182-ddb70443473f"
   },
   "outputs": [
    {
     "name": "stdout",
     "output_type": "stream",
     "text": [
      "[[-1.5  0.5]\n",
      " [ 1.   0. ]]\n"
     ]
    }
   ],
   "source": [
    "a1 = np.linalg.inv(a)\n",
    "print(a1)"
   ]
  },
  {
   "cell_type": "code",
   "execution_count": 116,
   "metadata": {
    "ExecuteTime": {
     "end_time": "2020-03-05T18:43:12.835603Z",
     "start_time": "2020-03-05T18:43:12.745495Z"
    },
    "colab": {},
    "colab_type": "code",
    "id": "9RK1Y8tOeSaY",
    "outputId": "96fa5fdc-e478-49a2-a3b0-452d0a8fc36e"
   },
   "outputs": [
    {
     "name": "stdout",
     "output_type": "stream",
     "text": [
      "[[1. 0.]\n",
      " [0. 1.]]\n",
      "[[1. 0.]\n",
      " [0. 1.]]\n"
     ]
    }
   ],
   "source": [
    "print(a @ a1)\n",
    "print(a1 @ a)"
   ]
  },
  {
   "cell_type": "markdown",
   "metadata": {
    "colab_type": "text",
    "id": "hjrrv-DqeSaY"
   },
   "source": [
    "Решение линейной системы $au=v$."
   ]
  },
  {
   "cell_type": "code",
   "execution_count": 117,
   "metadata": {
    "ExecuteTime": {
     "end_time": "2020-03-05T18:43:12.935639Z",
     "start_time": "2020-03-05T18:43:12.837643Z"
    },
    "colab": {},
    "colab_type": "code",
    "id": "gXVo3PmCeSaZ",
    "outputId": "81f81b6e-a8af-4e1f-de72-b36f393c0b22"
   },
   "outputs": [
    {
     "name": "stdout",
     "output_type": "stream",
     "text": [
      "[0.5 0. ]\n"
     ]
    }
   ],
   "source": [
    "v = np.array([0, 1], dtype=np.float64)\n",
    "print(a1 @ v)"
   ]
  },
  {
   "cell_type": "code",
   "execution_count": 118,
   "metadata": {
    "ExecuteTime": {
     "end_time": "2020-03-05T18:43:13.039219Z",
     "start_time": "2020-03-05T18:43:12.939018Z"
    },
    "colab": {},
    "colab_type": "code",
    "id": "CH5xU8hXeSaa",
    "outputId": "27f1e887-b51c-4006-e475-9aa2f9448433"
   },
   "outputs": [
    {
     "name": "stdout",
     "output_type": "stream",
     "text": [
      "[0.5 0. ]\n"
     ]
    }
   ],
   "source": [
    "u = np.linalg.solve(a, v)\n",
    "print(u)"
   ]
  },
  {
   "cell_type": "markdown",
   "metadata": {
    "colab_type": "text",
    "id": "n4Qrc4JCeSab"
   },
   "source": [
    "Проверим."
   ]
  },
  {
   "cell_type": "code",
   "execution_count": 119,
   "metadata": {
    "ExecuteTime": {
     "end_time": "2020-03-05T18:43:13.134123Z",
     "start_time": "2020-03-05T18:43:13.044914Z"
    },
    "colab": {},
    "colab_type": "code",
    "id": "FzmdANWPeSab",
    "outputId": "27c2b3bb-4f2a-4ee6-e85f-a8ae9c121bf2"
   },
   "outputs": [
    {
     "name": "stdout",
     "output_type": "stream",
     "text": [
      "[0. 0.]\n"
     ]
    }
   ],
   "source": [
    "print(a @ u - v)"
   ]
  },
  {
   "cell_type": "markdown",
   "metadata": {
    "colab_type": "text",
    "id": "nr9z4BbGeSac"
   },
   "source": [
    "Собственные значения и собственные векторы: $a u_i = \\lambda_i u_i$. `l` - одномерный массив собственных значений $\\lambda_i$, столбцы матрицы $u$ - собственные векторы $u_i$."
   ]
  },
  {
   "cell_type": "code",
   "execution_count": 120,
   "metadata": {
    "ExecuteTime": {
     "end_time": "2020-03-05T18:43:13.356177Z",
     "start_time": "2020-03-05T18:43:13.135487Z"
    },
    "colab": {},
    "colab_type": "code",
    "id": "0W3HKMpreSac",
    "outputId": "d8ce1ea3-1758-40db-e123-7080f0e630d8"
   },
   "outputs": [
    {
     "name": "stdout",
     "output_type": "stream",
     "text": [
      "[-0.56155281  3.56155281]\n"
     ]
    }
   ],
   "source": [
    "l, u = np.linalg.eig(a)\n",
    "print(l)"
   ]
  },
  {
   "cell_type": "code",
   "execution_count": 121,
   "metadata": {
    "ExecuteTime": {
     "end_time": "2020-03-05T18:43:13.486632Z",
     "start_time": "2020-03-05T18:43:13.363100Z"
    },
    "colab": {},
    "colab_type": "code",
    "id": "iDz1izeneSad",
    "outputId": "c9ea61a1-60ac-43dc-e90e-4b4ee67c0a1a"
   },
   "outputs": [
    {
     "name": "stdout",
     "output_type": "stream",
     "text": [
      "[[-0.87192821 -0.27032301]\n",
      " [ 0.48963374 -0.96276969]]\n"
     ]
    }
   ],
   "source": [
    "print(u)"
   ]
  },
  {
   "cell_type": "markdown",
   "metadata": {
    "colab_type": "text",
    "id": "dNGJ88UCeSae"
   },
   "source": [
    "Проверим."
   ]
  },
  {
   "cell_type": "code",
   "execution_count": 122,
   "metadata": {
    "ExecuteTime": {
     "end_time": "2020-03-05T18:43:13.584896Z",
     "start_time": "2020-03-05T18:43:13.493506Z"
    },
    "colab": {},
    "colab_type": "code",
    "id": "OAbVlo3PeSae",
    "outputId": "debd8d81-3dec-48f0-957a-bf0859ec0b58"
   },
   "outputs": [
    {
     "name": "stdout",
     "output_type": "stream",
     "text": [
      "[0.00000000e+00 1.66533454e-16]\n",
      "[ 0.0000000e+00 -4.4408921e-16]\n"
     ]
    }
   ],
   "source": [
    "for i in range(2):\n",
    "    print(a @ u[:, i] - l[i] * u[:, i])"
   ]
  },
  {
   "cell_type": "markdown",
   "metadata": {
    "colab_type": "text",
    "id": "CTiDbQI_eSaf"
   },
   "source": [
    "Функция `diag` от одномерного массива строит диагональную матрицу; от квадратной матрицы - возвращает одномерный массив её диагональных элементов."
   ]
  },
  {
   "cell_type": "code",
   "execution_count": 123,
   "metadata": {
    "ExecuteTime": {
     "end_time": "2020-03-05T18:43:13.666997Z",
     "start_time": "2020-03-05T18:43:13.590942Z"
    },
    "colab": {},
    "colab_type": "code",
    "id": "gHJlMqRIeSag",
    "outputId": "51061136-8a1b-4fae-a7d9-0f85456a73d1"
   },
   "outputs": [
    {
     "name": "stdout",
     "output_type": "stream",
     "text": [
      "[[-0.56155281  0.        ]\n",
      " [ 0.          3.56155281]]\n",
      "[-0.56155281  3.56155281]\n"
     ]
    }
   ],
   "source": [
    "L = np.diag(l)\n",
    "print(L)\n",
    "print(np.diag(L))"
   ]
  },
  {
   "cell_type": "markdown",
   "metadata": {
    "colab_type": "text",
    "id": "tOKmUQDyeSah"
   },
   "source": [
    "Все уравнения $a u_i = \\lambda_i u_i$ можно собрать в одно матричное уравнение $a u = u \\Lambda$, где $\\Lambda$ - диагональная матрица с собственными значениями $\\lambda_i$ по диагонали."
   ]
  },
  {
   "cell_type": "code",
   "execution_count": 124,
   "metadata": {
    "ExecuteTime": {
     "end_time": "2020-03-05T18:43:13.760642Z",
     "start_time": "2020-03-05T18:43:13.668300Z"
    },
    "colab": {},
    "colab_type": "code",
    "id": "qXSUnhqweSah",
    "outputId": "93497e06-eeb7-4a03-d4a0-c264d32f2abe"
   },
   "outputs": [
    {
     "name": "stdout",
     "output_type": "stream",
     "text": [
      "[[ 0.00000000e+00  0.00000000e+00]\n",
      " [ 1.66533454e-16 -4.44089210e-16]]\n"
     ]
    }
   ],
   "source": [
    "print(a @ u - u @ L)"
   ]
  },
  {
   "cell_type": "markdown",
   "metadata": {
    "colab_type": "text",
    "id": "b1vsNPo8eSai"
   },
   "source": [
    "Поэтому $u^{-1} a u = \\Lambda$."
   ]
  },
  {
   "cell_type": "code",
   "execution_count": 125,
   "metadata": {
    "ExecuteTime": {
     "end_time": "2020-03-05T18:43:13.857087Z",
     "start_time": "2020-03-05T18:43:13.766703Z"
    },
    "colab": {},
    "colab_type": "code",
    "id": "D8aJ2LeUeSai",
    "outputId": "2b662fb0-5919-4750-9198-9b601125713b"
   },
   "outputs": [
    {
     "name": "stdout",
     "output_type": "stream",
     "text": [
      "[[-5.61552813e-01  2.77555756e-17]\n",
      " [-2.22044605e-16  3.56155281e+00]]\n"
     ]
    }
   ],
   "source": [
    "print(np.linalg.inv(u) @ a @ u)"
   ]
  },
  {
   "cell_type": "markdown",
   "metadata": {
    "colab_type": "text",
    "id": "GDV31jreeSaj"
   },
   "source": [
    "Найдём теперь левые собственные векторы $v_i a = \\lambda_i v_i$ (собственные значения $\\lambda_i$ те же самые)."
   ]
  },
  {
   "cell_type": "code",
   "execution_count": 126,
   "metadata": {
    "ExecuteTime": {
     "end_time": "2020-03-05T18:43:13.962144Z",
     "start_time": "2020-03-05T18:43:13.859365Z"
    },
    "colab": {},
    "colab_type": "code",
    "id": "1HyE2M51eSaj",
    "outputId": "f9657637-385b-4730-82f0-a7529e7a4106"
   },
   "outputs": [
    {
     "name": "stdout",
     "output_type": "stream",
     "text": [
      "[-0.56155281  3.56155281]\n",
      "[[-0.96276969 -0.48963374]\n",
      " [ 0.27032301 -0.87192821]]\n"
     ]
    }
   ],
   "source": [
    "l, v = np.linalg.eig(a.T)\n",
    "print(l)\n",
    "print(v)"
   ]
  },
  {
   "cell_type": "markdown",
   "metadata": {
    "colab_type": "text",
    "id": "kvTFZXzieSak"
   },
   "source": [
    "Собственные векторы нормированы на 1."
   ]
  },
  {
   "cell_type": "code",
   "execution_count": 127,
   "metadata": {
    "ExecuteTime": {
     "end_time": "2020-03-05T18:43:14.044997Z",
     "start_time": "2020-03-05T18:43:13.968928Z"
    },
    "colab": {},
    "colab_type": "code",
    "id": "mtRpa6CSeSak",
    "outputId": "038fbae5-1319-454e-a211-bbb9cba135ea"
   },
   "outputs": [
    {
     "name": "stdout",
     "output_type": "stream",
     "text": [
      "[[ 1.         -0.23570226]\n",
      " [-0.23570226  1.        ]]\n",
      "[[1.         0.23570226]\n",
      " [0.23570226 1.        ]]\n"
     ]
    }
   ],
   "source": [
    "print(u.T @ u)\n",
    "print(v.T @ v)"
   ]
  },
  {
   "cell_type": "markdown",
   "metadata": {
    "colab_type": "text",
    "id": "cF_vDIO0eSal"
   },
   "source": [
    "Левые и правые собственные векторы, соответствующие разным собственным значениям, ортогональны, потому что $v_i a u_j = \\lambda_i v_i u_j = \\lambda_j v_i u_j$."
   ]
  },
  {
   "cell_type": "code",
   "execution_count": 128,
   "metadata": {
    "ExecuteTime": {
     "end_time": "2020-03-05T18:43:14.143785Z",
     "start_time": "2020-03-05T18:43:14.046499Z"
    },
    "colab": {},
    "colab_type": "code",
    "id": "Ntj_buO3eSam",
    "outputId": "71e9890a-c7a1-4f68-9671-ac106c147ad7"
   },
   "outputs": [
    {
     "name": "stdout",
     "output_type": "stream",
     "text": [
      "[[ 9.71825316e-01  0.00000000e+00]\n",
      " [-5.55111512e-17  9.71825316e-01]]\n"
     ]
    }
   ],
   "source": [
    "print(v.T @ u)"
   ]
  },
  {
   "cell_type": "markdown",
   "metadata": {},
   "source": [
    "**Упражнение:** в машинном обучении есть модель линейной регрессии, для которой \"хорошее\" решение считается по следующей формуле: $\\widehat{\\theta} = (X^T \\cdot X + \\lambda \\cdot I_n)^{-1}\\cdot X^T y$. Вычислите $\\widehat{\\theta}$ для $ X = \\begin{pmatrix} -3 & 4 & 1 \\\\ 4 & 3 & 1  \\end{pmatrix}$, $y = \\begin{pmatrix} 10 \\\\ 12  \\end{pmatrix}$, $I_n$ - единичная матрица размерности 3, $\\lambda = 0.1$"
   ]
  },
  {
   "cell_type": "markdown",
   "metadata": {
    "colab_type": "text",
    "id": "qw_8kCAIeSam"
   },
   "source": [
    "## 6. Интегрирование"
   ]
  },
  {
   "cell_type": "code",
   "execution_count": 129,
   "metadata": {
    "ExecuteTime": {
     "end_time": "2020-03-05T18:43:16.260456Z",
     "start_time": "2020-03-05T18:43:14.145653Z"
    },
    "colab": {},
    "colab_type": "code",
    "id": "3dA2vW9NeSan"
   },
   "outputs": [],
   "source": [
    "from scipy.integrate import quad, odeint\n",
    "from scipy.special import erf"
   ]
  },
  {
   "cell_type": "code",
   "execution_count": 130,
   "metadata": {
    "ExecuteTime": {
     "end_time": "2020-03-05T18:43:16.269370Z",
     "start_time": "2020-03-05T18:43:16.263756Z"
    },
    "colab": {},
    "colab_type": "code",
    "id": "ZR_J8-LFeSao"
   },
   "outputs": [],
   "source": [
    "def f(x):\n",
    "    return np.exp(-x ** 2)"
   ]
  },
  {
   "cell_type": "markdown",
   "metadata": {
    "colab_type": "text",
    "id": "mC4waOCPeSao"
   },
   "source": [
    "Адаптивное численное интегрирование (может быть до бесконечности). `err` - оценка ошибки."
   ]
  },
  {
   "cell_type": "code",
   "execution_count": 131,
   "metadata": {
    "ExecuteTime": {
     "end_time": "2020-03-05T18:43:16.397223Z",
     "start_time": "2020-03-05T18:43:16.273099Z"
    },
    "colab": {},
    "colab_type": "code",
    "id": "ybR0uRuneSap",
    "outputId": "286808a7-901a-46d1-f190-2d23ff034f95"
   },
   "outputs": [
    {
     "name": "stdout",
     "output_type": "stream",
     "text": [
      "0.8862269254527579 0.8862269254527579 7.101318390472462e-09\n"
     ]
    }
   ],
   "source": [
    "res, err = quad(f, 0, np.inf)\n",
    "print(np.sqrt(np.pi) / 2, res, err)"
   ]
  },
  {
   "cell_type": "code",
   "execution_count": 132,
   "metadata": {
    "ExecuteTime": {
     "end_time": "2020-03-05T18:43:16.525747Z",
     "start_time": "2020-03-05T18:43:16.399268Z"
    },
    "colab": {},
    "colab_type": "code",
    "id": "-QGAB-m3eSaq",
    "outputId": "212c2e42-52c5-4ae9-cd3f-5fe416740f50"
   },
   "outputs": [
    {
     "name": "stdout",
     "output_type": "stream",
     "text": [
      "0.7468241328124269 0.7468241328124271 8.291413475940725e-15\n"
     ]
    }
   ],
   "source": [
    "res, err =  quad(f, 0, 1)\n",
    "print(np.sqrt(np.pi) / 2 * erf(1), res, err)"
   ]
  },
  {
   "cell_type": "markdown",
   "metadata": {
    "colab_type": "text",
    "id": "huwe8P9LeSaq"
   },
   "source": [
    "## 7. Сохранение в файл и чтение из файла"
   ]
  },
  {
   "cell_type": "code",
   "execution_count": 133,
   "metadata": {
    "ExecuteTime": {
     "end_time": "2020-03-05T18:43:16.610398Z",
     "start_time": "2020-03-05T18:43:16.531961Z"
    },
    "colab": {},
    "colab_type": "code",
    "id": "2XDE5GHzeSar"
   },
   "outputs": [],
   "source": [
    "x = np.arange(0, 25, 0.5).reshape((5, 10))\n",
    "\n",
    "# Сохраняем в файл example.txt данные x в формате с двумя точками после запятой и разделителем ';'\n",
    "np.savetxt('example.txt', x, fmt='%.2f', delimiter=';')"
   ]
  },
  {
   "cell_type": "markdown",
   "metadata": {
    "colab_type": "text",
    "id": "B9RcBcSpeSas"
   },
   "source": [
    "Получится такой файл"
   ]
  },
  {
   "cell_type": "code",
   "execution_count": 134,
   "metadata": {
    "ExecuteTime": {
     "end_time": "2020-03-05T18:43:16.832853Z",
     "start_time": "2020-03-05T18:43:16.614203Z"
    },
    "colab": {},
    "colab_type": "code",
    "id": "dqoUbX3meSas",
    "outputId": "02346523-d21c-4dbb-9792-06348c3cfde7"
   },
   "outputs": [
    {
     "name": "stdout",
     "output_type": "stream",
     "text": [
      "0.00;0.50;1.00;1.50;2.00;2.50;3.00;3.50;4.00;4.50\r\n",
      "5.00;5.50;6.00;6.50;7.00;7.50;8.00;8.50;9.00;9.50\r\n",
      "10.00;10.50;11.00;11.50;12.00;12.50;13.00;13.50;14.00;14.50\r\n",
      "15.00;15.50;16.00;16.50;17.00;17.50;18.00;18.50;19.00;19.50\r\n",
      "20.00;20.50;21.00;21.50;22.00;22.50;23.00;23.50;24.00;24.50\r\n"
     ]
    }
   ],
   "source": [
    "! cat example.txt"
   ]
  },
  {
   "cell_type": "markdown",
   "metadata": {
    "colab_type": "text",
    "id": "EMfZ9-KceSat"
   },
   "source": [
    "Теперь его можно прочитать"
   ]
  },
  {
   "cell_type": "code",
   "execution_count": 135,
   "metadata": {
    "ExecuteTime": {
     "end_time": "2020-03-05T18:43:16.861737Z",
     "start_time": "2020-03-05T18:43:16.841224Z"
    },
    "colab": {},
    "colab_type": "code",
    "id": "AzLywGeKeSat",
    "outputId": "494c4167-bc92-48f0-9049-22bdf4ebfb80"
   },
   "outputs": [
    {
     "name": "stdout",
     "output_type": "stream",
     "text": [
      "[[ 0.   0.5  1.   1.5  2.   2.5  3.   3.5  4.   4.5]\n",
      " [ 5.   5.5  6.   6.5  7.   7.5  8.   8.5  9.   9.5]\n",
      " [10.  10.5 11.  11.5 12.  12.5 13.  13.5 14.  14.5]\n",
      " [15.  15.5 16.  16.5 17.  17.5 18.  18.5 19.  19.5]\n",
      " [20.  20.5 21.  21.5 22.  22.5 23.  23.5 24.  24.5]]\n"
     ]
    }
   ],
   "source": [
    "x = np.loadtxt('example.txt', delimiter=';')\n",
    "print(x)"
   ]
  },
  {
   "cell_type": "markdown",
   "metadata": {
    "colab_type": "text",
    "id": "Y4voLe-LeSau"
   },
   "source": [
    "## 8. Производительность numpy\n",
    "\n",
    "Посмотрим на простой пример --- сумма первых $10^8$ чисел."
   ]
  },
  {
   "cell_type": "code",
   "execution_count": 136,
   "metadata": {
    "ExecuteTime": {
     "end_time": "2020-03-05T18:43:27.151329Z",
     "start_time": "2020-03-05T18:43:16.865361Z"
    },
    "code_folding": [],
    "colab": {},
    "colab_type": "code",
    "id": "nvCQ_4WReSav",
    "outputId": "56d941b0-f0b8-4e42-dd04-8b9fc0ad3ab5"
   },
   "outputs": [
    {
     "name": "stdout",
     "output_type": "stream",
     "text": [
      "4999999950000000\n",
      "CPU times: user 10.2 s, sys: 0 ns, total: 10.2 s\n",
      "Wall time: 10.2 s\n"
     ]
    }
   ],
   "source": [
    "%%time\n",
    "\n",
    "sum_value = 0\n",
    "for i in range(10 ** 8):\n",
    "    sum_value += i\n",
    "print(sum_value)"
   ]
  },
  {
   "cell_type": "markdown",
   "metadata": {
    "colab_type": "text",
    "id": "v4SQIcy8eSaw"
   },
   "source": [
    "Немного улучшеный код"
   ]
  },
  {
   "cell_type": "code",
   "execution_count": 137,
   "metadata": {
    "ExecuteTime": {
     "end_time": "2020-03-05T18:43:29.002960Z",
     "start_time": "2020-03-05T18:43:27.153265Z"
    },
    "colab": {},
    "colab_type": "code",
    "id": "ewr9BFMpeSaw",
    "outputId": "f26df289-8e21-479d-da96-0d1a877c82ec"
   },
   "outputs": [
    {
     "name": "stdout",
     "output_type": "stream",
     "text": [
      "4999999950000000\n",
      "CPU times: user 1.85 s, sys: 0 ns, total: 1.85 s\n",
      "Wall time: 1.85 s\n"
     ]
    }
   ],
   "source": [
    "%%time\n",
    "\n",
    "sum_value = sum(range(10 ** 8))\n",
    "print(sum_value)"
   ]
  },
  {
   "cell_type": "markdown",
   "metadata": {
    "colab_type": "text",
    "id": "pUjiYs86eSax"
   },
   "source": [
    "Код с использованием функций библиотеки numpy"
   ]
  },
  {
   "cell_type": "code",
   "execution_count": 138,
   "metadata": {
    "ExecuteTime": {
     "end_time": "2020-03-05T18:43:29.457118Z",
     "start_time": "2020-03-05T18:43:29.004639Z"
    },
    "colab": {},
    "colab_type": "code",
    "id": "Jv6RFksoeSax",
    "outputId": "956f4589-0e80-4502-cb91-f1089e3015c0"
   },
   "outputs": [
    {
     "name": "stdout",
     "output_type": "stream",
     "text": [
      "4999999950000000\n",
      "CPU times: user 165 ms, sys: 125 ms, total: 290 ms\n",
      "Wall time: 288 ms\n"
     ]
    }
   ],
   "source": [
    "%%time\n",
    "\n",
    "sum_value = np.arange(10 ** 8).sum()\n",
    "print(sum_value)"
   ]
  },
  {
   "cell_type": "markdown",
   "metadata": {
    "colab_type": "text",
    "id": "ya-V2P3veSay"
   },
   "source": [
    "Простой и понятный код работает в $30$ раз быстрее!\n",
    "\n",
    "Посмотрим на другой пример. Сгенерируем матрицу размера $500\\times1000$, и вычислим средний минимум по колонкам.\n",
    "\n",
    "Простой код, но при этом даже использующий некоторые питон-функции\n",
    "\n",
    "*Замечание*. Далее с помощью `scipy.stats` происходит генерация случайных чисел из равномерного распределения на отрезке $[0, 1]$. Этот модуль будем изучать на следующем занятии."
   ]
  },
  {
   "cell_type": "code",
   "execution_count": 139,
   "metadata": {
    "ExecuteTime": {
     "end_time": "2020-03-05T18:43:30.006026Z",
     "start_time": "2020-03-05T18:43:29.458732Z"
    },
    "colab": {},
    "colab_type": "code",
    "id": "Ulfmy68keSaz"
   },
   "outputs": [],
   "source": [
    "import scipy.stats as sps"
   ]
  },
  {
   "cell_type": "code",
   "execution_count": 140,
   "metadata": {
    "ExecuteTime": {
     "end_time": "2020-03-05T18:43:47.855694Z",
     "start_time": "2020-03-05T18:43:30.008082Z"
    },
    "colab": {},
    "colab_type": "code",
    "id": "bp_qnnwPeSaz",
    "outputId": "2b3ec1fd-b0a7-4166-ad31-8a1a45040699"
   },
   "outputs": [
    {
     "name": "stdout",
     "output_type": "stream",
     "text": [
      "0.0036667660232181393\n",
      "CPU times: user 17.8 s, sys: 127 ms, total: 18 s\n",
      "Wall time: 17.8 s\n"
     ]
    }
   ],
   "source": [
    "%%time\n",
    "\n",
    "N, M = 500, 1000\n",
    "matrix = []\n",
    "for i in range(N):\n",
    "    matrix.append([sps.uniform.rvs() for j in range(M)])\n",
    "\n",
    "min_col = [min([matrix[i][j] for i in range(N)]) for j in range(M)]\n",
    "mean_min = sum(min_col) / N\n",
    "print(mean_min)"
   ]
  },
  {
   "cell_type": "markdown",
   "metadata": {
    "colab_type": "text",
    "id": "c47oHwHzeSa0"
   },
   "source": [
    "Понятный код с использованием функций библиотеки numpy"
   ]
  },
  {
   "cell_type": "code",
   "execution_count": 141,
   "metadata": {
    "ExecuteTime": {
     "end_time": "2020-03-05T18:43:48.111714Z",
     "start_time": "2020-03-05T18:43:47.857437Z"
    },
    "colab": {},
    "colab_type": "code",
    "id": "h1WGN9hseSa0",
    "outputId": "7e9c2643-8907-4339-ef24-b34c3f92b0f5"
   },
   "outputs": [
    {
     "name": "stdout",
     "output_type": "stream",
     "text": [
      "0.0010493006401683025\n",
      "CPU times: user 60.5 ms, sys: 7.98 ms, total: 68.5 ms\n",
      "Wall time: 250 ms\n"
     ]
    }
   ],
   "source": [
    "%%time\n",
    "\n",
    "N, M = 500, 1000\n",
    "matrix = sps.uniform.rvs(size=(N, M))\n",
    "mean_min = matrix.min(axis=1).mean()\n",
    "print(mean_min)"
   ]
  },
  {
   "cell_type": "markdown",
   "metadata": {
    "colab_type": "text",
    "id": "ABVSxP6seSa1"
   },
   "source": [
    "Простой и понятный код работает в 1500 раз быстрее!"
   ]
  },
  {
   "cell_type": "markdown",
   "metadata": {},
   "source": [
    "## 9. Суммы Эйнштейна\n",
    "\n",
    "С помощью соглашения Эйнштейна о суммировании, многие общие многомерные линейные алгебраические операции с массивами могут быть представлены простым способом.\n",
    "\n",
    "`Если одна и та же буква в обозначении индекса встречается и сверху, и снизу, то такой член полагается просуммированным по всем значениям, которые может принимать этот индекс. `\n",
    "\n",
    "Например, выражение $c_j = a_i b^i_j$ понимается как $c_j = \\sum_{i=1}^n a_i b^i_j$.\n",
    "\n",
    "Подобные операции часто возникают в анализе данных, в особенности при реализации байесовских методов.\n",
    "\n",
    "В `numpy` такие операции реализует функция `einsum`, причем здесь не делается разницы между нижними и верхними индексами. Функция принимает на вход сигнатуру операции в виде текстовой строки и матрицы с данными.\n",
    "\n",
    "Разберем на примере выше. В данном случае сигнатура имеет вид `i,ji->j`. Элементы сигнатуры последовательно означают следующее (тензор = многомерная матрица):\n",
    "* `i` --- объявление обозначений индексов тензора $A$. Поскольку индекс один, то тем самым $A$ должен быть вектором.\n",
    "* `,` --- переход к объявлению индексов следующему тензору.\n",
    "* `ji` --- объявление обозначений индексов тензора $B$. Поскольку индекса два, то тем самым $B$ должен быть матрицей.\n",
    "* `->` --- разграничение входа и выхода.\n",
    "* `j` --- индекс на выходе. Поскольку индекс $i$ объявлен на входе и не объявлен на выходе, по нему происходит суммирование поэлементных произведений."
   ]
  },
  {
   "cell_type": "code",
   "execution_count": 142,
   "metadata": {
    "ExecuteTime": {
     "end_time": "2020-03-05T18:43:48.192504Z",
     "start_time": "2020-03-05T18:43:48.116436Z"
    }
   },
   "outputs": [
    {
     "name": "stdout",
     "output_type": "stream",
     "text": [
      "[0 1 2]\n",
      "[[ 10  15  20]\n",
      " [100 150 200]]\n"
     ]
    }
   ],
   "source": [
    "A = np.array([0, 1, 2])\n",
    "B = np.array([[10, 15, 20], [100, 150, 200]])\n",
    "print(A)\n",
    "print(B)"
   ]
  },
  {
   "cell_type": "markdown",
   "metadata": {},
   "source": [
    "$c_0 = a_0 \\cdot b^0_0 + a_1 \\cdot b^1_0 + a_2 \\cdot b^2_0$. В нашем случае: $c_0 = 0 \\cdot 1 + 1 \\cdot 15 + 2 \\cdot 20$  \n",
    "$c_1 = a_0 \\cdot b^0_1 + a_1 \\cdot b^1_1 + a_2 \\cdot b^2_1$. В нашем случае: $c_1 = 0 \\cdot 1 + 1 \\cdot 150 + 2 \\cdot 200$  "
   ]
  },
  {
   "cell_type": "code",
   "execution_count": null,
   "metadata": {},
   "outputs": [],
   "source": [
    "np.einsum('i,ji->j', A, B)"
   ]
  },
  {
   "cell_type": "markdown",
   "metadata": {},
   "source": [
    "Суммирование элементов вектора $A$"
   ]
  },
  {
   "cell_type": "code",
   "execution_count": null,
   "metadata": {},
   "outputs": [],
   "source": [
    "np.einsum('i->', A)"
   ]
  },
  {
   "cell_type": "markdown",
   "metadata": {},
   "source": [
    "Суммирование элементов матрицы $B$ по столбцам"
   ]
  },
  {
   "cell_type": "code",
   "execution_count": null,
   "metadata": {},
   "outputs": [],
   "source": [
    "np.einsum('ji->i', B)"
   ]
  },
  {
   "cell_type": "markdown",
   "metadata": {},
   "source": [
    "Рассмотрим следующие матрицы"
   ]
  },
  {
   "cell_type": "code",
   "execution_count": null,
   "metadata": {},
   "outputs": [],
   "source": [
    "A = np.array([[0, 1, 2], [3, 4, 5]])\n",
    "B = np.array([[0, 1], [10, 100], [30, 70]])\n",
    "print(A)\n",
    "print(B)"
   ]
  },
  {
   "cell_type": "markdown",
   "metadata": {},
   "source": [
    "Транспонирование матрицы $A$"
   ]
  },
  {
   "cell_type": "code",
   "execution_count": null,
   "metadata": {},
   "outputs": [],
   "source": [
    "np.einsum('ij->ji', A) "
   ]
  },
  {
   "cell_type": "markdown",
   "metadata": {},
   "source": [
    "Матричное умножение"
   ]
  },
  {
   "cell_type": "code",
   "execution_count": null,
   "metadata": {},
   "outputs": [],
   "source": [
    "np.einsum('ij,jk->ik', A, B) "
   ]
  },
  {
   "cell_type": "markdown",
   "metadata": {},
   "source": [
    "Можно наоборот"
   ]
  },
  {
   "cell_type": "code",
   "execution_count": null,
   "metadata": {},
   "outputs": [],
   "source": [
    "np.einsum('jk,ij->ik', B, A) "
   ]
  },
  {
   "cell_type": "markdown",
   "metadata": {},
   "source": [
    "Квадратная матрица"
   ]
  },
  {
   "cell_type": "code",
   "execution_count": null,
   "metadata": {},
   "outputs": [],
   "source": [
    "C = np.arange(9).reshape((3, 3))\n",
    "C"
   ]
  },
  {
   "cell_type": "markdown",
   "metadata": {},
   "source": [
    "Диагональ"
   ]
  },
  {
   "cell_type": "code",
   "execution_count": null,
   "metadata": {},
   "outputs": [],
   "source": [
    "np.einsum('ii->i', C)"
   ]
  },
  {
   "cell_type": "markdown",
   "metadata": {},
   "source": [
    "След"
   ]
  },
  {
   "cell_type": "code",
   "execution_count": null,
   "metadata": {},
   "outputs": [],
   "source": [
    "np.einsum('ii->', C)"
   ]
  },
  {
   "cell_type": "markdown",
   "metadata": {},
   "source": [
    "Какая-то странная операция"
   ]
  },
  {
   "cell_type": "code",
   "execution_count": null,
   "metadata": {},
   "outputs": [],
   "source": [
    "np.einsum('ij,kj,jl->ilk', A, C, B) "
   ]
  },
  {
   "cell_type": "markdown",
   "metadata": {},
   "source": [
    "**Упражнение.** Создайте матрицы $A\\in\\mathbb{R}^{3\\times2}, B\\in\\mathbb{R}^{2\\times2}$. Посчитайте $\\text{tr} (ABBA^T)$"
   ]
  }
 ],
 "metadata": {
  "colab": {
   "name": "02-numpy.ipynb",
   "provenance": []
  },
  "kernelspec": {
   "display_name": "Python 3",
   "language": "python",
   "name": "python3"
  },
  "language_info": {
   "codemirror_mode": {
    "name": "ipython",
    "version": 3
   },
   "file_extension": ".py",
   "mimetype": "text/x-python",
   "name": "python",
   "nbconvert_exporter": "python",
   "pygments_lexer": "ipython3",
   "version": "3.7.6"
  }
 },
 "nbformat": 4,
 "nbformat_minor": 1
}
